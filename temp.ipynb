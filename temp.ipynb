{
 "cells": [
  {
   "cell_type": "code",
   "execution_count": 6,
   "id": "41f442f7-816d-4e58-9df2-fe0075267388",
   "metadata": {},
   "outputs": [],
   "source": [
    "from going_modular.prediction import custom_predictions\n",
    "from pathlib import Path"
   ]
  },
  {
   "cell_type": "code",
   "execution_count": null,
   "id": "a7f0bd3e-4845-473d-b872-7cb2717c05c2",
   "metadata": {},
   "outputs": [],
   "source": [
    "sample=Path(\"data/pizza_steak_sushi/test/pizza\")\n",
    "\n",
    "custom_predictions()"
   ]
  }
 ],
 "metadata": {
  "kernelspec": {
   "display_name": "Python 3 (ipykernel)",
   "language": "python",
   "name": "python3"
  },
  "language_info": {
   "codemirror_mode": {
    "name": "ipython",
    "version": 3
   },
   "file_extension": ".py",
   "mimetype": "text/x-python",
   "name": "python",
   "nbconvert_exporter": "python",
   "pygments_lexer": "ipython3",
   "version": "3.8.18"
  }
 },
 "nbformat": 4,
 "nbformat_minor": 5
}

{
 "cells": [
  {
   "cell_type": "code",
   "execution_count": 1,
   "id": "41d07d50-e1ee-4673-9965-daab6f0b326b",
   "metadata": {},
   "outputs": [],
   "source": [
    "import torch"
   ]
  },
  {
   "cell_type": "markdown",
   "id": "d5ab006e-6b3e-4ef1-a470-d08b841dc47f",
   "metadata": {},
   "source": [
    "# Random tensors"
   ]
  },
  {
   "cell_type": "code",
   "execution_count": 9,
   "id": "b34f6a86-e6dd-4003-8bad-48be3e9f3db5",
   "metadata": {},
   "outputs": [
    {
     "data": {
      "text/plain": [
       "tensor([[-0.6090,  2.5463,  0.5316, -0.6832],\n",
       "        [ 0.3597, -1.1426,  0.2145, -0.3198],\n",
       "        [-0.4825, -2.0088,  0.0101,  0.3307]])"
      ]
     },
     "execution_count": 9,
     "metadata": {},
     "output_type": "execute_result"
    }
   ],
   "source": [
    "rand=torch.randn(3,4)\n",
    "rand"
   ]
  },
  {
   "cell_type": "code",
   "execution_count": 10,
   "id": "c9d4e439-16d8-4848-969e-10a7dcfa9a49",
   "metadata": {},
   "outputs": [
    {
     "data": {
      "text/plain": [
       "2"
      ]
     },
     "execution_count": 10,
     "metadata": {},
     "output_type": "execute_result"
    }
   ],
   "source": [
    "rand.ndim"
   ]
  },
  {
   "cell_type": "code",
   "execution_count": 11,
   "id": "5816cc9f-d355-4810-9fcc-65e403224de3",
   "metadata": {},
   "outputs": [
    {
     "data": {
      "text/plain": [
       "3"
      ]
     },
     "execution_count": 11,
     "metadata": {},
     "output_type": "execute_result"
    }
   ],
   "source": [
    "rand_2=torch.randn(10,10,10)\n",
    "rand_2.ndim"
   ]
  },
  {
   "cell_type": "code",
   "execution_count": 12,
   "id": "8adec3e7-9660-4c21-8b51-e8689a155090",
   "metadata": {},
   "outputs": [
    {
     "data": {
      "text/plain": [
       "(torch.Size([3, 4, 4]), 3)"
      ]
     },
     "execution_count": 12,
     "metadata": {},
     "output_type": "execute_result"
    }
   ],
   "source": [
    "random_image_tensor=torch.randn(3,4,4)  #this is the value for channels,height and width\n",
    "random_image_tensor.shape,random_image_tensor.ndim"
   ]
  },
  {
   "cell_type": "code",
   "execution_count": null,
   "id": "75f25189-78d0-4b5d-a988-8392eb54fd4c",
   "metadata": {},
   "outputs": [],
   "source": []
  }
 ],
 "metadata": {
  "kernelspec": {
   "display_name": "Python 3 (ipykernel)",
   "language": "python",
   "name": "python3"
  },
  "language_info": {
   "codemirror_mode": {
    "name": "ipython",
    "version": 3
   },
   "file_extension": ".py",
   "mimetype": "text/x-python",
   "name": "python",
   "nbconvert_exporter": "python",
   "pygments_lexer": "ipython3",
   "version": "3.8.18"
  }
 },
 "nbformat": 4,
 "nbformat_minor": 5
}

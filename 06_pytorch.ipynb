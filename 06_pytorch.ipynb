{
 "cells": [
  {
   "cell_type": "code",
   "execution_count": 2,
   "id": "b1f7b926-3e3e-44dd-9898-04fac6ed71d4",
   "metadata": {},
   "outputs": [],
   "source": [
    "import torch"
   ]
  },
  {
   "cell_type": "markdown",
   "id": "8f2c893b-b484-48b2-a6f4-e65ec91e762b",
   "metadata": {},
   "source": [
    "# reshapping,stacking,squeezing and unsqueezing tensors"
   ]
  },
  {
   "cell_type": "code",
   "execution_count": null,
   "id": "e2ac69ae-5cd3-42f9-9a3c-4b09332e006a",
   "metadata": {},
   "outputs": [],
   "source": []
  }
 ],
 "metadata": {
  "kernelspec": {
   "display_name": "Python 3 (ipykernel)",
   "language": "python",
   "name": "python3"
  },
  "language_info": {
   "codemirror_mode": {
    "name": "ipython",
    "version": 3
   },
   "file_extension": ".py",
   "mimetype": "text/x-python",
   "name": "python",
   "nbconvert_exporter": "python",
   "pygments_lexer": "ipython3",
   "version": "3.8.18"
  }
 },
 "nbformat": 4,
 "nbformat_minor": 5
}

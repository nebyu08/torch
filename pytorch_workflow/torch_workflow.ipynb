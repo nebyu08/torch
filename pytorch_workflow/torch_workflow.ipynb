{
  "nbformat": 4,
  "nbformat_minor": 0,
  "metadata": {
    "colab": {
      "provenance": [],
      "authorship_tag": "ABX9TyOBIsrU7x1Q/xzNUWbckEAX",
      "include_colab_link": true
    },
    "kernelspec": {
      "name": "python3",
      "display_name": "Python 3"
    },
    "language_info": {
      "name": "python"
    }
  },
  "cells": [
    {
      "cell_type": "markdown",
      "metadata": {
        "id": "view-in-github",
        "colab_type": "text"
      },
      "source": [
        "<a href=\"https://colab.research.google.com/github/nebyu08/torch/blob/master/torch_workflow.ipynb\" target=\"_parent\"><img src=\"https://colab.research.google.com/assets/colab-badge.svg\" alt=\"Open In Colab\"/></a>"
      ]
    },
    {
      "cell_type": "code",
      "execution_count": 75,
      "metadata": {
        "id": "GZcpNUrrJMjH"
      },
      "outputs": [],
      "source": [
        "import pandas as pd\n",
        "import numpy as np\n",
        "import torch\n",
        "import matplotlib.pyplot as plt\n",
        "from sklearn.model_selection import train_test_split"
      ]
    },
    {
      "cell_type": "code",
      "source": [
        "torch.__version__"
      ],
      "metadata": {
        "colab": {
          "base_uri": "https://localhost:8080/",
          "height": 35
        },
        "id": "5n0svw9WJV2T",
        "outputId": "0ada3577-bfbf-4365-ae34-3ee641f60bb7"
      },
      "execution_count": 76,
      "outputs": [
        {
          "output_type": "execute_result",
          "data": {
            "text/plain": [
              "'2.1.0+cu121'"
            ],
            "application/vnd.google.colaboratory.intrinsic+json": {
              "type": "string"
            }
          },
          "metadata": {},
          "execution_count": 76
        }
      ]
    },
    {
      "cell_type": "markdown",
      "source": [
        "# Data processing"
      ],
      "metadata": {
        "id": "LzSK6HLQLGzE"
      }
    },
    {
      "cell_type": "code",
      "source": [
        "temp=torch.randn(1,34,3)\n",
        "print(temp.shape)\n",
        "print(temp.unsqueeze(dim=1).shape)"
      ],
      "metadata": {
        "colab": {
          "base_uri": "https://localhost:8080/"
        },
        "id": "4jcpUDbZKvmM",
        "outputId": "befb687b-70fc-4fad-a0c9-43b828d35320"
      },
      "execution_count": 77,
      "outputs": [
        {
          "output_type": "stream",
          "name": "stdout",
          "text": [
            "torch.Size([1, 34, 3])\n",
            "torch.Size([1, 1, 34, 3])\n"
          ]
        }
      ]
    },
    {
      "cell_type": "code",
      "source": [
        "weights=0.7\n",
        "bias=0.3\n",
        "\n",
        "#create data\n",
        "start=0\n",
        "end=1\n",
        "step=0.02\n",
        "\n",
        "x=torch.arange(start,end,step).unsqueeze(dim=1)\n",
        "y=weights*x + bias\n",
        "x[:10],y[:10]"
      ],
      "metadata": {
        "colab": {
          "base_uri": "https://localhost:8080/"
        },
        "id": "qYODFOhmMss5",
        "outputId": "076f0fc4-efe3-4893-f524-0f6b36f4afc6"
      },
      "execution_count": 78,
      "outputs": [
        {
          "output_type": "execute_result",
          "data": {
            "text/plain": [
              "(tensor([[0.0000],\n",
              "         [0.0200],\n",
              "         [0.0400],\n",
              "         [0.0600],\n",
              "         [0.0800],\n",
              "         [0.1000],\n",
              "         [0.1200],\n",
              "         [0.1400],\n",
              "         [0.1600],\n",
              "         [0.1800]]),\n",
              " tensor([[0.3000],\n",
              "         [0.3140],\n",
              "         [0.3280],\n",
              "         [0.3420],\n",
              "         [0.3560],\n",
              "         [0.3700],\n",
              "         [0.3840],\n",
              "         [0.3980],\n",
              "         [0.4120],\n",
              "         [0.4260]]))"
            ]
          },
          "metadata": {},
          "execution_count": 78
        }
      ]
    },
    {
      "cell_type": "code",
      "source": [
        "#create a train/test split\n",
        "train_split=int(0.8*len(x))\n",
        "x_train,y_train=x[:train_split],y[:train_split]\n",
        "x_test,y_test=x[train_split:],y[train_split:]\n",
        "print(len(x_train))\n",
        "print(len(x_test))"
      ],
      "metadata": {
        "colab": {
          "base_uri": "https://localhost:8080/"
        },
        "id": "lvx8yLRUQKaw",
        "outputId": "790286c6-90ee-418f-95f1-699d36038bac"
      },
      "execution_count": 79,
      "outputs": [
        {
          "output_type": "stream",
          "name": "stdout",
          "text": [
            "40\n",
            "10\n"
          ]
        }
      ]
    },
    {
      "cell_type": "markdown",
      "source": [
        "# data visualization"
      ],
      "metadata": {
        "id": "bTDfSYv0auos"
      }
    },
    {
      "cell_type": "code",
      "source": [
        "def plot_predictions(x_train=x_train,y_train=y_train,\n",
        "                     x_test=x_test,y_test=y_test,\n",
        "                     predictions=None):\n",
        "  '''this plots the training,testing and prediction of the model'''\n",
        "  plt.figure(figsize=(10,7))\n",
        "\n",
        "  #visualizing the training data\n",
        "  plt.scatter(x_train,y_train,c=\"b\",s=4,label=\"training data\");\n",
        "  #visualizing the testing set of the data\n",
        "  plt.scatter(x_test,y_test,c=\"g\",s=6,label=\"testing label\");\n",
        "  if (predictions is not None):\n",
        "\n",
        "    '''displays the difference between actual and predicted'''\n",
        "\n",
        "    plt.scatter(y_test,predictions,c=\"r\",label=\"predictions\",s=4);\n",
        "  plt.legend(prop={\"size\":14})\n",
        "  plt.show()"
      ],
      "metadata": {
        "id": "YdgDN9LTWqI4"
      },
      "execution_count": 80,
      "outputs": []
    },
    {
      "cell_type": "code",
      "source": [
        "plot_predictions(x_train,y_train,x_test,y_test)"
      ],
      "metadata": {
        "colab": {
          "base_uri": "https://localhost:8080/",
          "height": 599
        },
        "id": "Z6Ai6l1QWvmy",
        "outputId": "f4e2515f-016b-4c70-a38f-6e006afde3af"
      },
      "execution_count": 81,
      "outputs": [
        {
          "output_type": "display_data",
          "data": {
            "text/plain": [
              "<Figure size 1000x700 with 1 Axes>"
            ],
            "image/png": "[encoded data removed]"
          },
          "metadata": {}
        }
      ]
    },
    {
      "cell_type": "markdown",
      "source": [
        "# creating our first torch model"
      ],
      "metadata": {
        "id": "o7Iwo6vwgPH6"
      }
    },
    {
      "cell_type": "code",
      "source": [
        "from torch import nn\n",
        "\n",
        "class LinearRegressionModel(nn.Module):\n",
        "  def __init__(self):\n",
        "    super().__init__()\n",
        "    self.weights=nn.Parameter(torch.randn(1,\n",
        "                               dtype=torch.float32),\n",
        "                              requires_grad=True)\n",
        "\n",
        "    self.bias=nn.Parameter(torch.randn(1,\n",
        "                            dtype=torch.float32),requires_grad=True)\n",
        "\n",
        "  def forward(self,x:torch.Tensor)->torch.Tensor:\n",
        "    return (x*self.weights+self.bias)\n"
      ],
      "metadata": {
        "id": "Lv5ziHbpfRVl"
      },
      "execution_count": 82,
      "outputs": []
    },
    {
      "cell_type": "code",
      "source": [
        "x=torch.tensor([12,23,34,21,2])\n",
        "x.dtype"
      ],
      "metadata": {
        "colab": {
          "base_uri": "https://localhost:8080/"
        },
        "id": "xeaxaXs_o3Uo",
        "outputId": "9bf6cafa-43f2-4262-8f33-11caf39bf1cd"
      },
      "execution_count": 83,
      "outputs": [
        {
          "output_type": "execute_result",
          "data": {
            "text/plain": [
              "torch.int64"
            ]
          },
          "metadata": {},
          "execution_count": 83
        }
      ]
    },
    {
      "cell_type": "code",
      "source": [
        "#create a random seed\n",
        "torch.manual_seed(42)\n",
        "model=LinearRegressionModel()\n",
        "model"
      ],
      "metadata": {
        "colab": {
          "base_uri": "https://localhost:8080/"
        },
        "id": "7zxvzAz_RD0d",
        "outputId": "7525342b-ad63-47f6-eec9-96ae37b05dba"
      },
      "execution_count": 84,
      "outputs": [
        {
          "output_type": "execute_result",
          "data": {
            "text/plain": [
              "LinearRegressionModel()"
            ]
          },
          "metadata": {},
          "execution_count": 84
        }
      ]
    },
    {
      "cell_type": "code",
      "source": [
        "#lets look at the models parameters\n",
        "list(model.parameters())"
      ],
      "metadata": {
        "colab": {
          "base_uri": "https://localhost:8080/"
        },
        "id": "1QC1-HBYfh2I",
        "outputId": "1292e6ce-ac64-4859-e217-c255cfe99382"
      },
      "execution_count": 85,
      "outputs": [
        {
          "output_type": "execute_result",
          "data": {
            "text/plain": [
              "[Parameter containing:\n",
              " tensor([0.3367], requires_grad=True),\n",
              " Parameter containing:\n",
              " tensor([0.1288], requires_grad=True)]"
            ]
          },
          "metadata": {},
          "execution_count": 85
        }
      ]
    },
    {
      "cell_type": "code",
      "source": [
        "# lets see the values of the model\n",
        "model.state_dict()"
      ],
      "metadata": {
        "colab": {
          "base_uri": "https://localhost:8080/"
        },
        "id": "tEQWld0Oi2oL",
        "outputId": "48174b90-d8e3-46a4-a45e-fa12413e4e77"
      },
      "execution_count": 86,
      "outputs": [
        {
          "output_type": "execute_result",
          "data": {
            "text/plain": [
              "OrderedDict([('weights', tensor([0.3367])), ('bias', tensor([0.1288]))])"
            ]
          },
          "metadata": {},
          "execution_count": 86
        }
      ]
    },
    {
      "cell_type": "code",
      "source": [
        "weights,bias"
      ],
      "metadata": {
        "colab": {
          "base_uri": "https://localhost:8080/"
        },
        "id": "vdtQB50skJW8",
        "outputId": "538c2dbb-7948-40f5-c8f5-45ebb073700c"
      },
      "execution_count": 87,
      "outputs": [
        {
          "output_type": "execute_result",
          "data": {
            "text/plain": [
              "(0.7, 0.3)"
            ]
          },
          "metadata": {},
          "execution_count": 87
        }
      ]
    },
    {
      "cell_type": "code",
      "source": [
        "# lets see what the model predicts know with our training\n",
        "with torch.inference_mode():\n",
        "  y_preds=model(x_test)\n",
        "\n",
        "y_preds"
      ],
      "metadata": {
        "colab": {
          "base_uri": "https://localhost:8080/"
        },
        "id": "ZIrflvoEkPHM",
        "outputId": "91f70860-4e4f-43d2-b5bb-9161afad208d"
      },
      "execution_count": 88,
      "outputs": [
        {
          "output_type": "execute_result",
          "data": {
            "text/plain": [
              "tensor([[0.3982],\n",
              "        [0.4049],\n",
              "        [0.4116],\n",
              "        [0.4184],\n",
              "        [0.4251],\n",
              "        [0.4318],\n",
              "        [0.4386],\n",
              "        [0.4453],\n",
              "        [0.4520],\n",
              "        [0.4588]])"
            ]
          },
          "metadata": {},
          "execution_count": 88
        }
      ]
    },
    {
      "cell_type": "code",
      "source": [
        "y_preds==y_test"
      ],
      "metadata": {
        "colab": {
          "base_uri": "https://localhost:8080/"
        },
        "id": "QdHZkLe6llTO",
        "outputId": "973263fe-f9c0-43c4-8146-60cc533abb14"
      },
      "execution_count": 89,
      "outputs": [
        {
          "output_type": "execute_result",
          "data": {
            "text/plain": [
              "tensor([[False],\n",
              "        [False],\n",
              "        [False],\n",
              "        [False],\n",
              "        [False],\n",
              "        [False],\n",
              "        [False],\n",
              "        [False],\n",
              "        [False],\n",
              "        [False]])"
            ]
          },
          "metadata": {},
          "execution_count": 89
        }
      ]
    },
    {
      "cell_type": "code",
      "source": [
        "#visualizing the difference between actual and predicted labels\n",
        "plot_predictions(predictions=y_preds)"
      ],
      "metadata": {
        "colab": {
          "base_uri": "https://localhost:8080/",
          "height": 599
        },
        "id": "TDb7zrNPmfs4",
        "outputId": "208f7c31-5222-4f04-cf49-57be653ab022"
      },
      "execution_count": 90,
      "outputs": [
        {
          "output_type": "display_data",
          "data": {
            "text/plain": [
              "<Figure size 1000x700 with 1 Axes>"
            ],
            "image/png": "[encoded data removed]"
          },
          "metadata": {}
        }
      ]
    },
    {
      "cell_type": "markdown",
      "source": [
        "# setup a loss function and optimizer"
      ],
      "metadata": {
        "id": "HA3ZM_xwDywA"
      }
    },
    {
      "cell_type": "code",
      "source": [
        "#initializing loss obj\n",
        "loss_fn=torch.nn.L1Loss()\n",
        "\n",
        "#initializing optimizer obj\n",
        "optim=torch.optim.SGD(\n",
        "    params=model.parameters(),\n",
        "    lr=0.001\n",
        ")"
      ],
      "metadata": {
        "id": "e22gnIZDpnuC"
      },
      "execution_count": 91,
      "outputs": []
    },
    {
      "cell_type": "markdown",
      "source": [
        "# building a training and a testing loop"
      ],
      "metadata": {
        "id": "Nzgx00xZKVZ4"
      }
    },
    {
      "cell_type": "code",
      "source": [
        "torch.manual_seed(42)\n",
        "# lets make the training loop\n",
        "epochs=200\n",
        "\n",
        "#create empty loss\n",
        "train_loss_value=[]\n",
        "test_loss_value=[]\n",
        "epoch_count=[]\n",
        "\n",
        "\n",
        "for epoch in range(epochs):\n",
        "  #lets setup the model for training\n",
        "  model.train()\n",
        "\n",
        "  #forward pass\n",
        "  y_pred=model.forward(x_train)\n",
        "\n",
        "  #calculate the loss........this is the gradient decent\n",
        "  loss=loss_fn(y_pred,y_train)\n",
        "  print(f\"loss is {loss}\")\n",
        "\n",
        "  #lets do the optimizer\n",
        "  optim.zero_grad()\n",
        "\n",
        "  #lets do the backpropagation...calculating the derivatives of each parameter\n",
        "  loss.backward()\n",
        "\n",
        "  #lets update the weights/parameters\n",
        "  optim.step()\n",
        "\n",
        "  #lets make the model evaluation easy\n",
        "  model.eval()   #this turns off the gradient tracking,drop out/batch normalization\n",
        "  with torch.inference_mode():\n",
        "    y_test_pred=model.forward(x_test) #this is the forward pass in inference mode\n",
        "    #test loss\n",
        "    test_loss=loss_fn(y_test_pred,y_test)\n",
        "\n",
        "  if epoch%10==0:\n",
        "    epoch_count.append(epoch)\n",
        "    train_loss_value.append(loss.detach().numpy())\n",
        "    test_loss_value.append(test_loss.detach().numpy())\n",
        "    print(f\"epoch {epoch} : loss {loss} :test_loss {test_loss}\")\n",
        "\n",
        "#print(model.state_dict)\n",
        "\n"
      ],
      "metadata": {
        "colab": {
          "base_uri": "https://localhost:8080/"
        },
        "id": "7t1FjGiQQsOz",
        "outputId": "b34bee63-eec6-48e8-de10-1c4989fac9ed"
      },
      "execution_count": 92,
      "outputs": [
        {
          "output_type": "stream",
          "name": "stdout",
          "text": [
            "loss is 0.31288138031959534\n",
            "epoch 0 : loss 0.31288138031959534 :test_loss 0.4931890368461609\n",
            "loss is 0.3117292523384094\n",
            "loss is 0.3105771541595459\n",
            "loss is 0.3094250559806824\n",
            "loss is 0.30827295780181885\n",
            "loss is 0.3071208596229553\n",
            "loss is 0.3059687614440918\n",
            "loss is 0.3048166334629059\n",
            "loss is 0.30366456508636475\n",
            "loss is 0.3025124669075012\n",
            "loss is 0.3013603389263153\n",
            "epoch 10 : loss 0.3013603389263153 :test_loss 0.4797181189060211\n",
            "loss is 0.30020827054977417\n",
            "loss is 0.29905614256858826\n",
            "loss is 0.2979040741920471\n",
            "loss is 0.2967519462108612\n",
            "loss is 0.29559987783432007\n",
            "loss is 0.29444774985313416\n",
            "loss is 0.293295681476593\n",
            "loss is 0.2921435832977295\n",
            "loss is 0.2909914553165436\n",
            "loss is 0.28983938694000244\n",
            "epoch 20 : loss 0.28983938694000244 :test_loss 0.4662471413612366\n",
            "loss is 0.28868725895881653\n",
            "loss is 0.287535160779953\n",
            "loss is 0.2863830626010895\n",
            "loss is 0.28523099422454834\n",
            "loss is 0.2840788662433624\n",
            "loss is 0.2829267382621765\n",
            "loss is 0.281774640083313\n",
            "loss is 0.28062254190444946\n",
            "loss is 0.2794705033302307\n",
            "loss is 0.2783183455467224\n",
            "epoch 30 : loss 0.2783183455467224 :test_loss 0.4527761936187744\n",
            "loss is 0.2771662771701813\n",
            "loss is 0.27601414918899536\n",
            "loss is 0.2748620808124542\n",
            "loss is 0.2737099528312683\n",
            "loss is 0.2725578844547272\n",
            "loss is 0.27140578627586365\n",
            "loss is 0.2702536880970001\n",
            "loss is 0.2691015899181366\n",
            "loss is 0.26794949173927307\n",
            "loss is 0.26679736375808716\n",
            "epoch 40 : loss 0.26679736375808716 :test_loss 0.43930521607398987\n",
            "loss is 0.265645295381546\n",
            "loss is 0.2644931674003601\n",
            "loss is 0.2633410692214966\n",
            "loss is 0.26218897104263306\n",
            "loss is 0.26103687286376953\n",
            "loss is 0.259884774684906\n",
            "loss is 0.2587326467037201\n",
            "loss is 0.25758057832717896\n",
            "loss is 0.2564285099506378\n",
            "loss is 0.2552763819694519\n",
            "epoch 50 : loss 0.2552763819694519 :test_loss 0.4258342385292053\n",
            "loss is 0.2541242837905884\n",
            "loss is 0.25297218561172485\n",
            "loss is 0.2518201172351837\n",
            "loss is 0.2506679892539978\n",
            "loss is 0.24951589107513428\n",
            "loss is 0.24836377799510956\n",
            "loss is 0.24721169471740723\n",
            "loss is 0.2460596114397049\n",
            "loss is 0.2449074685573578\n",
            "loss is 0.24375538527965546\n",
            "epoch 60 : loss 0.24375538527965546 :test_loss 0.41236335039138794\n",
            "loss is 0.24260330200195312\n",
            "loss is 0.2414511889219284\n",
            "loss is 0.2402990758419037\n",
            "loss is 0.23914699256420135\n",
            "loss is 0.23799486458301544\n",
            "loss is 0.2368427962064743\n",
            "loss is 0.23569071292877197\n",
            "loss is 0.23453858494758606\n",
            "loss is 0.23338651657104492\n",
            "loss is 0.232234388589859\n",
            "epoch 70 : loss 0.232234388589859 :test_loss 0.398892343044281\n",
            "loss is 0.23108229041099548\n",
            "loss is 0.22993019223213196\n",
            "loss is 0.22877809405326843\n",
            "loss is 0.2276259958744049\n",
            "loss is 0.22647389769554138\n",
            "loss is 0.22532181441783905\n",
            "loss is 0.22416970133781433\n",
            "loss is 0.223017618060112\n",
            "loss is 0.2218654900789261\n",
            "loss is 0.22071340680122375\n",
            "epoch 80 : loss 0.22071340680122375 :test_loss 0.38542139530181885\n",
            "loss is 0.21956129372119904\n",
            "loss is 0.2184092104434967\n",
            "loss is 0.21725709736347198\n",
            "loss is 0.21610502898693085\n",
            "loss is 0.21495290100574493\n",
            "loss is 0.2138008177280426\n",
            "loss is 0.21264871954917908\n",
            "loss is 0.21149662137031555\n",
            "loss is 0.21034450829029083\n",
            "loss is 0.2091923952102661\n",
            "epoch 90 : loss 0.2091923952102661 :test_loss 0.3719504475593567\n",
            "loss is 0.20804031193256378\n",
            "loss is 0.20688819885253906\n",
            "loss is 0.20573611557483673\n",
            "loss is 0.2045840322971344\n",
            "loss is 0.20343191921710968\n",
            "loss is 0.20227983593940735\n",
            "loss is 0.20112769305706024\n",
            "loss is 0.1999756097793579\n",
            "loss is 0.1988234966993332\n",
            "loss is 0.19767141342163086\n",
            "epoch 100 : loss 0.19767141342163086 :test_loss 0.35847947001457214\n",
            "loss is 0.19651933014392853\n",
            "loss is 0.19536720216274261\n",
            "loss is 0.19421511888504028\n",
            "loss is 0.19306302070617676\n",
            "loss is 0.19191092252731323\n",
            "loss is 0.19075879454612732\n",
            "loss is 0.189606711268425\n",
            "loss is 0.18845462799072266\n",
            "loss is 0.18730251491069794\n",
            "loss is 0.18615040183067322\n",
            "epoch 110 : loss 0.18615040183067322 :test_loss 0.34500852227211\n",
            "loss is 0.18499833345413208\n",
            "loss is 0.18384622037410736\n",
            "loss is 0.18269412219524384\n",
            "loss is 0.1815420240163803\n",
            "loss is 0.18038992583751678\n",
            "loss is 0.17923781275749207\n",
            "loss is 0.17808572947978973\n",
            "loss is 0.17693361639976501\n",
            "loss is 0.1757815182209015\n",
            "loss is 0.17462942004203796\n",
            "epoch 120 : loss 0.17462942004203796 :test_loss 0.33153754472732544\n",
            "loss is 0.17347732186317444\n",
            "loss is 0.1723252385854721\n",
            "loss is 0.17117314040660858\n",
            "loss is 0.17002105712890625\n",
            "loss is 0.1688689887523651\n",
            "loss is 0.16771690547466278\n",
            "loss is 0.16656479239463806\n",
            "loss is 0.16541273891925812\n",
            "loss is 0.1642606407403946\n",
            "loss is 0.16310855746269226\n",
            "epoch 130 : loss 0.16310855746269226 :test_loss 0.3180667459964752\n",
            "loss is 0.16195647418498993\n",
            "loss is 0.1608043909072876\n",
            "loss is 0.15965232253074646\n",
            "loss is 0.15850022435188293\n",
            "loss is 0.1573481261730194\n",
            "loss is 0.15619607269763947\n",
            "loss is 0.15504398941993713\n",
            "loss is 0.1538918912410736\n",
            "loss is 0.15273980796337128\n",
            "loss is 0.15158770978450775\n",
            "epoch 140 : loss 0.15158770978450775 :test_loss 0.304595947265625\n",
            "loss is 0.1504356414079666\n",
            "loss is 0.14928355813026428\n",
            "loss is 0.14813147485256195\n",
            "loss is 0.14697939157485962\n",
            "loss is 0.1458273082971573\n",
            "loss is 0.14467521011829376\n",
            "loss is 0.14352312684059143\n",
            "loss is 0.1423710286617279\n",
            "loss is 0.14121896028518677\n",
            "loss is 0.14006686210632324\n",
            "epoch 150 : loss 0.14006686210632324 :test_loss 0.2911251187324524\n",
            "loss is 0.1389147937297821\n",
            "loss is 0.13776269555091858\n",
            "loss is 0.13661061227321625\n",
            "loss is 0.1354585438966751\n",
            "loss is 0.13430646061897278\n",
            "loss is 0.13315437734127045\n",
            "loss is 0.13200227916240692\n",
            "loss is 0.13085021078586578\n",
            "loss is 0.12969812750816345\n",
            "loss is 0.12854602932929993\n",
            "epoch 160 : loss 0.12854602932929993 :test_loss 0.2776543200016022\n",
            "loss is 0.1273939311504364\n",
            "loss is 0.12624187767505646\n",
            "loss is 0.12508977949619293\n",
            "loss is 0.12393768876791\n",
            "loss is 0.12278560549020767\n",
            "loss is 0.12163352966308594\n",
            "loss is 0.1204814463853836\n",
            "loss is 0.11932935565710068\n",
            "loss is 0.11817727237939835\n",
            "loss is 0.11702518165111542\n",
            "epoch 170 : loss 0.11702518165111542 :test_loss 0.26418352127075195\n",
            "loss is 0.11587311327457428\n",
            "loss is 0.11476147174835205\n",
            "loss is 0.11370686441659927\n",
            "loss is 0.1126522570848465\n",
            "loss is 0.11159764230251312\n",
            "loss is 0.11054304987192154\n",
            "loss is 0.10948844254016876\n",
            "loss is 0.10846539586782455\n",
            "loss is 0.10750406980514526\n",
            "loss is 0.10654274374246597\n",
            "epoch 180 : loss 0.10654274374246597 :test_loss 0.251315176486969\n",
            "loss is 0.10558142513036728\n",
            "loss is 0.10462009906768799\n",
            "loss is 0.1036587730050087\n",
            "loss is 0.10270978510379791\n",
            "loss is 0.10183751583099365\n",
            "loss is 0.10096526145935059\n",
            "loss is 0.10009298473596573\n",
            "loss is 0.09922071546316147\n",
            "loss is 0.09834843873977661\n",
            "loss is 0.09747617691755295\n",
            "epoch 190 : loss 0.09747617691755295 :test_loss 0.2392154484987259\n",
            "loss is 0.09663032740354538\n",
            "loss is 0.09584285318851471\n",
            "loss is 0.09505538642406464\n",
            "loss is 0.09426790475845337\n",
            "loss is 0.09348044544458389\n",
            "loss is 0.09269297122955322\n",
            "loss is 0.09190551191568375\n",
            "loss is 0.09114636480808258\n",
            "loss is 0.09043945372104645\n"
          ]
        }
      ]
    },
    {
      "cell_type": "code",
      "source": [
        "model.state_dict()"
      ],
      "metadata": {
        "colab": {
          "base_uri": "https://localhost:8080/"
        },
        "id": "5TiCBXuZUujR",
        "outputId": "5e7c6341-dbd6-4e2e-cf84-969f40159b16"
      },
      "execution_count": 93,
      "outputs": [
        {
          "output_type": "execute_result",
          "data": {
            "text/plain": [
              "OrderedDict([('weights', tensor([0.4146])), ('bias', tensor([0.3250]))])"
            ]
          },
          "metadata": {},
          "execution_count": 93
        }
      ]
    },
    {
      "cell_type": "code",
      "source": [
        "weights,bias"
      ],
      "metadata": {
        "colab": {
          "base_uri": "https://localhost:8080/"
        },
        "id": "GdXBWCjzfFyI",
        "outputId": "4a05ca98-02b1-46ae-b7fe-d06e6493d603"
      },
      "execution_count": 94,
      "outputs": [
        {
          "output_type": "execute_result",
          "data": {
            "text/plain": [
              "(0.7, 0.3)"
            ]
          },
          "metadata": {},
          "execution_count": 94
        }
      ]
    },
    {
      "cell_type": "markdown",
      "source": [
        "# lets see the difference before and after training"
      ],
      "metadata": {
        "id": "Y-v7wLNigp_m"
      }
    },
    {
      "cell_type": "code",
      "source": [
        "len(epoch_count),len(test_loss_value)"
      ],
      "metadata": {
        "colab": {
          "base_uri": "https://localhost:8080/"
        },
        "id": "5at27sATR7JI",
        "outputId": "7bc214fc-4a36-4c0b-b1b4-c516fdcfcabf"
      },
      "execution_count": 95,
      "outputs": [
        {
          "output_type": "execute_result",
          "data": {
            "text/plain": [
              "(20, 20)"
            ]
          },
          "metadata": {},
          "execution_count": 95
        }
      ]
    },
    {
      "cell_type": "code",
      "source": [
        "#lets visulaize the process of training\n",
        "plt.plot(epoch_count,train_loss_value,label=\"train loss\")\n",
        "plt.plot(epoch_count,test_loss_value,label=\"test loss\")\n",
        "plt.title(\"train and loss curves\")\n",
        "plt.xlabel(\"epoch\")\n",
        "plt.ylabel(\"loss\")\n",
        "plt.legend();"
      ],
      "metadata": {
        "colab": {
          "base_uri": "https://localhost:8080/",
          "height": 472
        },
        "id": "9PItXewA0T4V",
        "outputId": "ff3aa692-d417-4d85-e6a8-9e8592d9a2f4"
      },
      "execution_count": 96,
      "outputs": [
        {
          "output_type": "display_data",
          "data": {
            "text/plain": [
              "<Figure size 640x480 with 1 Axes>"
            ],
            "image/png": "[encoded data removed]"
          },
          "metadata": {}
        }
      ]
    },
    {
      "cell_type": "code",
      "source": [
        "# # lets visulaize the process of training\n",
        "# epoch_count_tensor = torch.tensor(epoch_count).detach()\n",
        "# train_loss_value_tensor = torch.tensor(train_loss_value).detach()\n",
        "# test_loss_value_tensor = torch.tensor(test_loss_value).detach()\n",
        "\n",
        "# plt.plot(torch.tensor(epoch_count), train_loss_value, label=\"train loss\")\n",
        "# plt.plot(torch.tensor(epoch_count), test_loss_value, label=\"test loss\")\n",
        "# plt.xlabel(\"epoch\")\n",
        "# plt.ylabel(\"loss\")\n",
        "# plt.legend();"
      ],
      "metadata": {
        "id": "Qbr3owRn4bG4"
      },
      "execution_count": 97,
      "outputs": []
    },
    {
      "cell_type": "code",
      "source": [
        "with torch.inference_mode():\n",
        "  y_pred_new=model(x_test)"
      ],
      "metadata": {
        "id": "QUzM6FvyfRM3"
      },
      "execution_count": 98,
      "outputs": []
    },
    {
      "cell_type": "code",
      "source": [
        "#before trainign the model\n",
        "plot_predictions(predictions=y_preds)"
      ],
      "metadata": {
        "colab": {
          "base_uri": "https://localhost:8080/",
          "height": 599
        },
        "id": "z1Hqutsng8wr",
        "outputId": "ef553a14-ee5f-4e7b-ba08-a87c57208d8e"
      },
      "execution_count": 99,
      "outputs": [
        {
          "output_type": "display_data",
          "data": {
            "text/plain": [
              "<Figure size 1000x700 with 1 Axes>"
            ],
            "image/png": "[encoded data removed]"
          },
          "metadata": {}
        }
      ]
    },
    {
      "cell_type": "code",
      "source": [
        "#after training the model\n",
        "plot_predictions(predictions=y_pred_new)"
      ],
      "metadata": {
        "colab": {
          "base_uri": "https://localhost:8080/",
          "height": 599
        },
        "id": "VtxID_J1hFqR",
        "outputId": "bfb0ae67-cd70-4e94-a644-7a4d9bee0327"
      },
      "execution_count": 100,
      "outputs": [
        {
          "output_type": "display_data",
          "data": {
            "text/plain": [
              "<Figure size 1000x700 with 1 Axes>"
            ],
            "image/png": "[encoded data removed]"
          },
          "metadata": {}
        }
      ]
    },
    {
      "cell_type": "markdown",
      "source": [
        "# saving model trained in pytorch"
      ],
      "metadata": {
        "id": "s-x33-qw_Ey4"
      }
    },
    {
      "cell_type": "code",
      "source": [
        "model.state_dict()"
      ],
      "metadata": {
        "colab": {
          "base_uri": "https://localhost:8080/"
        },
        "id": "yf0KJz7GhN22",
        "outputId": "476a22f9-2ae8-457b-829c-199e1fd33feb"
      },
      "execution_count": 101,
      "outputs": [
        {
          "output_type": "execute_result",
          "data": {
            "text/plain": [
              "OrderedDict([('weights', tensor([0.4146])), ('bias', tensor([0.3250]))])"
            ]
          },
          "metadata": {},
          "execution_count": 101
        }
      ]
    },
    {
      "cell_type": "code",
      "source": [
        "list(model.state_dict())"
      ],
      "metadata": {
        "colab": {
          "base_uri": "https://localhost:8080/"
        },
        "id": "Yw9_Yxkb-Hwh",
        "outputId": "6b48b8cb-d6fb-40dc-b752-c985661f663d"
      },
      "execution_count": 102,
      "outputs": [
        {
          "output_type": "execute_result",
          "data": {
            "text/plain": [
              "['weights', 'bias']"
            ]
          },
          "metadata": {},
          "execution_count": 102
        }
      ]
    },
    {
      "cell_type": "code",
      "source": [
        "# lets save the model into a directory\n",
        "from pathlib import Path\n",
        "\n",
        "#create model direcotry\n",
        "model_path=Path(\"models\")\n",
        "model_path.mkdir(parents=True,exist_ok=True)\n",
        "\n",
        "#create a save path\n",
        "model_name=\"01_torch_model.pth\"\n",
        "model_save_path=model_path/model_name\n",
        "\n",
        "#save the model into our directory\n",
        "torch.save(model.state_dict(),model_save_path)"
      ],
      "metadata": {
        "id": "6zY27PW3A9Hh"
      },
      "execution_count": 103,
      "outputs": []
    },
    {
      "cell_type": "code",
      "source": [
        "!ls -l models"
      ],
      "metadata": {
        "colab": {
          "base_uri": "https://localhost:8080/"
        },
        "id": "zcKoZzGpf9VU",
        "outputId": "19e73064-e69e-44f0-8afc-71ce08ca9597"
      },
      "execution_count": 104,
      "outputs": [
        {
          "output_type": "stream",
          "name": "stdout",
          "text": [
            "total 4\n",
            "-rw-r--r-- 1 root root 1538 Jan 30 14:45 01_torch_model.pth\n"
          ]
        }
      ]
    },
    {
      "cell_type": "markdown",
      "source": [
        "### lets load the model"
      ],
      "metadata": {
        "id": "rvmXG7VskpXi"
      }
    },
    {
      "cell_type": "code",
      "source": [
        "model.state_dict()"
      ],
      "metadata": {
        "colab": {
          "base_uri": "https://localhost:8080/"
        },
        "id": "pcInRiC-kwuh",
        "outputId": "10e06045-0c15-4ef0-d079-a3d348f1f7a9"
      },
      "execution_count": 105,
      "outputs": [
        {
          "output_type": "execute_result",
          "data": {
            "text/plain": [
              "OrderedDict([('weights', tensor([0.4146])), ('bias', tensor([0.3250]))])"
            ]
          },
          "metadata": {},
          "execution_count": 105
        }
      ]
    },
    {
      "cell_type": "code",
      "source": [
        "#loading model\n",
        "load_model=LinearRegressionModel()\n",
        "#know lets assign the weigts to the model\n",
        "load_model.load_state_dict(torch.load(f=model_save_path))"
      ],
      "metadata": {
        "colab": {
          "base_uri": "https://localhost:8080/"
        },
        "id": "wMWe7p43d7Zf",
        "outputId": "ec5c03d1-28ee-4155-d3d8-e21588244a21"
      },
      "execution_count": 106,
      "outputs": [
        {
          "output_type": "execute_result",
          "data": {
            "text/plain": [
              "<All keys matched successfully>"
            ]
          },
          "metadata": {},
          "execution_count": 106
        }
      ]
    },
    {
      "cell_type": "code",
      "source": [
        "load_model.state_dict()"
      ],
      "metadata": {
        "colab": {
          "base_uri": "https://localhost:8080/"
        },
        "id": "2zdLMPWTfc3i",
        "outputId": "721feabe-4761-46d6-baaa-4dde21a9fdd9"
      },
      "execution_count": 107,
      "outputs": [
        {
          "output_type": "execute_result",
          "data": {
            "text/plain": [
              "OrderedDict([('weights', tensor([0.4146])), ('bias', tensor([0.3250]))])"
            ]
          },
          "metadata": {},
          "execution_count": 107
        }
      ]
    },
    {
      "cell_type": "code",
      "source": [
        "#lets evaluete the loaded model\n",
        "load_model.eval()\n",
        "with torch.inference_mode():\n",
        "  loaded_model_preds=load_model(x_test)\n",
        "print(loaded_model_preds)"
      ],
      "metadata": {
        "colab": {
          "base_uri": "https://localhost:8080/"
        },
        "id": "FW4lVxB4lJc0",
        "outputId": "6d652e92-b694-4e4a-9790-becb3213e56d"
      },
      "execution_count": 111,
      "outputs": [
        {
          "output_type": "stream",
          "name": "stdout",
          "text": [
            "tensor([[0.6566],\n",
            "        [0.6649],\n",
            "        [0.6732],\n",
            "        [0.6815],\n",
            "        [0.6898],\n",
            "        [0.6981],\n",
            "        [0.7064],\n",
            "        [0.7147],\n",
            "        [0.7230],\n",
            "        [0.7313]])\n"
          ]
        }
      ]
    },
    {
      "cell_type": "code",
      "source": [
        "#lets compare between the saved model and loaded model\n",
        "model.eval()\n",
        "with torch.inference_mode():\n",
        "  y_pred=load_model(x_test)"
      ],
      "metadata": {
        "id": "e6IwiOhDmL0I"
      },
      "execution_count": 112,
      "outputs": []
    },
    {
      "cell_type": "code",
      "source": [
        "print(loaded_model_preds==y_pred)"
      ],
      "metadata": {
        "colab": {
          "base_uri": "https://localhost:8080/"
        },
        "id": "Z1DnEBrcnOdB",
        "outputId": "671bd172-d32a-4c3b-8a5a-4d0776f3a941"
      },
      "execution_count": 113,
      "outputs": [
        {
          "output_type": "stream",
          "name": "stdout",
          "text": [
            "tensor([[True],\n",
            "        [True],\n",
            "        [True],\n",
            "        [True],\n",
            "        [True],\n",
            "        [True],\n",
            "        [True],\n",
            "        [True],\n",
            "        [True],\n",
            "        [True]])\n"
          ]
        }
      ]
    },
    {
      "cell_type": "code",
      "source": [],
      "metadata": {
        "id": "2Otvhp-P1wSp"
      },
      "execution_count": null,
      "outputs": []
    }
  ]
}
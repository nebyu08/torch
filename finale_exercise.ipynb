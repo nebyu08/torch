{
 "cells": [
  {
   "cell_type": "code",
   "execution_count": 1,
   "id": "cbe53513-1656-465d-96bb-63e945214553",
   "metadata": {},
   "outputs": [],
   "source": [
    "import torch"
   ]
  },
  {
   "cell_type": "markdown",
   "id": "a29e8cc5-8df0-4057-879a-c25b2804b290",
   "metadata": {},
   "source": [
    "### Q1.make a 7X7 matrix"
   ]
  },
  {
   "cell_type": "code",
   "execution_count": 4,
   "id": "ece500ba-baef-43d2-ac41-779d66d00366",
   "metadata": {},
   "outputs": [
    {
     "name": "stdout",
     "output_type": "stream",
     "text": [
      "torch.Size([7, 7])\n",
      "tensor([[ 1.3378,  0.7216,  2.1969, -1.8932, -0.3889,  0.2093,  0.1286],\n",
      "        [ 0.5444,  0.1636,  1.3845, -0.1582,  0.8067,  0.0701, -2.1767],\n",
      "        [-1.9079,  1.7468,  1.3872, -1.1423, -1.3889,  0.8640, -0.6107],\n",
      "        [-0.4028, -1.1817,  0.0874,  0.2474, -0.2511, -0.5806, -0.4844],\n",
      "        [ 1.4070, -0.1391,  0.4216,  0.5022,  0.0903,  0.3593, -0.7924],\n",
      "        [ 1.6196,  1.2641,  0.2234, -0.8360,  1.3384, -0.1696,  0.4585],\n",
      "        [-1.1315,  1.1193,  0.1812,  0.5961,  0.1446, -0.2704,  0.2048]])\n"
     ]
    }
   ],
   "source": [
    "tensor=torch.randn([7,7])\n",
    "print(tensor.shape)\n",
    "print(tensor)"
   ]
  },
  {
   "cell_type": "markdown",
   "id": "731ce563-7ebd-4d52-851f-fb8f09a30339",
   "metadata": {},
   "source": [
    "### Q2. multiplication of tensors"
   ]
  },
  {
   "cell_type": "code",
   "execution_count": 7,
   "id": "57f3b84e-39e9-4b97-8512-d0e8ac2a66df",
   "metadata": {},
   "outputs": [
    {
     "name": "stdout",
     "output_type": "stream",
     "text": [
      "tensor shape is: torch.Size([1, 7]) \n",
      "tensor2 after reshaping it torch.Size([7, 1]) \n",
      "result is torch.Size([7, 7])\n",
      "tensor([[ 2.1543, -1.7927, -1.3285, -1.9757, -1.5831,  0.2326, -0.1963],\n",
      "        [-1.7927,  1.4917,  1.1055,  1.6441,  1.3174, -0.1935,  0.1633],\n",
      "        [-1.3285,  1.1055,  0.8193,  1.2184,  0.9763, -0.1434,  0.1210],\n",
      "        [-1.9757,  1.6441,  1.2184,  1.8120,  1.4519, -0.2133,  0.1800],\n",
      "        [-1.5831,  1.3174,  0.9763,  1.4519,  1.1634, -0.1709,  0.1442],\n",
      "        [ 0.2326, -0.1935, -0.1434, -0.2133, -0.1709,  0.0251, -0.0212],\n",
      "        [-0.1963,  0.1633,  0.1210,  0.1800,  0.1442, -0.0212,  0.0179]])\n"
     ]
    }
   ],
   "source": [
    "tensor2=torch.randn([1,7])\n",
    "tensor2_reshaped=tensor2.view([7,1])\n",
    "result=tensor2*tensor2_reshaped\n",
    "\n",
    "print(f\"tensor shape is: {tensor2.shape} \")\n",
    "print(f\"tensor2 after reshaping it {tensor2_reshaped.shape} \")\n",
    "print(f\"result is {result.shape}\")\n",
    "print(result)"
   ]
  },
  {
   "cell_type": "code",
   "execution_count": 11,
   "id": "24418c1f-8643-454e-b117-6005763713d5",
   "metadata": {},
   "outputs": [
    {
     "name": "stdout",
     "output_type": "stream",
     "text": [
      "torch.Size([7, 7])\n",
      "tensor([[-1.1258, -1.1524, -0.2506, -0.4339,  0.8487,  0.6920, -0.3160],\n",
      "        [-2.1152,  0.3223, -1.2633,  0.3500,  0.3081,  0.1198,  1.2377],\n",
      "        [ 1.1168, -0.2473, -1.3527, -1.6959,  0.5667,  0.7935,  0.5988],\n",
      "        [-1.5551, -0.3414,  1.8530,  0.7502, -0.5855, -0.1734,  0.1835],\n",
      "        [ 1.3894,  1.5863,  0.9463, -0.8437, -0.6136,  0.8728,  1.0554],\n",
      "        [ 0.1778, -0.2303, -0.3918,  0.5433, -0.3952,  0.2055,  0.7440],\n",
      "        [ 1.5210,  3.4105, -1.5312, -1.2341,  1.8197, -0.5515, -1.3253]])\n",
      "tensor shape is: torch.Size([1, 7]) \n",
      "tensor2 after reshaping it torch.Size([7, 1]) \n",
      "result is torch.Size([7, 7])\n",
      "tensor([[ 5.2247e+00, -1.5990e-01, -1.5254e+00,  2.3780e+00,  1.1016e+00,\n",
      "         -2.5813e+00,  2.6571e+00],\n",
      "        [-1.5990e-01,  4.8934e-03,  4.6684e-02, -7.2774e-02, -3.3714e-02,\n",
      "          7.8998e-02, -8.1316e-02],\n",
      "        [-1.5254e+00,  4.6684e-02,  4.4537e-01, -6.9428e-01, -3.2163e-01,\n",
      "          7.5365e-01, -7.7577e-01],\n",
      "        [ 2.3780e+00, -7.2774e-02, -6.9428e-01,  1.0823e+00,  5.0139e-01,\n",
      "         -1.1749e+00,  1.2093e+00],\n",
      "        [ 1.1016e+00, -3.3714e-02, -3.2163e-01,  5.0139e-01,  2.3228e-01,\n",
      "         -5.4427e-01,  5.6024e-01],\n",
      "        [-2.5813e+00,  7.8998e-02,  7.5365e-01, -1.1749e+00, -5.4427e-01,\n",
      "          1.2753e+00, -1.3128e+00],\n",
      "        [ 2.6571e+00, -8.1316e-02, -7.7577e-01,  1.2093e+00,  5.6024e-01,\n",
      "         -1.3128e+00,  1.3513e+00]])\n"
     ]
    }
   ],
   "source": [
    "torch.manual_seed(0)\n",
    "\n",
    "tensor=torch.randn([7,7])\n",
    "print(tensor.shape)\n",
    "print(tensor)\n",
    "\n",
    "tensor2=torch.randn([1,7])\n",
    "tensor2_reshaped=tensor2.view([7,1])\n",
    "result=tensor2*tensor2_reshaped\n",
    "\n",
    "print(f\"tensor shape is: {tensor2.shape} \")\n",
    "print(f\"tensor2 after reshaping it {tensor2_reshaped.shape} \")\n",
    "print(f\"result is {result.shape}\")\n",
    "print(result)"
   ]
  },
  {
   "cell_type": "markdown",
   "id": "a992f790-5db0-4277-b2b3-7ddabe17d634",
   "metadata": {},
   "source": [
    "# seting the seed for the GPU's"
   ]
  },
  {
   "cell_type": "code",
   "execution_count": 13,
   "id": "f41991e5-e3f5-4fb1-bc72-097eae43ab18",
   "metadata": {},
   "outputs": [],
   "source": [
    "torch.cuda.seed()"
   ]
  },
  {
   "cell_type": "code",
   "execution_count": 16,
   "id": "3a9458f1-65a9-44ef-871a-ec6a9278fb77",
   "metadata": {},
   "outputs": [
    {
     "data": {
      "text/plain": [
       "tensor(5.2247)"
      ]
     },
     "execution_count": 16,
     "metadata": {},
     "output_type": "execute_result"
    }
   ],
   "source": [
    "#finding the maximum value\n",
    "torch.max(result)"
   ]
  },
  {
   "cell_type": "code",
   "execution_count": 17,
   "id": "77d94a8f-f969-4704-81af-5716078d6680",
   "metadata": {},
   "outputs": [
    {
     "data": {
      "text/plain": [
       "tensor(-2.5813)"
      ]
     },
     "execution_count": 17,
     "metadata": {},
     "output_type": "execute_result"
    }
   ],
   "source": [
    "#finding the minimum value\n",
    "torch.min(result)"
   ]
  },
  {
   "cell_type": "code",
   "execution_count": 19,
   "id": "919f462e-7a8a-4037-b889-d68ae9cab566",
   "metadata": {},
   "outputs": [
    {
     "name": "stdout",
     "output_type": "stream",
     "text": [
      "tensor([[[[-1.3186]]],\n",
      "\n",
      "\n",
      "        [[[-1.0661]]],\n",
      "\n",
      "\n",
      "        [[[-2.9771]]],\n",
      "\n",
      "\n",
      "        [[[ 1.9956]]],\n",
      "\n",
      "\n",
      "        [[[-0.9683]]],\n",
      "\n",
      "\n",
      "        [[[-0.7803]]],\n",
      "\n",
      "\n",
      "        [[[-0.5713]]],\n",
      "\n",
      "\n",
      "        [[[-0.9645]]],\n",
      "\n",
      "\n",
      "        [[[-1.0204]]],\n",
      "\n",
      "\n",
      "        [[[ 1.0309]]]])\n",
      "torch.Size([1, 1, 1, 10])\n"
     ]
    }
   ],
   "source": [
    "big_tensor=torch.randn(1,1,1,10)\n",
    "print(big_tensor.permute(3,1,2,0))\n",
    "print(big_tensor.shape)"
   ]
  },
  {
   "cell_type": "code",
   "execution_count": null,
   "id": "54084f34-59fb-44c3-aba3-424a1494f6ca",
   "metadata": {},
   "outputs": [],
   "source": []
  }
 ],
 "metadata": {
  "kernelspec": {
   "display_name": "Python 3 (ipykernel)",
   "language": "python",
   "name": "python3"
  },
  "language_info": {
   "codemirror_mode": {
    "name": "ipython",
    "version": 3
   },
   "file_extension": ".py",
   "mimetype": "text/x-python",
   "name": "python",
   "nbconvert_exporter": "python",
   "pygments_lexer": "ipython3",
   "version": "3.8.18"
  }
 },
 "nbformat": 4,
 "nbformat_minor": 5
}

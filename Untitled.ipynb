{
 "cells": [
  {
   "cell_type": "code",
   "execution_count": 3,
   "id": "d9f8a4a5-9c8a-413d-b808-7cd693734705",
   "metadata": {},
   "outputs": [
    {
     "name": "stdout",
     "output_type": "stream",
     "text": [
      "yes\n",
      "yes image\n"
     ]
    }
   ],
   "source": [
    "from pathlib import Path\n",
    "data_path=Path(\"data/\")\n",
    "if data_path.is_dir():\n",
    "    print(\"yes\")\n",
    "image_path=data_path/\"pizza_steak_sushi\"\n",
    "if image_path.is_dir():\n",
    "    print(\"yes image\")"
   ]
  },
  {
   "cell_type": "code",
   "execution_count": 4,
   "id": "9dc4f217-bf6d-4c5f-b881-7f780d3ad48e",
   "metadata": {},
   "outputs": [],
   "source": [
    "train_dir=image_path/\"train\"\n",
    "test_dir=image_path/\"test\""
   ]
  },
  {
   "cell_type": "code",
   "execution_count": 6,
   "id": "fcba47c1-722f-4211-88d8-0099331f2285",
   "metadata": {},
   "outputs": [
    {
     "data": {
      "text/plain": [
       "(WindowsPath('data/pizza_steak_sushi/train'),\n",
       " WindowsPath('data/pizza_steak_sushi/test'))"
      ]
     },
     "execution_count": 6,
     "metadata": {},
     "output_type": "execute_result"
    }
   ],
   "source": [
    "train_dir,test_dir"
   ]
  },
  {
   "cell_type": "code",
   "execution_count": 7,
   "id": "937c5fa2-1cc2-4c3b-80c5-b29fc473732c",
   "metadata": {},
   "outputs": [],
   "source": [
    "from torchvision import transforms\n",
    "\n",
    "normalize=transforms.Normalize(\n",
    "    mean=[0.485, 0.456, 0.406],\n",
    "    std=[0.229, 0.224, 0.225]\n",
    ")\n",
    "\n",
    "manual_transform=transforms.Compose([\n",
    "    transforms.Resize(size=(224,224)),\n",
    "    transforms.ToTensor(),\n",
    "    normalize\n",
    "])"
   ]
  },
  {
   "cell_type": "code",
   "execution_count": 8,
   "id": "a2dfe7fa-625a-46f4-8a4d-e8007782036a",
   "metadata": {},
   "outputs": [],
   "source": [
    "#load using the our own module\n",
    "from going_modular import data_setup\n",
    "batch_size=32\n",
    "\n",
    "train_dataloader,test_dataloader,class_names=data_setup.create_dataloader(train_dir=train_dir,\n",
    "                                                                         test_dir=test_dir,\n",
    "                                                                         transform=manual_transform,\n",
    "                                                                         batch_size=batch_size)"
   ]
  },
  {
   "cell_type": "code",
   "execution_count": 9,
   "id": "ceda887b-4b60-4b82-9568-185be28b05cb",
   "metadata": {},
   "outputs": [
    {
     "data": {
      "text/plain": [
       "(<torch.utils.data.dataloader.DataLoader at 0x20d111761f0>,\n",
       " <torch.utils.data.dataloader.DataLoader at 0x20d1bf22160>,\n",
       " ['pizza', 'steak', 'sushi'])"
      ]
     },
     "execution_count": 9,
     "metadata": {},
     "output_type": "execute_result"
    }
   ],
   "source": [
    "train_dataloader,test_dataloader,class_names"
   ]
  },
  {
   "cell_type": "code",
   "execution_count": 10,
   "id": "96b4a961-e3d5-4b5f-adaf-34787427f0ba",
   "metadata": {},
   "outputs": [],
   "source": [
    "from torchvision import models\n",
    "\n",
    "weights=models.EfficientNet_B0_Weights.DEFAULT\n",
    "\n",
    "#automatic transforms\n",
    "automatic_transforms=weights.transforms()"
   ]
  },
  {
   "cell_type": "code",
   "execution_count": 14,
   "id": "5a9d76b4-1bbe-4605-a244-5181a2857e28",
   "metadata": {},
   "outputs": [],
   "source": [
    "# import torchvision\n",
    "# #lets load the weights and the model\n",
    "# weights=torchvision.models.EfficientNet_B0_Weights.DEFAULT\n",
    "# model=torchvision.models.efficientnet_b0(weights=weights).to(device)"
   ]
  },
  {
   "cell_type": "code",
   "execution_count": 15,
   "id": "d3774e63-b5b9-46e2-ae53-e3b77b5b10f6",
   "metadata": {},
   "outputs": [],
   "source": [
    "%load_ext tensorboard"
   ]
  },
  {
   "cell_type": "code",
   "execution_count": null,
   "id": "df895b0b-b18c-42e6-b3c4-bb38b4b34d7f",
   "metadata": {},
   "outputs": [],
   "source": []
  }
 ],
 "metadata": {
  "kernelspec": {
   "display_name": "Python 3 (ipykernel)",
   "language": "python",
   "name": "python3"
  },
  "language_info": {
   "codemirror_mode": {
    "name": "ipython",
    "version": 3
   },
   "file_extension": ".py",
   "mimetype": "text/x-python",
   "name": "python",
   "nbconvert_exporter": "python",
   "pygments_lexer": "ipython3",
   "version": "3.8.18"
  }
 },
 "nbformat": 4,
 "nbformat_minor": 5
}

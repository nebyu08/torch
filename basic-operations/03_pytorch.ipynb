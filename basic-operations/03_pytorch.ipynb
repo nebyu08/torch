{
 "cells": [
  {
   "cell_type": "markdown",
   "id": "2bad9c15-5ef5-4bfc-8276-0fd6fe72f2c1",
   "metadata": {},
   "source": [
    "# creating a range using torch"
   ]
  },
  {
   "cell_type": "code",
   "execution_count": 1,
   "id": "e4983ea2-e536-471d-a0da-75765a24afea",
   "metadata": {},
   "outputs": [],
   "source": [
    "import torch"
   ]
  },
  {
   "cell_type": "code",
   "execution_count": 6,
   "id": "f1e79ebd-65b9-4cc4-91b0-f3c5c1ca69e8",
   "metadata": {},
   "outputs": [
    {
     "name": "stderr",
     "output_type": "stream",
     "text": [
      "C:\\Users\\nebiy\\AppData\\Local\\Temp\\ipykernel_12428\\1136815087.py:1: UserWarning: torch.range is deprecated and will be removed in a future release because its behavior is inconsistent with Python's range builtin. Instead, use torch.arange, which produces values in [start, end).\n",
      "  torch.range(1,10)\n"
     ]
    },
    {
     "data": {
      "text/plain": [
       "tensor([ 1.,  2.,  3.,  4.,  5.,  6.,  7.,  8.,  9., 10.])"
      ]
     },
     "execution_count": 6,
     "metadata": {},
     "output_type": "execute_result"
    }
   ],
   "source": [
    "torch.range(1,10)"
   ]
  },
  {
   "cell_type": "code",
   "execution_count": 7,
   "id": "883b382f-a977-4d43-abeb-b8f6458f6602",
   "metadata": {},
   "outputs": [
    {
     "data": {
      "text/plain": [
       "tensor([1, 2, 3, 4, 5, 6, 7, 8, 9])"
      ]
     },
     "execution_count": 7,
     "metadata": {},
     "output_type": "execute_result"
    }
   ],
   "source": [
    "torch.arange(1,10)"
   ]
  },
  {
   "cell_type": "code",
   "execution_count": 8,
   "id": "6e78cf00-2d07-4e85-8826-34cd74b90969",
   "metadata": {},
   "outputs": [
    {
     "data": {
      "text/plain": [
       "'2.1.2'"
      ]
     },
     "execution_count": 8,
     "metadata": {},
     "output_type": "execute_result"
    }
   ],
   "source": [
    "torch.__version__"
   ]
  },
  {
   "cell_type": "code",
   "execution_count": 11,
   "id": "fdd59e66-f810-4d04-afe8-6edebbc82cd8",
   "metadata": {},
   "outputs": [],
   "source": [
    "# creating zeros like\n",
    "temp=torch.arange(1,25,5)\n",
    "zeros_like=torch.zeros_like(temp)"
   ]
  },
  {
   "cell_type": "code",
   "execution_count": 12,
   "id": "6c394d76-918c-4f8a-aade-3b060dee5a76",
   "metadata": {},
   "outputs": [
    {
     "name": "stdout",
     "output_type": "stream",
     "text": [
      "tensor([ 1,  6, 11, 16, 21])\n"
     ]
    }
   ],
   "source": [
    "print(temp)"
   ]
  },
  {
   "cell_type": "code",
   "execution_count": 13,
   "id": "ee954e26-bd00-4cbe-976b-f4b62f2f59d4",
   "metadata": {},
   "outputs": [
    {
     "name": "stdout",
     "output_type": "stream",
     "text": [
      "tensor([0, 0, 0, 0, 0])\n"
     ]
    }
   ],
   "source": [
    "print(zeros_like)"
   ]
  },
  {
   "cell_type": "code",
   "execution_count": 14,
   "id": "c5fc6e88-bda9-411f-b744-a78dff09ef67",
   "metadata": {},
   "outputs": [],
   "source": [
    "#creating ones like\n",
    "temp_2=torch.ones_like(temp)"
   ]
  },
  {
   "cell_type": "code",
   "execution_count": 15,
   "id": "693fb738-2d57-44ee-9e97-9fde202fe9f1",
   "metadata": {},
   "outputs": [
    {
     "name": "stdout",
     "output_type": "stream",
     "text": [
      "tensor([1, 1, 1, 1, 1])\n"
     ]
    }
   ],
   "source": [
    "print(temp_2)"
   ]
  },
  {
   "cell_type": "code",
   "execution_count": 21,
   "id": "3e7b3ee6-44b6-4832-a0b2-d67b442f9e2b",
   "metadata": {},
   "outputs": [
    {
     "data": {
      "text/plain": [
       "torch.int64"
      ]
     },
     "execution_count": 21,
     "metadata": {},
     "output_type": "execute_result"
    }
   ],
   "source": [
    "float_32=torch.tensor([2,23,32,14,1])\n",
    "float_32.dtype"
   ]
  },
  {
   "cell_type": "code",
   "execution_count": 26,
   "id": "01b0ad33-294e-4e33-bfb1-37c7ab6fb05a",
   "metadata": {},
   "outputs": [
    {
     "data": {
      "text/plain": [
       "torch.float64"
      ]
     },
     "execution_count": 26,
     "metadata": {},
     "output_type": "execute_result"
    }
   ],
   "source": [
    "float_64=torch.tensor([2,4,5,2,2],dtype=torch.float64)\n",
    "float_64.dtype"
   ]
  },
  {
   "cell_type": "code",
   "execution_count": 27,
   "id": "827b20df-f124-49df-b703-54d106bd49cd",
   "metadata": {},
   "outputs": [
    {
     "data": {
      "text/plain": [
       "tensor([  4.,  92., 160.,  28.,   2.], dtype=torch.float64)"
      ]
     },
     "execution_count": 27,
     "metadata": {},
     "output_type": "execute_result"
    }
   ],
   "source": [
    "float_64*float_32"
   ]
  },
  {
   "cell_type": "code",
   "execution_count": 28,
   "id": "37a91af7-d244-499b-b8d1-eb1c80042491",
   "metadata": {},
   "outputs": [
    {
     "data": {
      "text/plain": [
       "torch.float64"
      ]
     },
     "execution_count": 28,
     "metadata": {},
     "output_type": "execute_result"
    }
   ],
   "source": [
    "float_64.dtype"
   ]
  },
  {
   "cell_type": "code",
   "execution_count": 30,
   "id": "97170eb8-4390-4bfe-9b89-28985f79c4e1",
   "metadata": {},
   "outputs": [
    {
     "data": {
      "text/plain": [
       "tensor([23, 54])"
      ]
     },
     "execution_count": 30,
     "metadata": {},
     "output_type": "execute_result"
    }
   ],
   "source": [
    "torch.tensor([23,54])"
   ]
  },
  {
   "cell_type": "code",
   "execution_count": null,
   "id": "94afc1b2-f031-4163-94a0-a8d07c445af3",
   "metadata": {},
   "outputs": [],
   "source": []
  }
 ],
 "metadata": {
  "kernelspec": {
   "display_name": "Python 3 (ipykernel)",
   "language": "python",
   "name": "python3"
  },
  "language_info": {
   "codemirror_mode": {
    "name": "ipython",
    "version": 3
   },
   "file_extension": ".py",
   "mimetype": "text/x-python",
   "name": "python",
   "nbconvert_exporter": "python",
   "pygments_lexer": "ipython3",
   "version": "3.8.18"
  }
 },
 "nbformat": 4,
 "nbformat_minor": 5
}

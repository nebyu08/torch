{
 "cells": [
  {
   "cell_type": "code",
   "execution_count": 2,
   "id": "7417f96c-887f-4a82-87e1-a0540857a876",
   "metadata": {},
   "outputs": [],
   "source": [
    "import torch"
   ]
  },
  {
   "cell_type": "markdown",
   "id": "84aca06f-6d76-4698-8c56-938cdafcfdff",
   "metadata": {},
   "source": [
    "# manipulating tensors"
   ]
  },
  {
   "cell_type": "markdown",
   "id": "ab290a91-8e21-4f15-8281-55f1138f7322",
   "metadata": {},
   "source": [
    "## addition"
   ]
  },
  {
   "cell_type": "code",
   "execution_count": 3,
   "id": "43ecd119-1cd5-4a84-8154-ea97c0cce3b8",
   "metadata": {},
   "outputs": [
    {
     "data": {
      "text/plain": [
       "tensor([31, 32, 33])"
      ]
     },
     "execution_count": 3,
     "metadata": {},
     "output_type": "execute_result"
    }
   ],
   "source": [
    "# creating a tensor\n",
    "tensor=torch.tensor([1,2,3])\n",
    "tensor+30"
   ]
  },
  {
   "cell_type": "code",
   "execution_count": 4,
   "id": "ffa425e8-0708-4a1b-b383-a47e36baef32",
   "metadata": {},
   "outputs": [
    {
     "data": {
      "text/plain": [
       "tensor([13, 14, 15])"
      ]
     },
     "execution_count": 4,
     "metadata": {},
     "output_type": "execute_result"
    }
   ],
   "source": [
    "tensor+ torch.tensor([12,12,12])"
   ]
  },
  {
   "cell_type": "markdown",
   "id": "e5c62a54-1624-4d6a-9d25-c1e412bb7ba3",
   "metadata": {},
   "source": [
    "## subtraction"
   ]
  },
  {
   "cell_type": "code",
   "execution_count": 5,
   "id": "c848a67e-37af-45c1-b212-cd42a99cf337",
   "metadata": {},
   "outputs": [
    {
     "data": {
      "text/plain": [
       "tensor([-89, -88, -87])"
      ]
     },
     "execution_count": 5,
     "metadata": {},
     "output_type": "execute_result"
    }
   ],
   "source": [
    "tensor - 90"
   ]
  },
  {
   "cell_type": "markdown",
   "id": "1b73ef80-2914-4252-9925-f513ec06bf91",
   "metadata": {},
   "source": [
    "### trying out inbuilt functions"
   ]
  },
  {
   "cell_type": "code",
   "execution_count": 6,
   "id": "1f8d152c-34ce-40dd-bcab-1ad076baa920",
   "metadata": {},
   "outputs": [
    {
     "data": {
      "text/plain": [
       "tensor([ 9, 18, 27])"
      ]
     },
     "execution_count": 6,
     "metadata": {},
     "output_type": "execute_result"
    }
   ],
   "source": [
    "torch.mul(tensor,9)"
   ]
  },
  {
   "cell_type": "markdown",
   "id": "a0a85ede-6d81-4dbf-bd32-e2a56210bc11",
   "metadata": {},
   "source": [
    "# division "
   ]
  },
  {
   "cell_type": "code",
   "execution_count": 7,
   "id": "5009f202-0285-469b-a080-aa901ab70553",
   "metadata": {},
   "outputs": [
    {
     "data": {
      "text/plain": [
       "tensor([0.1111, 0.2222, 0.3333])"
      ]
     },
     "execution_count": 7,
     "metadata": {},
     "output_type": "execute_result"
    }
   ],
   "source": [
    "torch.div(tensor,9)"
   ]
  },
  {
   "cell_type": "markdown",
   "id": "d7d90fba-f085-4d10-b0e3-58d50c7e9804",
   "metadata": {},
   "source": [
    "# multiplication"
   ]
  },
  {
   "cell_type": "markdown",
   "id": "e3d62652-bd37-4e44-ae1b-08b227e29d8d",
   "metadata": {},
   "source": [
    "### element wise multiplication"
   ]
  },
  {
   "cell_type": "code",
   "execution_count": 9,
   "id": "6e008072-bade-42e3-b525-7ca23610a2a5",
   "metadata": {},
   "outputs": [
    {
     "data": {
      "text/plain": [
       "tensor([1, 4, 9])"
      ]
     },
     "execution_count": 9,
     "metadata": {},
     "output_type": "execute_result"
    }
   ],
   "source": [
    "tensor * tensor"
   ]
  },
  {
   "cell_type": "code",
   "execution_count": 10,
   "id": "e30f84bd-d8d3-4d71-a9ef-6eb28c5efdbf",
   "metadata": {},
   "outputs": [
    {
     "data": {
      "text/plain": [
       "tensor([1, 2, 3])"
      ]
     },
     "execution_count": 10,
     "metadata": {},
     "output_type": "execute_result"
    }
   ],
   "source": [
    "tensor"
   ]
  },
  {
   "cell_type": "markdown",
   "id": "f172adda-2b3b-476b-90fb-3b28eee01527",
   "metadata": {},
   "source": [
    "### matrix-multiplication"
   ]
  },
  {
   "cell_type": "code",
   "execution_count": 11,
   "id": "743c1ccc-8e4d-4128-8be9-22bdf2927745",
   "metadata": {},
   "outputs": [
    {
     "data": {
      "text/plain": [
       "tensor(14)"
      ]
     },
     "execution_count": 11,
     "metadata": {},
     "output_type": "execute_result"
    }
   ],
   "source": [
    "torch.matmul(tensor,tensor)"
   ]
  },
  {
   "cell_type": "code",
   "execution_count": 13,
   "id": "fb762d3b-2c46-45e9-bea4-92ae97112ca8",
   "metadata": {},
   "outputs": [
    {
     "name": "stdout",
     "output_type": "stream",
     "text": [
      "tensor(14)\n",
      "CPU times: total: 0 ns\n",
      "Wall time: 985 µs\n"
     ]
    }
   ],
   "source": [
    "%%time\n",
    "# lets compare between the 2\n",
    "value=0\n",
    "for i in range(len(tensor)):\n",
    "    value+=tensor[i]*tensor[i]\n",
    "print(value)"
   ]
  },
  {
   "cell_type": "code",
   "execution_count": 16,
   "id": "226f4d60-9bb2-43f0-95cf-bb18737e801b",
   "metadata": {},
   "outputs": [
    {
     "name": "stdout",
     "output_type": "stream",
     "text": [
      "tensor(14)\n",
      "CPU times: total: 0 ns\n",
      "Wall time: 3.01 ms\n"
     ]
    }
   ],
   "source": [
    "%%time\n",
    "value=torch.matmul(tensor,tensor)\n",
    "print(value)"
   ]
  },
  {
   "cell_type": "code",
   "execution_count": 18,
   "id": "c40982d4-84ee-4415-a21b-57d33f42c1d8",
   "metadata": {},
   "outputs": [
    {
     "data": {
      "text/plain": [
       "tensor([[0.3157, 0.4360, 0.0798],\n",
       "        [0.4032, 0.5671, 0.0994],\n",
       "        [0.4284, 0.4689, 0.1381]])"
      ]
     },
     "execution_count": 18,
     "metadata": {},
     "output_type": "execute_result"
    }
   ],
   "source": [
    "# make sure to alwasys have a nice/matching shape matrix\n",
    "torch.matmul(torch.rand(3,2),torch.rand(2,3))"
   ]
  },
  {
   "cell_type": "markdown",
   "id": "c840d58c-fe4b-49f3-bbb5-e75b63f80c88",
   "metadata": {},
   "source": [
    "# handling shape error on matrix multipliation"
   ]
  },
  {
   "cell_type": "code",
   "execution_count": 20,
   "id": "1075e496-c34c-4696-8a0c-527273c96f15",
   "metadata": {},
   "outputs": [
    {
     "data": {
      "text/plain": [
       "tensor([[ 5,  5,  5],\n",
       "        [ 9,  9,  9],\n",
       "        [13, 13, 13]])"
      ]
     },
     "execution_count": 20,
     "metadata": {},
     "output_type": "execute_result"
    }
   ],
   "source": [
    "tensor_a=torch.tensor([[2,3],\n",
    "                      [4,5],\n",
    "                      [6,7]])\n",
    "\n",
    "tensor_b=torch.ones_like(tensor_a)\n",
    "torch.mm(tensor_a,tensor_b.T)"
   ]
  },
  {
   "cell_type": "code",
   "execution_count": null,
   "id": "d33085d9-3fe2-4549-8496-84fdc69fad11",
   "metadata": {},
   "outputs": [],
   "source": []
  }
 ],
 "metadata": {
  "kernelspec": {
   "display_name": "Python 3 (ipykernel)",
   "language": "python",
   "name": "python3"
  },
  "language_info": {
   "codemirror_mode": {
    "name": "ipython",
    "version": 3
   },
   "file_extension": ".py",
   "mimetype": "text/x-python",
   "name": "python",
   "nbconvert_exporter": "python",
   "pygments_lexer": "ipython3",
   "version": "3.8.18"
  }
 },
 "nbformat": 4,
 "nbformat_minor": 5
}

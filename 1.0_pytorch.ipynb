{
 "cells": [
  {
   "cell_type": "code",
   "execution_count": 2,
   "id": "fa06480f-296a-4aea-b59b-bd0daae63f67",
   "metadata": {},
   "outputs": [],
   "source": [
    "import torch\n",
    "from torch import nn  #this includes all the building blocks for neual networks\n",
    "import matplotlib.pyplot as plt\n"
   ]
  },
  {
   "cell_type": "code",
   "execution_count": 3,
   "id": "367f91fc-5e89-4f0d-9501-f4170f167bfd",
   "metadata": {},
   "outputs": [
    {
     "data": {
      "text/plain": [
       "'2.1.2'"
      ]
     },
     "execution_count": 3,
     "metadata": {},
     "output_type": "execute_result"
    }
   ],
   "source": [
    "torch.__version__"
   ]
  },
  {
   "cell_type": "code",
   "execution_count": 5,
   "id": "f4597d35-f995-48f5-9b50-278180042fd1",
   "metadata": {},
   "outputs": [
    {
     "data": {
      "text/plain": [
       "(tensor([[0.0000],\n",
       "         [0.0200],\n",
       "         [0.0400],\n",
       "         [0.0600],\n",
       "         [0.0800],\n",
       "         [0.1000],\n",
       "         [0.1200],\n",
       "         [0.1400],\n",
       "         [0.1600],\n",
       "         [0.1800]]),\n",
       " tensor([[0.3000],\n",
       "         [0.3140],\n",
       "         [0.3280],\n",
       "         [0.3420],\n",
       "         [0.3560],\n",
       "         [0.3700],\n",
       "         [0.3840],\n",
       "         [0.3980],\n",
       "         [0.4120],\n",
       "         [0.4260]]))"
      ]
     },
     "execution_count": 5,
     "metadata": {},
     "output_type": "execute_result"
    }
   ],
   "source": [
    "weights=0.7\n",
    "bias=0.3\n",
    "\n",
    "#create data\n",
    "start=0\n",
    "end=1\n",
    "step=0.02\n",
    "\n",
    "x=torch.arange(start,end,step).unsqueeze(dim=1)\n",
    "y=weights*x + bias\n",
    "x[:10],y[:10]"
   ]
  },
  {
   "cell_type": "code",
   "execution_count": 7,
   "id": "56170de4-4cc7-471c-85c1-33e5c382020f",
   "metadata": {},
   "outputs": [
    {
     "name": "stdout",
     "output_type": "stream",
     "text": [
      "40\n",
      "10\n"
     ]
    }
   ],
   "source": [
    "#create a train/test split\n",
    "train_split=int(0.8*len(x))\n",
    "x_train,y_train=x[:train_split],y[:train_split]\n",
    "x_test,y_test=x[train_split:],y[train_split:]\n",
    "print(len(x_train))\n",
    "print(len(x_test))"
   ]
  },
  {
   "cell_type": "code",
   "execution_count": 8,
   "id": "c795fdd1-8d48-4ce1-8b7e-86826f19df2d",
   "metadata": {},
   "outputs": [],
   "source": [
    "def plot_predictions(x_train=x_train,\n",
    "                     y_train=y_train,\n",
    "                     x_test=x_test,\n",
    "                     y_test=y_test,\n",
    "                     predictions=None):\n",
    "  '''this plots the training,testing and prediction of the model'''\n",
    "  plt.figure(figsize=(10,7))\n",
    "\n",
    "  #visualizing the training data\n",
    "  plt.scatter(x_train,y_train,c=\"b\",s=4,label=\"training data\");\n",
    "  #visualizing the testing set of the data\n",
    "  plt.scatter(x_test,y_test,c=\"g\",s=6,label=\"testing label\");\n",
    "  if (predictions is not None):\n",
    "\n",
    "    '''displays the difference between actual and predicted'''\n",
    "    \n",
    "    plt.scatter(y_test,predictions,c=\"r\",label=\"predictions\",s=4);\n",
    "  plt.legend(prop={\"size\":14});"
   ]
  },
  {
   "cell_type": "code",
   "execution_count": 9,
   "id": "56d6fc05-4a7c-4a53-a764-7ca0ea2fb523",
   "metadata": {},
   "outputs": [
    {
     "data": {
      "image/png": "[encoded data removed]",
      "text/plain": [
       "<Figure size 1000x700 with 1 Axes>"
      ]
     },
     "metadata": {},
     "output_type": "display_data"
    }
   ],
   "source": [
    "plot_predictions(x_train,y_train,x_test,y_test)"
   ]
  },
  {
   "cell_type": "code",
   "execution_count": 10,
   "id": "e883d9bb-c49c-44b7-b652-ec670badb65a",
   "metadata": {},
   "outputs": [],
   "source": [
    "from torch import nn\n",
    "\n",
    "class LinearRegressionModel(nn.Module):\n",
    "  def __init__(self):\n",
    "    super().__init__()\n",
    "    self.weights=nn.Parameter(torch.randn(1,\n",
    "                               dtype=torch.float32),\n",
    "                              requires_grad=True)\n",
    "    \n",
    "    self.bias=nn.Parameter(torch.randn(1,\n",
    "                            dtype=torch.float32),requires_grad=True)\n",
    "    \n",
    "  def forward(self,x:torch.Tensor)->torch.Tensor:\n",
    "    return (x*self.weights+self.bias)\n",
    "  "
   ]
  },
  {
   "cell_type": "code",
   "execution_count": 11,
   "id": "9f2ccad6-f69a-4d8c-9983-f06c03444738",
   "metadata": {},
   "outputs": [
    {
     "data": {
      "text/plain": [
       "LinearRegressionModel()"
      ]
     },
     "execution_count": 11,
     "metadata": {},
     "output_type": "execute_result"
    }
   ],
   "source": [
    "#create a random seed\n",
    "torch.manual_seed(42)\n",
    "model=LinearRegressionModel()\n",
    "model"
   ]
  },
  {
   "cell_type": "code",
   "execution_count": 12,
   "id": "a9791151-3a03-464d-ac29-67a4d6a6b5b3",
   "metadata": {},
   "outputs": [
    {
     "data": {
      "text/plain": [
       "[Parameter containing:\n",
       " tensor([0.3367], requires_grad=True),\n",
       " Parameter containing:\n",
       " tensor([0.1288], requires_grad=True)]"
      ]
     },
     "execution_count": 12,
     "metadata": {},
     "output_type": "execute_result"
    }
   ],
   "source": [
    "#lets look at the models parameters\n",
    "list(model.parameters())"
   ]
  },
  {
   "cell_type": "code",
   "execution_count": 13,
   "id": "acd4d91b-51b4-417a-9118-ebe6e566cdb8",
   "metadata": {},
   "outputs": [
    {
     "data": {
      "text/plain": [
       "OrderedDict([('weights', tensor([0.3367])), ('bias', tensor([0.1288]))])"
      ]
     },
     "execution_count": 13,
     "metadata": {},
     "output_type": "execute_result"
    }
   ],
   "source": [
    "# lets see the values of the model\n",
    "model.state_dict()"
   ]
  },
  {
   "cell_type": "code",
   "execution_count": 14,
   "id": "3cc4fce7-2fa3-4a3e-9bc7-38e29cd8715f",
   "metadata": {},
   "outputs": [
    {
     "data": {
      "text/plain": [
       "tensor([[0.3982],\n",
       "        [0.4049],\n",
       "        [0.4116],\n",
       "        [0.4184],\n",
       "        [0.4251],\n",
       "        [0.4318],\n",
       "        [0.4386],\n",
       "        [0.4453],\n",
       "        [0.4520],\n",
       "        [0.4588]])"
      ]
     },
     "execution_count": 14,
     "metadata": {},
     "output_type": "execute_result"
    }
   ],
   "source": [
    "# lets see what the model predicts know with our training\n",
    "with torch.inference_mode():\n",
    "  y_preds=model(x_test)\n",
    "\n",
    "y_preds"
   ]
  },
  {
   "cell_type": "code",
   "execution_count": 15,
   "id": "b4c4f1cb-b52d-4092-971d-835c75c33b0c",
   "metadata": {},
   "outputs": [
    {
     "data": {
      "image/png": "[encoded data removed]",
      "text/plain": [
       "<Figure size 1000x700 with 1 Axes>"
      ]
     },
     "metadata": {},
     "output_type": "display_data"
    }
   ],
   "source": [
    "#visualizing the difference between actual and predicted labels\n",
    "plot_predictions(predictions=y_preds)"
   ]
  },
  {
   "cell_type": "code",
   "execution_count": null,
   "id": "0ba537c7-c235-4f06-b342-38adc8849e42",
   "metadata": {},
   "outputs": [],
   "source": []
  }
 ],
 "metadata": {
  "kernelspec": {
   "display_name": "Python 3 (ipykernel)",
   "language": "python",
   "name": "python3"
  },
  "language_info": {
   "codemirror_mode": {
    "name": "ipython",
    "version": 3
   },
   "file_extension": ".py",
   "mimetype": "text/x-python",
   "name": "python",
   "nbconvert_exporter": "python",
   "pygments_lexer": "ipython3",
   "version": "3.8.18"
  }
 },
 "nbformat": 4,
 "nbformat_minor": 5
}

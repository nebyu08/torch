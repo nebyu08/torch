{
 "cells": [
  {
   "cell_type": "code",
   "execution_count": 1,
   "id": "8ba13909-3c4d-4d23-87f7-14b3f8b8c859",
   "metadata": {},
   "outputs": [],
   "source": [
    "#lets get our data read\n",
    "import torch\n",
    "from torch import nn\n",
    "\n",
    "#import torch vision\n",
    "import torchvision\n",
    "from torchvision import datasets\n",
    "from torchvision import transforms\n",
    "from torchvision.transforms import ToTensor\n",
    "\n",
    "import matplotlib.pyplot as plt\n",
    "import numpy as np"
   ]
  },
  {
   "cell_type": "code",
   "execution_count": 2,
   "id": "9be23a37-3587-46be-939f-0de4e074cd30",
   "metadata": {},
   "outputs": [
    {
     "name": "stdout",
     "output_type": "stream",
     "text": [
      "2.1.2\n",
      "0.16.2\n"
     ]
    }
   ],
   "source": [
    "print(torch.__version__)\n",
    "print(torchvision.__version__)"
   ]
  },
  {
   "cell_type": "markdown",
   "id": "e2ff48a8-fa37-4e04-bb63-75862f32f1f5",
   "metadata": {},
   "source": [
    "# data handling part"
   ]
  },
  {
   "cell_type": "code",
   "execution_count": 3,
   "id": "3032f4f4-5b25-492c-a48e-a9629624db00",
   "metadata": {},
   "outputs": [],
   "source": [
    "train_data=datasets.FashionMNIST(\n",
    "    root=\"data\",\n",
    "    train=True,\n",
    "    transform=ToTensor(),\n",
    "   # download=True,\n",
    "    target_transform=None\n",
    ")\n",
    "\n",
    "test_data=datasets.FashionMNIST(\n",
    "    root=\"data\",\n",
    "    train=False,\n",
    "    transform=ToTensor() ,  #turns the data from 0-255 into range between 0-1\n",
    "    #download=True,\n",
    "    target_transform=None\n",
    ")"
   ]
  },
  {
   "cell_type": "markdown",
   "id": "f4562162-e743-4164-9237-05c07e076602",
   "metadata": {},
   "source": [
    "## Explaratory Data Analysis "
   ]
  },
  {
   "cell_type": "code",
   "execution_count": 4,
   "id": "9df3a9f9-65b5-43df-8dac-ea4c52c89d1c",
   "metadata": {},
   "outputs": [
    {
     "name": "stdout",
     "output_type": "stream",
     "text": [
      "Dataset FashionMNIST\n",
      "    Number of datapoints: 60000\n",
      "    Root location: data\n",
      "    Split: Train\n",
      "    StandardTransform\n",
      "Transform: ToTensor()\n",
      "Dataset FashionMNIST\n",
      "    Number of datapoints: 10000\n",
      "    Root location: data\n",
      "    Split: Test\n",
      "    StandardTransform\n",
      "Transform: ToTensor()\n"
     ]
    }
   ],
   "source": [
    "print(train_data)\n",
    "print(test_data)"
   ]
  },
  {
   "cell_type": "code",
   "execution_count": 5,
   "id": "2e80fb31-2aeb-43ea-af6b-247c9291b613",
   "metadata": {},
   "outputs": [
    {
     "data": {
      "text/plain": [
       "(60000, 10000)"
      ]
     },
     "execution_count": 5,
     "metadata": {},
     "output_type": "execute_result"
    }
   ],
   "source": [
    "len(train_data),len(test_data)"
   ]
  },
  {
   "cell_type": "code",
   "execution_count": 6,
   "id": "b3d87598-4b1b-4305-93d5-bdfff8ebc9f4",
   "metadata": {},
   "outputs": [
    {
     "data": {
      "text/plain": [
       "['T-shirt/top',\n",
       " 'Trouser',\n",
       " 'Pullover',\n",
       " 'Dress',\n",
       " 'Coat',\n",
       " 'Sandal',\n",
       " 'Shirt',\n",
       " 'Sneaker',\n",
       " 'Bag',\n",
       " 'Ankle boot']"
      ]
     },
     "execution_count": 6,
     "metadata": {},
     "output_type": "execute_result"
    }
   ],
   "source": [
    "class_names=train_data.classes\n",
    "class_names"
   ]
  },
  {
   "cell_type": "code",
   "execution_count": 7,
   "id": "33fb1607-cdef-4878-a931-258d767bffad",
   "metadata": {},
   "outputs": [
    {
     "data": {
      "text/plain": [
       "{'T-shirt/top': 0,\n",
       " 'Trouser': 1,\n",
       " 'Pullover': 2,\n",
       " 'Dress': 3,\n",
       " 'Coat': 4,\n",
       " 'Sandal': 5,\n",
       " 'Shirt': 6,\n",
       " 'Sneaker': 7,\n",
       " 'Bag': 8,\n",
       " 'Ankle boot': 9}"
      ]
     },
     "execution_count": 7,
     "metadata": {},
     "output_type": "execute_result"
    }
   ],
   "source": [
    "class_to_idx=train_data.class_to_idx\n",
    "class_to_idx"
   ]
  },
  {
   "cell_type": "code",
   "execution_count": 8,
   "id": "670de20b-07ee-4e24-b741-6540d84606a1",
   "metadata": {},
   "outputs": [
    {
     "data": {
      "text/plain": [
       "tensor([9, 0, 0,  ..., 3, 0, 5])"
      ]
     },
     "execution_count": 8,
     "metadata": {},
     "output_type": "execute_result"
    }
   ],
   "source": [
    "train_data.targets"
   ]
  },
  {
   "cell_type": "code",
   "execution_count": 9,
   "id": "0e052d20-2389-48b5-b4e3-085f400da4a3",
   "metadata": {},
   "outputs": [
    {
     "name": "stdout",
     "output_type": "stream",
     "text": [
      "torch.Size([1, 28, 28])\n",
      "9\n"
     ]
    }
   ],
   "source": [
    "image,label=train_data[0]\n",
    "print(image.shape)\n",
    "print(label)"
   ]
  },
  {
   "cell_type": "code",
   "execution_count": 10,
   "id": "bbba7c72-bcd2-43fa-b817-46022d7e97f4",
   "metadata": {},
   "outputs": [
    {
     "data": {
      "text/plain": [
       "'Ankle boot'"
      ]
     },
     "execution_count": 10,
     "metadata": {},
     "output_type": "execute_result"
    }
   ],
   "source": [
    "class_names[label]"
   ]
  },
  {
   "cell_type": "code",
   "execution_count": 11,
   "id": "5a3b5ad0-ddaf-47f1-9892-8b34fd00b8c2",
   "metadata": {},
   "outputs": [
    {
     "data": {
      "text/plain": [
       "9"
      ]
     },
     "execution_count": 11,
     "metadata": {},
     "output_type": "execute_result"
    }
   ],
   "source": [
    "class_to_idx[\"Ankle boot\"]"
   ]
  },
  {
   "cell_type": "code",
   "execution_count": 12,
   "id": "436cc634-0b2e-4113-8241-4015ae414e36",
   "metadata": {},
   "outputs": [],
   "source": [
    "image,label=train_data[1]"
   ]
  },
  {
   "cell_type": "markdown",
   "id": "019c93a0-f093-482a-8fa8-4d36323f9c9f",
   "metadata": {},
   "source": [
    "* the arrangment are color channel,height and width"
   ]
  },
  {
   "cell_type": "code",
   "execution_count": 13,
   "id": "053c1170-62f2-4943-b7ff-30e5b34fff88",
   "metadata": {
    "scrolled": true
   },
   "outputs": [
    {
     "data": {
      "text/plain": [
       "torch.Size([1, 28, 28])"
      ]
     },
     "execution_count": 13,
     "metadata": {},
     "output_type": "execute_result"
    }
   ],
   "source": [
    "image.shape"
   ]
  },
  {
   "cell_type": "markdown",
   "id": "19e5b025-003f-4616-a950-19bcf7f8fa48",
   "metadata": {},
   "source": [
    "## lets visualize our data"
   ]
  },
  {
   "cell_type": "code",
   "execution_count": 14,
   "id": "aaf2ef2f-cecc-470e-aac8-bb336861ec62",
   "metadata": {},
   "outputs": [
    {
     "data": {
      "image/png": "[encoded data removed]",
      "text/plain": [
       "<Figure size 640x480 with 1 Axes>"
      ]
     },
     "metadata": {},
     "output_type": "display_data"
    }
   ],
   "source": [
    "plt.imshow(image.permute(1,2,0));"
   ]
  },
  {
   "cell_type": "code",
   "execution_count": 15,
   "id": "dc66a21a-3319-4ea6-8c8d-809840e96c1e",
   "metadata": {},
   "outputs": [
    {
     "data": {
      "image/png": "[encoded data removed]",
      "text/plain": [
       "<Figure size 640x480 with 1 Axes>"
      ]
     },
     "metadata": {},
     "output_type": "display_data"
    }
   ],
   "source": [
    "#ploting it in gray scale\n",
    "plt.imshow(image.squeeze(),cmap=\"gray\")\n",
    "plt.title(class_names[label]);\n",
    "plt.axis(False);"
   ]
  },
  {
   "cell_type": "code",
   "execution_count": 16,
   "id": "fba450f5-dc11-4968-9e28-6dcb77cde709",
   "metadata": {},
   "outputs": [
    {
     "data": {
      "image/png": "[encoded data removed]",
      "text/plain": [
       "<Figure size 1000x700 with 16 Axes>"
      ]
     },
     "metadata": {},
     "output_type": "display_data"
    }
   ],
   "source": [
    "torch.manual_seed(42)\n",
    "np.random.seed(42)\n",
    "\n",
    "fig=plt.figure(figsize=(10,7))\n",
    "row,col=4,4\n",
    "\n",
    "for i in range(1,row*col+1):\n",
    "    \n",
    "    rand_id=torch.randint(0,len(train_data),size=[1]).item()\n",
    "    image,label=train_data[rand_id]\n",
    "\n",
    "    fig.add_subplot(row,col,i)\n",
    "    \n",
    "    plt.imshow(image.squeeze(),cmap=\"gray\");\n",
    "    plt.title(class_names[label]);\n",
    "    plt.axis(False)"
   ]
  },
  {
   "cell_type": "code",
   "execution_count": 17,
   "id": "698829a4-aeb2-4d2e-acba-927e6ba565c0",
   "metadata": {},
   "outputs": [],
   "source": [
    "# lets handle the dataloader\n",
    "batch_size=32\n",
    "from torch.utils.data import DataLoader\n",
    "train_dataloader=DataLoader(\n",
    "    dataset=train_data,\n",
    "    batch_size=batch_size,\n",
    "    shuffle=True\n",
    ")"
   ]
  },
  {
   "cell_type": "code",
   "execution_count": 18,
   "id": "5645a048-9a04-41d6-9400-ee225c80501c",
   "metadata": {},
   "outputs": [],
   "source": [
    "test_dataloader=DataLoader(\n",
    "    dataset=test_data,\n",
    "    shuffle=False,\n",
    "    batch_size=batch_size\n",
    ")"
   ]
  },
  {
   "cell_type": "code",
   "execution_count": 19,
   "id": "ff64e2c6-1d39-4546-8c88-4149f066ccf8",
   "metadata": {},
   "outputs": [
    {
     "data": {
      "text/plain": [
       "(1875, 313)"
      ]
     },
     "execution_count": 19,
     "metadata": {},
     "output_type": "execute_result"
    }
   ],
   "source": [
    "len(train_dataloader),len(test_dataloader)"
   ]
  },
  {
   "cell_type": "code",
   "execution_count": 20,
   "id": "e4c64910-a6d1-4a20-bfbe-2f1abb3fa51d",
   "metadata": {},
   "outputs": [
    {
     "data": {
      "text/plain": [
       "(60000, 10016)"
      ]
     },
     "execution_count": 20,
     "metadata": {},
     "output_type": "execute_result"
    }
   ],
   "source": [
    "1875*32,313*32"
   ]
  },
  {
   "cell_type": "code",
   "execution_count": 21,
   "id": "f2681610-926b-4c13-a870-e53dbda625d6",
   "metadata": {},
   "outputs": [
    {
     "data": {
      "text/plain": [
       "(torch.Size([32, 1, 28, 28]), torch.Size([32]))"
      ]
     },
     "execution_count": 21,
     "metadata": {},
     "output_type": "execute_result"
    }
   ],
   "source": [
    "#lets check out the data\n",
    "train_feature_batch,train_label_batch=next(iter( train_dataloader))\n",
    "train_feature_batch.shape,train_label_batch.shape"
   ]
  },
  {
   "cell_type": "code",
   "execution_count": 22,
   "id": "1eb39b4e-402c-4536-8260-363529d8bd45",
   "metadata": {},
   "outputs": [
    {
     "name": "stdout",
     "output_type": "stream",
     "text": [
      "image shape;  torch.Size([1, 28, 28])\n",
      "image label;  8\n"
     ]
    },
    {
     "data": {
      "image/png": "[encoded data removed]",
      "text/plain": [
       "<Figure size 640x480 with 1 Axes>"
      ]
     },
     "metadata": {},
     "output_type": "display_data"
    }
   ],
   "source": [
    "# lets check out our data\n",
    "rand_idx=torch.randint(0,len(train_feature_batch),size=[1]).item()\n",
    "images,label=train_feature_batch[rand_idx],train_label_batch[rand_idx]\n",
    "plt.imshow(images.squeeze(),cmap=\"gray\");\n",
    "plt.title(class_names[label]);\n",
    "\n",
    "print(\"image shape; \" ,images.shape)\n",
    "print(\"image label; \", label.item())\n",
    "#plt.write()\n",
    "plt.axis(\"off\");"
   ]
  },
  {
   "cell_type": "code",
   "execution_count": 23,
   "id": "b4cb9d58-0928-4a6e-ab64-b167d8903f19",
   "metadata": {},
   "outputs": [
    {
     "data": {
      "text/plain": [
       "'cpu'"
      ]
     },
     "execution_count": 23,
     "metadata": {},
     "output_type": "execute_result"
    }
   ],
   "source": [
    "device=\"cuda\" if torch.cuda.is_available() else \"cpu\"\n",
    "device"
   ]
  },
  {
   "cell_type": "markdown",
   "id": "e9a236ee-7f5f-44e1-9a49-0911af4fff5f",
   "metadata": {},
   "source": [
    "# lets build a base line model"
   ]
  },
  {
   "cell_type": "code",
   "execution_count": 24,
   "id": "41badf9d-9fd8-45f5-b657-ad2779fad6e5",
   "metadata": {},
   "outputs": [
    {
     "data": {
      "text/plain": [
       "torch.Size([1, 28, 28])"
      ]
     },
     "execution_count": 24,
     "metadata": {},
     "output_type": "execute_result"
    }
   ],
   "source": [
    "x=train_feature_batch[0]\n",
    "x.shape"
   ]
  },
  {
   "cell_type": "code",
   "execution_count": 25,
   "id": "523dc197-6748-4255-980d-5215837196ee",
   "metadata": {},
   "outputs": [],
   "source": [
    "#lets build it\n",
    "class FmnistModelV0(nn.Module):\n",
    "    def __init__(self,\n",
    "                 input_shape:int,\n",
    "                 n_neuron:int,\n",
    "                 output_shape:int\n",
    "                ):\n",
    "        super().__init__()\n",
    "        self.Layer=nn.Sequential(\n",
    "            nn.Flatten(),\n",
    "            nn.Linear(in_features=input_shape,out_features=n_neuron),\n",
    "           # nn.ReLU(),\n",
    "            nn.Linear(in_features=n_neuron,out_features=n_neuron),\n",
    "           # nn.ReLU(),\n",
    "            nn.Linear(in_features=n_neuron,out_features=output_shape),\n",
    "            #nn.softmax()\n",
    "        )\n",
    "    def forward(self,x:torch.Tensor)->torch.Tensor:\n",
    "        return self.Layer(x)"
   ]
  },
  {
   "cell_type": "code",
   "execution_count": 26,
   "id": "c04d6e8c-cb79-4a7e-9698-257cb057bc2c",
   "metadata": {},
   "outputs": [
    {
     "data": {
      "text/plain": [
       "FmnistModelV0(\n",
       "  (Layer): Sequential(\n",
       "    (0): Flatten(start_dim=1, end_dim=-1)\n",
       "    (1): Linear(in_features=784, out_features=28, bias=True)\n",
       "    (2): Linear(in_features=28, out_features=28, bias=True)\n",
       "    (3): Linear(in_features=28, out_features=10, bias=True)\n",
       "  )\n",
       ")"
      ]
     },
     "execution_count": 26,
     "metadata": {},
     "output_type": "execute_result"
    }
   ],
   "source": [
    "#lets initiate our base model\n",
    "model_v0=FmnistModelV0(\n",
    "    input_shape=28*28,\n",
    "    n_neuron=28,\n",
    "    output_shape=len(class_names)\n",
    ")\n",
    "model_v0.to(device)"
   ]
  },
  {
   "cell_type": "code",
   "execution_count": 27,
   "id": "28cfc8b3-a0bd-4c1b-9fe2-809a005833d2",
   "metadata": {},
   "outputs": [
    {
     "name": "stdout",
     "output_type": "stream",
     "text": [
      "file already existice\n"
     ]
    }
   ],
   "source": [
    "#lets make an accuracy\n",
    "import requests \n",
    "from pathlib import Path\n",
    "\n",
    "if Path(\"helper_function.py\").is_file():\n",
    "    print(\"file already existice\")\n",
    "else:\n",
    "    print(\"downloading file\")\n",
    "    request=requests.get(\"https://raw.githubusercontent.com/mrdbourke/pytorch-deep-learning/main/helper_functions.py\")\n",
    "    with open(\"helper_function.py\",\"wb\") as f:\n",
    "        f.write(request.content)"
   ]
  },
  {
   "cell_type": "code",
   "execution_count": 28,
   "id": "5157720f-f30f-4b23-99fe-c6694dc6c2ee",
   "metadata": {},
   "outputs": [],
   "source": [
    "#lets import accuract from the helper function \n",
    "from helper_function import accuracy_fn\n",
    "\n",
    "loss_fn=nn.CrossEntropyLoss()\n",
    "optimizer=torch.optim.SGD(params=model_v0.parameters(),lr=0.01)\n"
   ]
  },
  {
   "cell_type": "markdown",
   "id": "8c1253b5-7fe2-48e5-9ab7-c35cd2392751",
   "metadata": {},
   "source": [
    "* since time is one factor that we need to keep an eye on that is \n",
    "including accuracy and performace of the model"
   ]
  },
  {
   "cell_type": "code",
   "execution_count": 29,
   "id": "aca0abf8-1c5c-4d83-9740-82cb134c5bb0",
   "metadata": {},
   "outputs": [],
   "source": [
    "#a timer displayer\n",
    "from timeit import default_timer as timer\n",
    "\n",
    "def print_timer(start:float,\n",
    "               end:float,\n",
    "                device:torch.device=None\n",
    "               ):\n",
    "    \"\"\"\n",
    "   displays  the differenee between start and end time \n",
    "    \"\"\"\n",
    "    total_time=end-start\n",
    "    print(f\"total time is {total_time:.3f} on the device {device} \")\n",
    "    return total_time"
   ]
  },
  {
   "cell_type": "code",
   "execution_count": 30,
   "id": "858418bd-8e32-4ebb-a857-fb5c95c349d8",
   "metadata": {
    "scrolled": true
   },
   "outputs": [
    {
     "name": "stdout",
     "output_type": "stream",
     "text": [
      "total time is 0.000 on the device cpu \n"
     ]
    },
    {
     "data": {
      "text/plain": [
       "0.00011049999989154458"
      ]
     },
     "execution_count": 30,
     "metadata": {},
     "output_type": "execute_result"
    }
   ],
   "source": [
    "start_time=timer()\n",
    "# for i in range(100000):\n",
    "#     a=90\n",
    "#     b=10\n",
    "#     c=a/b\n",
    "end_time=timer()\n",
    "print_timer(start_time,end_time,\"cpu\")"
   ]
  },
  {
   "cell_type": "markdown",
   "id": "5fe40e74-128c-4cef-96c2-bd796bc7c161",
   "metadata": {},
   "source": [
    "* the parameters are updated here once per batch rather than once per epoch\n",
    "* we are gonna loop through each batch in trainin and testing calculate the loss'es"
   ]
  },
  {
   "cell_type": "code",
   "execution_count": 31,
   "id": "28210059-067c-4c95-89af-912ced1bab3d",
   "metadata": {
    "scrolled": true
   },
   "outputs": [
    {
     "name": "stderr",
     "output_type": "stream",
     "text": [
      "C:\\Users\\nebiy\\miniconda3\\envs\\snakey\\lib\\site-packages\\tqdm\\auto.py:21: TqdmWarning: IProgress not found. Please update jupyter and ipywidgets. See https://ipywidgets.readthedocs.io/en/stable/user_install.html\n",
      "  from .autonotebook import tqdm as notebook_tqdm\n",
      "  0%|                                                                                            | 0/3 [00:00<?, ?it/s]"
     ]
    },
    {
     "name": "stdout",
     "output_type": "stream",
     "text": [
      "Epoch 0---------------> \n",
      "number of elements seen 0/60000 samples\n",
      "number of elements seen 12800/60000 samples\n",
      "number of elements seen 25600/60000 samples\n",
      "number of elements seen 38400/60000 samples\n",
      "number of elements seen 51200/60000 samples\n"
     ]
    },
    {
     "name": "stderr",
     "output_type": "stream",
     "text": [
      " 33%|████████████████████████████                                                        | 1/3 [00:18<00:36, 18.21s/it]"
     ]
    },
    {
     "name": "stdout",
     "output_type": "stream",
     "text": [
      "train loss: 0.932 | test loss 0.001 | accuracy loss 0.2795527156549521\n",
      "Epoch 1---------------> \n",
      "number of elements seen 0/60000 samples\n",
      "number of elements seen 12800/60000 samples\n",
      "number of elements seen 25600/60000 samples\n",
      "number of elements seen 38400/60000 samples\n",
      "number of elements seen 51200/60000 samples\n"
     ]
    },
    {
     "name": "stderr",
     "output_type": "stream",
     "text": [
      " 67%|████████████████████████████████████████████████████████                            | 2/3 [00:36<00:18, 18.05s/it]"
     ]
    },
    {
     "name": "stdout",
     "output_type": "stream",
     "text": [
      "train loss: 0.550 | test loss 0.001 | accuracy loss 0.2995207667731629\n",
      "Epoch 2---------------> \n",
      "number of elements seen 0/60000 samples\n",
      "number of elements seen 12800/60000 samples\n",
      "number of elements seen 25600/60000 samples\n",
      "number of elements seen 38400/60000 samples\n",
      "number of elements seen 51200/60000 samples\n"
     ]
    },
    {
     "name": "stderr",
     "output_type": "stream",
     "text": [
      "100%|████████████████████████████████████████████████████████████████████████████████████| 3/3 [00:53<00:00, 17.85s/it]"
     ]
    },
    {
     "name": "stdout",
     "output_type": "stream",
     "text": [
      "train loss: 0.496 | test loss 0.001 | accuracy loss 0.2995207667731629\n",
      "total time is 53.566 on the device cpu \n"
     ]
    },
    {
     "name": "stderr",
     "output_type": "stream",
     "text": [
      "\n"
     ]
    },
    {
     "data": {
      "text/plain": [
       "53.566491900000074"
      ]
     },
     "execution_count": 31,
     "metadata": {},
     "output_type": "execute_result"
    }
   ],
   "source": [
    "from tqdm.auto import tqdm\n",
    "#lets time our modeling time progress\n",
    "torch.manual_seed(42)\n",
    "start_timer=timer()\n",
    "\n",
    "#lets setup the training steps\n",
    "epochs=3\n",
    "for epoch in tqdm(range(epochs)):\n",
    "    print(f\"Epoch {epoch}---------------> \")\n",
    "    model_v0.train()\n",
    "    train_loss=0\n",
    "    \n",
    "    for batch,(x,y) in enumerate(train_dataloader):\n",
    "        y_pred_train=model_v0(x)\n",
    "        loss=loss_fn(y_pred_train,y)\n",
    "    \n",
    "        train_loss+=loss\n",
    "        #optimizer\n",
    "        \n",
    "        optimizer.zero_grad()\n",
    "        #back prop\n",
    "        loss.backward()\n",
    "        #update parameter\n",
    "        \n",
    "        optimizer.step()\n",
    "        if(batch%400==0):\n",
    "            print(f\"number of elements seen {batch*len(x)}/{len(train_dataloader.dataset)} samples\")\n",
    "    \n",
    "    train_loss/=len(train_dataloader)  #we are dividing it by the number of elements per batch\n",
    "    \n",
    "    #inference mode\n",
    "    model_v0.eval()\n",
    "    with torch.inference_mode():  \n",
    "        for x_val,y_val in test_dataloader:\n",
    "                \n",
    "            test_loss=0\n",
    "            test_acc=0\n",
    "                \n",
    "            y_val_pred=model_v0(x_val)\n",
    "                \n",
    "            test_loss+=loss_fn(y_val_pred,y_val) #loss of the evaluation model   \n",
    "            test_acc+=accuracy_fn(y_val,y_val_pred.argmax(dim=1))  #argumetns are y_true and y_pred\n",
    "            \n",
    "            test_loss/=len(test_dataloader)\n",
    "            test_acc/=len(test_dataloader)\n",
    "    print(f\"train loss: {train_loss:.3f} | test loss {test_loss:.3f} | accuracy loss {test_acc}\")\n",
    "\n",
    "end_time=timer()\n",
    "print_timer(start=start_timer,end=end_time,device=str(next(model_v0.parameters()).device))"
   ]
  },
  {
   "cell_type": "markdown",
   "id": "3ccd6f25-fc65-4ed3-9b6a-b6dff17fa854",
   "metadata": {},
   "source": [
    "# make prediction"
   ]
  },
  {
   "cell_type": "code",
   "execution_count": 32,
   "id": "863cc5ab-3449-4d81-b7d6-0344f72f1e5a",
   "metadata": {},
   "outputs": [],
   "source": [
    "#lets modularize\n",
    "def model_eval(\n",
    "    model:nn.Module,\n",
    "    dataset:torch.utils.data.DataLoader,\n",
    "    loss_fn:nn.Module,\n",
    "    accuracy_fn\n",
    "):\n",
    "    loss,acc=0,0\n",
    "    model.eval()\n",
    "    train_loss=0\n",
    "    with torch.inference_mode():\n",
    "        for x,y in tqdm(dataset):\n",
    "            y_pred=model(x)        \n",
    "            loss+=loss_fn(y_pred,y)\n",
    "            \n",
    "            acc+=accuracy_fn(y,y_pred.argmax(dim=1))\n",
    "    \n",
    "        #train_loss=loss/len(dataset)\n",
    "        loss/=len(dataset) \n",
    "        acc/=len(dataset)\n",
    "    return {\"model_name\":model.__class__.__name__,\n",
    "           \"loss\":loss.item(),\n",
    "            \"accuracy_fn\":acc}"
   ]
  },
  {
   "cell_type": "code",
   "execution_count": 33,
   "id": "8e02cc8f-38bb-4bb0-9860-cc297d42019e",
   "metadata": {},
   "outputs": [
    {
     "name": "stderr",
     "output_type": "stream",
     "text": [
      "100%|███████████████████████████████████████████████████████████████████████████████| 313/313 [00:01<00:00, 157.13it/s]\n"
     ]
    },
    {
     "data": {
      "text/plain": [
       "{'model_name': 'FmnistModelV0',\n",
       " 'loss': 0.5021693110466003,\n",
       " 'accuracy_fn': 82.12859424920129}"
      ]
     },
     "execution_count": 33,
     "metadata": {},
     "output_type": "execute_result"
    }
   ],
   "source": [
    "model_results=model_eval(model=model_v0,\n",
    "          dataset=test_dataloader,\n",
    "           loss_fn=loss_fn,\n",
    "           accuracy_fn=accuracy_fn\n",
    "          )\n",
    "model_results\n",
    "\n",
    "# lets try non lineare model"
   ]
  },
  {
   "cell_type": "code",
   "execution_count": 34,
   "id": "c80e9d35-ed8d-4a9a-a85a-67c96ae7ac0d",
   "metadata": {},
   "outputs": [],
   "source": [
    "class FashionModel_v2(nn.Module):\n",
    "    def __init__(self,input_feature:int,\n",
    "                 output_feature:int,\n",
    "                 n_hidden:int\n",
    "                ):\n",
    "        super().__init__()\n",
    "        self.layer_stack=nn.Sequential(\n",
    "            nn.Flatten(),\n",
    "            nn.Linear(in_features=input_feature,\n",
    "                     out_features=n_hidden),\n",
    "            nn.ReLU(),\n",
    "            nn.Linear(in_features=n_hidden,out_features=output_feature),\n",
    "            nn.ReLU()\n",
    "        )\n",
    "    def forward(self,x):\n",
    "        return self.layer_stack(x)"
   ]
  },
  {
   "cell_type": "code",
   "execution_count": 35,
   "id": "b0b118f9-eb99-4f3d-b3da-82ba49ed05e5",
   "metadata": {},
   "outputs": [],
   "source": [
    "model2=FashionModel_v2(\n",
    "    input_feature=784,\n",
    "    output_feature=len(class_names),\n",
    "    n_hidden=10\n",
    ").to(device)"
   ]
  },
  {
   "cell_type": "markdown",
   "id": "53d1433b-6b64-4009-97dd-3845b199c13c",
   "metadata": {},
   "source": [
    "# lets functionize the training/testing steps"
   ]
  },
  {
   "cell_type": "code",
   "execution_count": 36,
   "id": "e4187625-bae7-497b-9806-74832877a693",
   "metadata": {},
   "outputs": [],
   "source": [
    "def train_step(\n",
    "    model:nn.Module,\n",
    "    data_loader:torch.utils.data.DataLoader,\n",
    "    loss_fn:nn.Module,\n",
    "    accuracy_fn,\n",
    "    optimizer:torch.optim,\n",
    "    device:torch.device=device\n",
    "):\n",
    "    \"\"\"\n",
    "    calculate the trainig models loss and caccuracy\n",
    "    \"\"\"\n",
    "    model.train()\n",
    "    \n",
    "    train_loss,train_acc=0,0\n",
    "    \n",
    "    for batch,(x,y) in enumerate(data_loader):\n",
    "        #put the data on the same device\n",
    "        x.to(device)\n",
    "        y.to(device)\n",
    "        \n",
    "        y_pred_train=model(x)\n",
    "\n",
    "        \n",
    "        #calculate the loss\n",
    "        #  loss=loss_fn(y_pred_train,y)\n",
    "        # acc=accuracy_fn(y,y_pred_train.argmax(dim=1))\n",
    "\n",
    "        #store accuracy\n",
    "        train_acc+=accuracy_fn(y,y_pred_train.argmax(dim=1))\n",
    "        \n",
    "       \n",
    "        #calculate loss\n",
    "        loss=loss_fn(y_pred_train,y)\n",
    "\n",
    "         #update cumulative loss\n",
    "        train_loss+=loss\n",
    "        \n",
    "        #optimizer\n",
    "        optimizer.zero_grad()\n",
    "\n",
    "        #back prop\n",
    "        loss.backward()\n",
    "        #update parameter\n",
    "        \n",
    "        optimizer.step()\n",
    "        # if(batch%400==0):\n",
    "        #     print(f\"number of elements seen {batch*len(x)}/{len(train_dataloader.dataset)} samples\")\n",
    "    \n",
    "    train_loss/=len(data_loader)  #we are dividing it by the number of elements per batch\n",
    "    train_acc/=len(data_loader)\n",
    "    print(f\"train loss {train_loss:.3f} | train accuracy {train_acc:.3f} \")"
   ]
  },
  {
   "cell_type": "markdown",
   "id": "b8aa4f1e-1f0b-4fab-a5ce-c87d55697c8f",
   "metadata": {},
   "source": [
    "* evaluation model"
   ]
  },
  {
   "cell_type": "code",
   "execution_count": 37,
   "id": "908e0205-7a6d-459f-8537-c09be21a1e3e",
   "metadata": {
    "scrolled": true
   },
   "outputs": [],
   "source": [
    "def eval_step(\n",
    "    model:nn.Module,\n",
    "    data_loader:torch.utils.data.DataLoader,\n",
    "    loss_fn:nn.Module,\n",
    "    accuracy_fn:accuracy_fn,\n",
    "    device:torch.device=device\n",
    "):\n",
    "    \"\"\" this performs model evaliation over a test dataset\n",
    "    \"\"\"\n",
    "    test_loss=0\n",
    "    test_acc=0\n",
    "     #inference mode\n",
    "    model.eval()\n",
    "    with torch.inference_mode():  \n",
    "        \n",
    "        for x_val,y_val in data_loader:\n",
    "\n",
    "            x_val.to(device)\n",
    "            y_val.to(device) \n",
    "                \n",
    "            y_val_pred=model(x_val)\n",
    "                \n",
    "            test_loss+=loss_fn(y_val_pred,y_val) #loss of the evaluation model   \n",
    "            test_acc+=accuracy_fn(y_val,y_val_pred.argmax(dim=1))  #argumetns are y_true and y_pred\n",
    "            \n",
    "        test_loss/=len(test_dataloader)\n",
    "        test_acc/=len(test_dataloader)\n",
    "    \n",
    "        print(f\"test losst : {test_loss:.3f} | test accuracy | {test_acc:.3f}\")\n",
    "        "
   ]
  },
  {
   "cell_type": "markdown",
   "id": "f79d5017-704c-40b6-a5df-b0ca0564897b",
   "metadata": {},
   "source": [
    "# lets train our data and evaluate it using this functions"
   ]
  },
  {
   "cell_type": "code",
   "execution_count": 38,
   "id": "b7ea75d7-dae2-411b-806d-abf9dc139dcd",
   "metadata": {
    "scrolled": true
   },
   "outputs": [],
   "source": [
    "#lets train our model\n",
    "\n",
    "loss_fn=nn.CrossEntropyLoss()\n",
    "optimizer=torch.optim.SGD(params=model2.parameters(),lr=0.01)"
   ]
  },
  {
   "cell_type": "code",
   "execution_count": 39,
   "id": "3af362a2-21c8-4cf9-943e-23988a8e8b01",
   "metadata": {},
   "outputs": [
    {
     "name": "stderr",
     "output_type": "stream",
     "text": [
      "  0%|                                                                                            | 0/3 [00:00<?, ?it/s]"
     ]
    },
    {
     "name": "stdout",
     "output_type": "stream",
     "text": [
      "epoch 0 \n",
      " ------->\n",
      "train loss 1.643 | train accuracy 45.793 \n"
     ]
    },
    {
     "name": "stderr",
     "output_type": "stream",
     "text": [
      " 33%|████████████████████████████                                                        | 1/3 [00:17<00:34, 17.26s/it]"
     ]
    },
    {
     "name": "stdout",
     "output_type": "stream",
     "text": [
      "test losst : 1.304 | test accuracy | 60.763\n",
      "epoch 1 \n",
      " ------->\n",
      "train loss 1.115 | train accuracy 64.513 \n"
     ]
    },
    {
     "name": "stderr",
     "output_type": "stream",
     "text": [
      " 67%|████████████████████████████████████████████████████████                            | 2/3 [00:34<00:17, 17.48s/it]"
     ]
    },
    {
     "name": "stdout",
     "output_type": "stream",
     "text": [
      "test losst : 1.043 | test accuracy | 65.166\n",
      "epoch 2 \n",
      " ------->\n",
      "train loss 0.988 | train accuracy 66.892 \n"
     ]
    },
    {
     "name": "stderr",
     "output_type": "stream",
     "text": [
      "100%|████████████████████████████████████████████████████████████████████████████████████| 3/3 [00:52<00:00, 17.39s/it]"
     ]
    },
    {
     "name": "stdout",
     "output_type": "stream",
     "text": [
      "test losst : 0.992 | test accuracy | 66.603\n",
      "total time is 52.185 on the device cpu \n"
     ]
    },
    {
     "name": "stderr",
     "output_type": "stream",
     "text": [
      "\n"
     ]
    },
    {
     "data": {
      "text/plain": [
       "52.18541600000003"
      ]
     },
     "execution_count": 39,
     "metadata": {},
     "output_type": "execute_result"
    }
   ],
   "source": [
    "#lets start the training\n",
    "start_time=timer()\n",
    "epochs=3\n",
    "\n",
    "for epoch in tqdm(range(epochs)):\n",
    "    print(f\"epoch {epoch} \\n ------->\")\n",
    "    train_step(model=model2,\n",
    "               data_loader=train_dataloader,\n",
    "               accuracy_fn=accuracy_fn,\n",
    "               optimizer=optimizer,\n",
    "               loss_fn=loss_fn,\n",
    "                device=device\n",
    "               )\n",
    "    #lets add test or evaluation method too\n",
    "    eval_step(model=model2,\n",
    "             data_loader=test_dataloader,\n",
    "             accuracy_fn=accuracy_fn,\n",
    "             loss_fn=loss_fn,\n",
    "             device=device)\n",
    "\n",
    "end_timer=timer()\n",
    "print_timer(start=start_time,\n",
    "           end=end_timer,\n",
    "            device=device)"
   ]
  },
  {
   "cell_type": "code",
   "execution_count": 45,
   "id": "d801cc90-a141-4884-9d8c-a7dea9df5127",
   "metadata": {},
   "outputs": [],
   "source": [
    "def eval_model(\n",
    "    model:nn.Module,\n",
    "    data_loader:torch.utils.data.DataLoader,\n",
    "    loss_fn:nn.Module,\n",
    "    accuracy_fn:accuracy_fn,\n",
    "    device:torch.device=device\n",
    "):\n",
    "    \"\"\" this performs model evaliation over a test dataset,\n",
    "    and returns dictionary\n",
    "    \"\"\"\n",
    "    test_loss=0\n",
    "    test_acc=0\n",
    "     #inference mode\n",
    "    model.eval()\n",
    "    with torch.inference_mode():  \n",
    "        \n",
    "        for x_val,y_val in data_loader:\n",
    "\n",
    "            x_val.to(device)\n",
    "            y_val.to(device) \n",
    "                \n",
    "            y_val_pred=model(x_val)\n",
    "                \n",
    "            test_loss+=loss_fn(y_val_pred,y_val) #loss of the evaluation model   \n",
    "            test_acc+=accuracy_fn(y_val,y_val_pred.argmax(dim=1))  #argumetns are y_true and y_pred\n",
    "            \n",
    "        test_loss/=len(test_dataloader)\n",
    "        test_acc/=len(test_dataloader)\n",
    "    \n",
    "    return {\n",
    "        \"model_name\":model.__class__.__name__,\n",
    "        \"model_loss\":test_loss.item(),\n",
    "        \"model_accuracy\":test_acc\n",
    "    }\n",
    "        "
   ]
  },
  {
   "cell_type": "code",
   "execution_count": 46,
   "id": "fb455dda-c14d-4b61-8f94-cf19475c4083",
   "metadata": {},
   "outputs": [
    {
     "data": {
      "text/plain": [
       "{'model_name': 'FashionModel_v2',\n",
       " 'model_loss': 0.9921626448631287,\n",
       " 'model_accuracy': 66.60343450479233}"
      ]
     },
     "execution_count": 46,
     "metadata": {},
     "output_type": "execute_result"
    }
   ],
   "source": [
    "eval_model(model=model2,\n",
    "           loss_fn=loss_fn,\n",
    "           data_loader=test_dataloader,\n",
    "           accuracy_fn=accuracy_fn,\n",
    "          )"
   ]
  },
  {
   "cell_type": "code",
   "execution_count": null,
   "id": "29a1b452-ddb5-446c-8b24-24dfaf002f60",
   "metadata": {},
   "outputs": [],
   "source": []
  }
 ],
 "metadata": {
  "kernelspec": {
   "display_name": "Python 3 (ipykernel)",
   "language": "python",
   "name": "python3"
  },
  "language_info": {
   "codemirror_mode": {
    "name": "ipython",
    "version": 3
   },
   "file_extension": ".py",
   "mimetype": "text/x-python",
   "name": "python",
   "nbconvert_exporter": "python",
   "pygments_lexer": "ipython3",
   "version": "3.8.18"
  }
 },
 "nbformat": 4,
 "nbformat_minor": 5
}

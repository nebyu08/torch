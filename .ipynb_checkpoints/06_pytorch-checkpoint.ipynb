{
 "cells": [
  {
   "cell_type": "code",
   "execution_count": 1,
   "id": "b1f7b926-3e3e-44dd-9898-04fac6ed71d4",
   "metadata": {},
   "outputs": [],
   "source": [
    "import torch"
   ]
  },
  {
   "cell_type": "markdown",
   "id": "8f2c893b-b484-48b2-a6f4-e65ec91e762b",
   "metadata": {},
   "source": [
    "# reshapping,stacking,squeezing and unsqueezing tensors"
   ]
  },
  {
   "cell_type": "markdown",
   "id": "228ae04c-0355-4595-b9b2-5d4ef1739fe9",
   "metadata": {},
   "source": [
    "##  lets see the definition of them all know\n",
    "    * reshaping:-reshapes an input tensor\n",
    "    *view:-returns a view of a tensor of a certain shape but keep the same memory\n",
    "    *stacking:-combines a stack of tensors on top of each other whether vertical or horizontal\n",
    "    *squeez:- removes all 1 dimension from a tensor\n",
    "    *unsqueez:add a 1 dimension to a tensor"
   ]
  },
  {
   "cell_type": "code",
   "execution_count": 2,
   "id": "401626d0-de65-4957-94b3-8cf694420633",
   "metadata": {},
   "outputs": [
    {
     "name": "stdout",
     "output_type": "stream",
     "text": [
      "torch.Size([10])\n",
      "tensor([ 1,  2,  3,  4,  5,  6,  7,  8,  9, 10])\n"
     ]
    }
   ],
   "source": [
    "tensor=torch.arange(1,11)\n",
    "print(tensor.shape)\n",
    "print(tensor)"
   ]
  },
  {
   "cell_type": "code",
   "execution_count": 3,
   "id": "1388b043-7eba-4a86-b78d-d1682f90d041",
   "metadata": {},
   "outputs": [
    {
     "name": "stdout",
     "output_type": "stream",
     "text": [
      "tensor([[ 1,  2],\n",
      "        [ 3,  4],\n",
      "        [ 5,  6],\n",
      "        [ 7,  8],\n",
      "        [ 9, 10]])\n"
     ]
    }
   ],
   "source": [
    "print(tensor.reshape([5,2]))"
   ]
  },
  {
   "cell_type": "code",
   "execution_count": 4,
   "id": "266c8bfb-595b-48d1-8d3a-dc3a1b604805",
   "metadata": {},
   "outputs": [
    {
     "name": "stdout",
     "output_type": "stream",
     "text": [
      "tensor([ 1,  2,  3,  4,  5,  6,  7,  8,  9, 10])\n"
     ]
    }
   ],
   "source": [
    "print(tensor)"
   ]
  },
  {
   "cell_type": "code",
   "execution_count": 5,
   "id": "0197213b-2bd3-4146-bcdd-f32fd94e9171",
   "metadata": {},
   "outputs": [
    {
     "name": "stdout",
     "output_type": "stream",
     "text": [
      "tensor([[ 1],\n",
      "        [ 2],\n",
      "        [ 3],\n",
      "        [ 4],\n",
      "        [ 5],\n",
      "        [ 6],\n",
      "        [ 7],\n",
      "        [ 8],\n",
      "        [ 9],\n",
      "        [10]])\n"
     ]
    }
   ],
   "source": [
    "print(tensor.reshape([10,1]))"
   ]
  },
  {
   "cell_type": "code",
   "execution_count": 6,
   "id": "74a4c3d7-a443-4b23-879d-3da8c47034b9",
   "metadata": {},
   "outputs": [
    {
     "name": "stdout",
     "output_type": "stream",
     "text": [
      "tensor([ 1,  2,  3,  4,  5,  6,  7,  8,  9, 10])\n",
      "tensor([[ 1,  2,  3,  4,  5,  6,  7,  8,  9, 10]])\n"
     ]
    }
   ],
   "source": [
    "# using view to change the shape of the tensor array\n",
    "x=torch.arange(1,11)\n",
    "z=x.view(1,10)\n",
    "print(x)\n",
    "print(z)"
   ]
  },
  {
   "cell_type": "code",
   "execution_count": 7,
   "id": "912176ed-a7b5-4332-baf6-e40d8549260c",
   "metadata": {},
   "outputs": [
    {
     "name": "stdout",
     "output_type": "stream",
     "text": [
      "tensor([90,  2,  3,  4,  5,  6,  7,  8,  9, 10])\n",
      "tensor([[90,  2,  3,  4,  5,  6,  7,  8,  9, 10]])\n"
     ]
    }
   ],
   "source": [
    "x[0]=90\n",
    "print(x)\n",
    "print(z)"
   ]
  },
  {
   "cell_type": "code",
   "execution_count": 8,
   "id": "8405cd0f-36bb-485c-b060-3445e7f08a69",
   "metadata": {},
   "outputs": [
    {
     "data": {
      "text/plain": [
       "tensor([[90,  2,  3,  4,  5,  6,  7,  8,  9, 10],\n",
       "        [90,  2,  3,  4,  5,  6,  7,  8,  9, 10],\n",
       "        [90,  2,  3,  4,  5,  6,  7,  8,  9, 10],\n",
       "        [90,  2,  3,  4,  5,  6,  7,  8,  9, 10]])"
      ]
     },
     "execution_count": 8,
     "metadata": {},
     "output_type": "execute_result"
    }
   ],
   "source": [
    "#lets use stack to change some stuff\n",
    "torch.stack([x,x,x,x],dim=0)"
   ]
  },
  {
   "cell_type": "code",
   "execution_count": 9,
   "id": "ae552e1f-dddb-4808-aa74-b6751d5f71a9",
   "metadata": {},
   "outputs": [
    {
     "data": {
      "text/plain": [
       "tensor([[90, 90, 90, 90, 90],\n",
       "        [ 2,  2,  2,  2,  2],\n",
       "        [ 3,  3,  3,  3,  3],\n",
       "        [ 4,  4,  4,  4,  4],\n",
       "        [ 5,  5,  5,  5,  5],\n",
       "        [ 6,  6,  6,  6,  6],\n",
       "        [ 7,  7,  7,  7,  7],\n",
       "        [ 8,  8,  8,  8,  8],\n",
       "        [ 9,  9,  9,  9,  9],\n",
       "        [10, 10, 10, 10, 10]])"
      ]
     },
     "execution_count": 9,
     "metadata": {},
     "output_type": "execute_result"
    }
   ],
   "source": [
    "#know lets try along the first dimension which is the vertical one\n",
    "torch.stack([x,x,x,x,x],dim=1)"
   ]
  },
  {
   "cell_type": "code",
   "execution_count": 10,
   "id": "86b9167f-5e36-48db-b623-377f3e7f9500",
   "metadata": {},
   "outputs": [
    {
     "name": "stdout",
     "output_type": "stream",
     "text": [
      "tensor([[[[[0.]],\n",
      "\n",
      "          [[0.]]]],\n",
      "\n",
      "\n",
      "\n",
      "        [[[[0.]],\n",
      "\n",
      "          [[0.]]]]])\n",
      "tensor([[0., 0.],\n",
      "        [0., 0.]])\n"
     ]
    }
   ],
   "source": [
    "#lets try squeez \n",
    "a=torch.zeros(2,1,2,1,1)\n",
    "print(a)\n",
    "af=torch.squeeze(a)\n",
    "print(af)"
   ]
  },
  {
   "cell_type": "code",
   "execution_count": 11,
   "id": "ddfc09d8-3eda-47eb-98f6-af85db279b00",
   "metadata": {},
   "outputs": [
    {
     "name": "stdout",
     "output_type": "stream",
     "text": [
      "tensor([[[[[0.],\n",
      "           [0.]]],\n",
      "\n",
      "\n",
      "         [[[0.],\n",
      "           [0.]]],\n",
      "\n",
      "\n",
      "         [[[0.],\n",
      "           [0.]]]],\n",
      "\n",
      "\n",
      "\n",
      "        [[[[0.],\n",
      "           [0.]]],\n",
      "\n",
      "\n",
      "         [[[0.],\n",
      "           [0.]]],\n",
      "\n",
      "\n",
      "         [[[0.],\n",
      "           [0.]]]]])\n",
      "tensor([[[0., 0.],\n",
      "         [0., 0.],\n",
      "         [0., 0.]],\n",
      "\n",
      "        [[0., 0.],\n",
      "         [0., 0.],\n",
      "         [0., 0.]]])\n"
     ]
    }
   ],
   "source": [
    "#another example of squuez\n",
    "a=torch.zeros(2,3,1,2,1)\n",
    "print(a)\n",
    "af=torch.squeeze(a)\n",
    "print(af)"
   ]
  },
  {
   "cell_type": "code",
   "execution_count": 12,
   "id": "79f6752c-a424-46d0-86f8-6cda5be0e0ff",
   "metadata": {},
   "outputs": [
    {
     "name": "stdout",
     "output_type": "stream",
     "text": [
      "tensor([[[[[1.],\n",
      "           [1.],\n",
      "           [1.]],\n",
      "\n",
      "          [[1.],\n",
      "           [1.],\n",
      "           [1.]]]],\n",
      "\n",
      "\n",
      "\n",
      "        [[[[1.],\n",
      "           [1.],\n",
      "           [1.]],\n",
      "\n",
      "          [[1.],\n",
      "           [1.],\n",
      "           [1.]]]]])\n",
      "tensor([[[[[1.],\n",
      "           [1.],\n",
      "           [1.]],\n",
      "\n",
      "          [[1.],\n",
      "           [1.],\n",
      "           [1.]]]],\n",
      "\n",
      "\n",
      "\n",
      "        [[[[1.],\n",
      "           [1.],\n",
      "           [1.]],\n",
      "\n",
      "          [[1.],\n",
      "           [1.],\n",
      "           [1.]]]]])\n"
     ]
    }
   ],
   "source": [
    "a=torch.ones(2,1,2,3,1)\n",
    "print(a)\n",
    "af=torch.squeeze(a)\n",
    "print(a)"
   ]
  },
  {
   "cell_type": "code",
   "execution_count": 25,
   "id": "04ab043a-3f78-4c2b-8957-42fe524961ba",
   "metadata": {},
   "outputs": [
    {
     "name": "stdout",
     "output_type": "stream",
     "text": [
      "the squeezed version: torch.Size([9])\n",
      "the value is: tensor([1, 2, 3, 4, 5, 6, 7, 8, 9])\n",
      "the unsquuezed version is: torch.Size([1, 9])\n",
      "the value of the tensor is : tensor([[1, 2, 3, 4, 5, 6, 7, 8, 9]])\n"
     ]
    }
   ],
   "source": [
    "# les try squeezing and unsqueez\n",
    "x=torch.arange(1,10)\n",
    "x_squuezed=torch.squeeze(x)\n",
    "print(f\"the squeezed version: {x_squuezed.shape}\")\n",
    "print(f\"the value is: {x_squuezed}\")\n",
    "\n",
    "unsquuezed=x_squuezed.unsqueeze(dim=0)\n",
    "print(f\"the unsquuezed version is: {unsquuezed.shape}\")\n",
    "print(f\"the value of the tensor is : {unsquuezed}\")"
   ]
  },
  {
   "cell_type": "code",
   "execution_count": 26,
   "id": "01745c0c-0c4c-4f02-9a14-e2b58f1434fb",
   "metadata": {},
   "outputs": [
    {
     "name": "stdout",
     "output_type": "stream",
     "text": [
      "the squeezed version: torch.Size([9])\n",
      "the value is: tensor([1, 2, 3, 4, 5, 6, 7, 8, 9])\n",
      "the unsquuezed version is: torch.Size([9, 1])\n",
      "the value of the tensor is : tensor([[1],\n",
      "        [2],\n",
      "        [3],\n",
      "        [4],\n",
      "        [5],\n",
      "        [6],\n",
      "        [7],\n",
      "        [8],\n",
      "        [9]])\n"
     ]
    }
   ],
   "source": [
    "# les try squeezing and unsqueez\n",
    "x=torch.arange(1,10)\n",
    "x_squuezed=torch.squeeze(x)\n",
    "print(f\"the squeezed version: {x_squuezed.shape}\")\n",
    "print(f\"the value is: {x_squuezed}\")\n",
    "\n",
    "unsquuezed=x_squuezed.unsqueeze(dim=1)\n",
    "print(f\"the unsquuezed version is: {unsquuezed.shape}\")\n",
    "print(f\"the value of the tensor is : {unsquuezed}\")"
   ]
  },
  {
   "cell_type": "code",
   "execution_count": 28,
   "id": "208aa4e0-0f85-419b-b5dc-236d8fba3d49",
   "metadata": {},
   "outputs": [
    {
     "name": "stdout",
     "output_type": "stream",
     "text": [
      "torch.Size([2, 3, 5])\n",
      "tensor([[[-0.1465,  1.6888, -0.6750, -0.3012, -1.1502],\n",
      "         [ 0.1578,  0.7707, -0.6597,  0.5846, -1.0115],\n",
      "         [-0.3862,  0.3090,  0.6563, -2.4137,  1.2033]],\n",
      "\n",
      "        [[ 0.5042, -0.4523, -0.0235, -0.9231, -0.7589],\n",
      "         [ 2.0408,  0.9242,  0.9511,  0.3349,  0.3273],\n",
      "         [-1.7370, -1.0936,  0.6475,  1.2108,  0.9759]]])\n"
     ]
    }
   ],
   "source": [
    "# lets try permute \n",
    "x=torch.randn([2,3,5])\n",
    "print(x.shape)\n",
    "print(x)"
   ]
  },
  {
   "cell_type": "code",
   "execution_count": 29,
   "id": "1953e9b0-73a9-4139-8d38-bf683da1a00a",
   "metadata": {},
   "outputs": [
    {
     "name": "stdout",
     "output_type": "stream",
     "text": [
      "torch.Size([5, 2, 3])\n",
      "tensor([[[-0.1465,  0.1578, -0.3862],\n",
      "         [ 0.5042,  2.0408, -1.7370]],\n",
      "\n",
      "        [[ 1.6888,  0.7707,  0.3090],\n",
      "         [-0.4523,  0.9242, -1.0936]],\n",
      "\n",
      "        [[-0.6750, -0.6597,  0.6563],\n",
      "         [-0.0235,  0.9511,  0.6475]],\n",
      "\n",
      "        [[-0.3012,  0.5846, -2.4137],\n",
      "         [-0.9231,  0.3349,  1.2108]],\n",
      "\n",
      "        [[-1.1502, -1.0115,  1.2033],\n",
      "         [-0.7589,  0.3273,  0.9759]]])\n"
     ]
    }
   ],
   "source": [
    "x_permute=torch.permute(x,(2,0,1))\n",
    "print(x_permute.shape)\n",
    "print(x_permute)"
   ]
  },
  {
   "cell_type": "code",
   "execution_count": null,
   "id": "430d0048-63a0-4a78-8ae9-98c0c7ff4d36",
   "metadata": {},
   "outputs": [],
   "source": [
    "x=ran"
   ]
  }
 ],
 "metadata": {
  "kernelspec": {
   "display_name": "Python 3 (ipykernel)",
   "language": "python",
   "name": "python3"
  },
  "language_info": {
   "codemirror_mode": {
    "name": "ipython",
    "version": 3
   },
   "file_extension": ".py",
   "mimetype": "text/x-python",
   "name": "python",
   "nbconvert_exporter": "python",
   "pygments_lexer": "ipython3",
   "version": "3.8.18"
  }
 },
 "nbformat": 4,
 "nbformat_minor": 5
}

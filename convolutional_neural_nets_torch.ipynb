{
 "cells": [
  {
   "cell_type": "code",
   "execution_count": 1,
   "id": "0e694a86-061d-4738-b03f-7450af52733c",
   "metadata": {},
   "outputs": [],
   "source": [
    "#lets import modules\n",
    "import torch.nn as nn\n",
    "import torch\n",
    "from torchvision import datasets\n",
    "from torchvision.transforms import ToTensor\n",
    "from torch.utils.data import DataLoader\n",
    "from sklearn.model_selection import train_test_split\n",
    "import matplotlib.pyplot as plt"
   ]
  },
  {
   "cell_type": "markdown",
   "id": "dd3b4b92-b57d-4792-a606-1792323ee66f",
   "metadata": {},
   "source": [
    "# data exploratory analysis"
   ]
  },
  {
   "cell_type": "code",
   "execution_count": 2,
   "id": "48719e2b-007e-4304-abbd-803fa302f3d4",
   "metadata": {},
   "outputs": [],
   "source": [
    "train_dataset=datasets.FashionMNIST(\n",
    "    root=\"data\",\n",
    "    train=True,\n",
    "    download=False,\n",
    "    transform=ToTensor(),\n",
    "    target_transform=None\n",
    ")\n",
    "\n",
    "test_dataset=datasets.FashionMNIST(\n",
    "    root=\"data\",\n",
    "    train=False,\n",
    "    download=False,\n",
    "    transform=ToTensor(),\n",
    "    target_transform=None\n",
    ")"
   ]
  },
  {
   "cell_type": "code",
   "execution_count": 3,
   "id": "a78727b9-5853-4dd5-a828-75ddbd5f85a5",
   "metadata": {},
   "outputs": [
    {
     "data": {
      "text/plain": [
       "['T-shirt/top',\n",
       " 'Trouser',\n",
       " 'Pullover',\n",
       " 'Dress',\n",
       " 'Coat',\n",
       " 'Sandal',\n",
       " 'Shirt',\n",
       " 'Sneaker',\n",
       " 'Bag',\n",
       " 'Ankle boot']"
      ]
     },
     "execution_count": 3,
     "metadata": {},
     "output_type": "execute_result"
    }
   ],
   "source": [
    "class_names=train_dataset.classes\n",
    "class_names"
   ]
  },
  {
   "cell_type": "code",
   "execution_count": 4,
   "id": "f8ee0186-dc7f-473d-a000-7bfa6847b6f2",
   "metadata": {},
   "outputs": [
    {
     "data": {
      "text/plain": [
       "{'T-shirt/top': 0,\n",
       " 'Trouser': 1,\n",
       " 'Pullover': 2,\n",
       " 'Dress': 3,\n",
       " 'Coat': 4,\n",
       " 'Sandal': 5,\n",
       " 'Shirt': 6,\n",
       " 'Sneaker': 7,\n",
       " 'Bag': 8,\n",
       " 'Ankle boot': 9}"
      ]
     },
     "execution_count": 4,
     "metadata": {},
     "output_type": "execute_result"
    }
   ],
   "source": [
    "label2id=train_dataset.class_to_idx\n",
    "label2id"
   ]
  },
  {
   "cell_type": "code",
   "execution_count": 5,
   "id": "67f5fe02-7182-4ad7-9e50-c898d6c2b109",
   "metadata": {},
   "outputs": [
    {
     "data": {
      "text/plain": [
       "tensor([9, 0, 0,  ..., 3, 0, 5])"
      ]
     },
     "execution_count": 5,
     "metadata": {},
     "output_type": "execute_result"
    }
   ],
   "source": [
    "train_dataset.targets"
   ]
  },
  {
   "cell_type": "code",
   "execution_count": 6,
   "id": "fd66d765-3bd2-4294-84d4-14f6a036ae47",
   "metadata": {},
   "outputs": [],
   "source": [
    "#turn the data into data loader\n",
    "train_dataloader=DataLoader(train_dataset,\n",
    "                           batch_size=32,\n",
    "                           shuffle=True,\n",
    "                           )\n",
    "\n",
    "test_dataloader=DataLoader(test_dataset,\n",
    "                          batch_size=32,\n",
    "                          shuffle=True)"
   ]
  },
  {
   "cell_type": "code",
   "execution_count": 7,
   "id": "152102ff-e5ff-42c3-9f9d-f6d858145f5b",
   "metadata": {},
   "outputs": [
    {
     "data": {
      "text/plain": [
       "'cpu'"
      ]
     },
     "execution_count": 7,
     "metadata": {},
     "output_type": "execute_result"
    }
   ],
   "source": [
    "#set up device\n",
    "device=\"cuda\" if torch.cuda.is_available() else \"cpu\"\n",
    "device"
   ]
  },
  {
   "cell_type": "markdown",
   "id": "761258b0-2e6b-42af-b3fa-f5f1952ae12e",
   "metadata": {},
   "source": [
    "# create Convolutional Neural Network using torch"
   ]
  },
  {
   "cell_type": "code",
   "execution_count": 8,
   "id": "48b3008e-5b2e-41af-920f-09f6e0931fd3",
   "metadata": {},
   "outputs": [],
   "source": [
    "class CNN_Fmnist(nn.Module):\n",
    "    def __init__(self,\n",
    "                 input_shape:int,\n",
    "                 hidden_layer:int,\n",
    "                 output_shape:int\n",
    "                ):\n",
    "        super().__init__()\n",
    "        self.block_1=nn.Sequential(\n",
    "            nn.Conv2d(\n",
    "                     in_channels=input_shape,\n",
    "                     out_channels=hidden_layer,\n",
    "                     kernel_size=3,\n",
    "                     padding=1,\n",
    "                     stride=1\n",
    "                     ),\n",
    "            nn.ReLU(),\n",
    "            nn.Conv2d(\n",
    "                in_channels=hidden_layer,\n",
    "                out_channels=hidden_layer,\n",
    "                kernel_size=3,\n",
    "                padding=1,\n",
    "                stride=1\n",
    "            ),\n",
    "            nn.ReLU(),\n",
    "            nn.MaxPool2d(kernel_size=2)\n",
    "        )\n",
    "        self.block_2=nn.Sequential(\n",
    "            \n",
    "        nn.Conv2d(\n",
    "            in_channels=hidden_layer,\n",
    "            out_channels=hidden_layer,\n",
    "            kernel_size=3,\n",
    "            padding=1,\n",
    "            stride=1\n",
    "        ),\n",
    "        nn.ReLU(),\n",
    "        nn.Conv2d(in_channels=hidden_layer,\n",
    "                 out_channels=hidden_layer,\n",
    "                 kernel_size=2,\n",
    "                 padding=1,\n",
    "                 stride=1),\n",
    "        nn.ReLU(),\n",
    "        nn.MaxPool2d(kernel_size=2)\n",
    "    )\n",
    "    \n",
    "        self.classifier=nn.Sequential(\n",
    "            #this is the last layer that categorizes the output of the model into labels(possible output)\n",
    "            \n",
    "        nn.Flatten(),\n",
    "        nn.Linear(\n",
    "            in_features=hidden_layer*7*7,# so that the shape matches with the one from the second block of convolutional layer\n",
    "                    \n",
    "            out_features=output_shape\n",
    "            )\n",
    "        )\n",
    "        \n",
    "    def forward(self,x:torch.Tensor):\n",
    "        x=self.block_1(x)\n",
    "  #      print(f\"output shape of conv block_1: {x.shape}\")   #printing after the first block of convolutional layer\n",
    "        x=self.block_2(x) \n",
    "   #     print(f\"output shape of conv block_2: {x.shape}\")  #printing after the second block of convolutional layer\n",
    "        x=self.classifier(x)\n",
    "    #    print(f\"output shape of classifier: {x.shape}\")\n",
    "        return x"
   ]
  },
  {
   "cell_type": "code",
   "execution_count": 9,
   "id": "d8a4aad3-b2e6-48ad-9d47-397113928cf4",
   "metadata": {},
   "outputs": [
    {
     "data": {
      "text/plain": [
       "['T-shirt/top',\n",
       " 'Trouser',\n",
       " 'Pullover',\n",
       " 'Dress',\n",
       " 'Coat',\n",
       " 'Sandal',\n",
       " 'Shirt',\n",
       " 'Sneaker',\n",
       " 'Bag',\n",
       " 'Ankle boot']"
      ]
     },
     "execution_count": 9,
     "metadata": {},
     "output_type": "execute_result"
    }
   ],
   "source": [
    "class_names"
   ]
  },
  {
   "cell_type": "code",
   "execution_count": 10,
   "id": "4f83513a-c123-4aec-8428-072c170b8c53",
   "metadata": {},
   "outputs": [
    {
     "data": {
      "text/plain": [
       "torch.Size([1, 28, 28])"
      ]
     },
     "execution_count": 10,
     "metadata": {},
     "output_type": "execute_result"
    }
   ],
   "source": [
    "image,target=train_dataset[1]\n",
    "image.shape"
   ]
  },
  {
   "cell_type": "code",
   "execution_count": 11,
   "id": "c3848266-7038-4327-88c4-e6013234ae1d",
   "metadata": {},
   "outputs": [
    {
     "data": {
      "text/plain": [
       "torch.Size([1600])"
      ]
     },
     "execution_count": 11,
     "metadata": {},
     "output_type": "execute_result"
    }
   ],
   "source": [
    "temp=torch.randn(4,20,20)\n",
    "torch.flatten(temp).shape"
   ]
  },
  {
   "cell_type": "code",
   "execution_count": 12,
   "id": "b0e705e1-f0e8-4729-8b2e-36d3a6a800eb",
   "metadata": {},
   "outputs": [
    {
     "data": {
      "text/plain": [
       "10"
      ]
     },
     "execution_count": 12,
     "metadata": {},
     "output_type": "execute_result"
    }
   ],
   "source": [
    "len(class_names)"
   ]
  },
  {
   "cell_type": "code",
   "execution_count": 14,
   "id": "bc189ccd-108f-4b15-a94f-c8bee7f83e1a",
   "metadata": {},
   "outputs": [],
   "source": [
    "torch.manual_seed(42)\n",
    "torch.cuda.manual_seed(42)\n",
    "#define our model\n",
    "cnn_classifier=CNN_Fmnist(\n",
    "    input_shape=1,\n",
    "    hidden_layer=10,\n",
    "    output_shape=len(class_names) #this is the number of classes\n",
    ").to(device)"
   ]
  },
  {
   "cell_type": "code",
   "execution_count": 15,
   "id": "1290a4d0-4ac9-4264-8910-800719e17ba0",
   "metadata": {
    "scrolled": true
   },
   "outputs": [
    {
     "name": "stdout",
     "output_type": "stream",
     "text": [
      "the number of parameter on this model is:7240 \n"
     ]
    }
   ],
   "source": [
    "#the number of parameter on this model is\n",
    "cnn_parameter=0\n",
    "for p in cnn_classifier.parameters():\n",
    "    p=p.numel()\n",
    "    cnn_parameter+=p\n",
    "print(f\"the number of parameter on this model is:{cnn_parameter} \")"
   ]
  },
  {
   "cell_type": "code",
   "execution_count": 16,
   "id": "b32432d7-c4e9-4134-83ee-f3b8202db0a9",
   "metadata": {},
   "outputs": [
    {
     "name": "stdout",
     "output_type": "stream",
     "text": [
      "set of all parameters is 7240\n"
     ]
    }
   ],
   "source": [
    "#total number of mon learable parameters\n",
    "learn_param=0\n",
    "for p in cnn_classifier.parameters():\n",
    "    if p.requires_grad:\n",
    "        p=p.numel()\n",
    "        learn_param+=p\n",
    "print(f\"set of all parameters is {learn_param}\")"
   ]
  },
  {
   "cell_type": "markdown",
   "id": "cdbb4da1-e22d-4c8c-8159-407b4a3198a3",
   "metadata": {},
   "source": [
    "## check out the CONV2D opertaion\n",
    "- this basically applies the y=ax+b in 2d plane i,e in height and width for batches with controlled input and output shapes and with extra\n",
    "- featurues like padding,strides and kenel features"
   ]
  },
  {
   "cell_type": "code",
   "execution_count": 17,
   "id": "8fdb24a2-8531-4ecc-b691-568fc877464b",
   "metadata": {},
   "outputs": [
    {
     "data": {
      "text/plain": [
       "Conv2d(3, 10, kernel_size=(3, 3), stride=(1, 1))"
      ]
     },
     "execution_count": 17,
     "metadata": {},
     "output_type": "execute_result"
    }
   ],
   "source": [
    "torch.manual_seed(42)\n",
    "\n",
    "test_image=torch.randn((3,64,64)).unsqueeze(dim=0)\n",
    "#lets check out the conwd\n",
    "conv2d=nn.Conv2d(\n",
    "    in_channels=3,\n",
    "    out_channels=10,\n",
    "    kernel_size=3 ,\n",
    "    stride=1,\n",
    "    padding=0\n",
    ")\n",
    "conv2d"
   ]
  },
  {
   "cell_type": "markdown",
   "id": "a27b16b4-6d60-4914-81f1-717a7354ba7d",
   "metadata": {},
   "source": [
    "## check out the maxpool layer "
   ]
  },
  {
   "cell_type": "code",
   "execution_count": 21,
   "id": "bc89bcca-c784-4ebf-8dff-6d95ea48f13a",
   "metadata": {},
   "outputs": [
    {
     "name": "stdout",
     "output_type": "stream",
     "text": [
      "original shape of the data is:torch.Size([1, 3, 64, 64]) \n",
      "this is the shape when gone through the conv layer torch.Size([1, 10, 62, 62]) \n",
      "this is the shape when passing from conv layer to maxpooled layer torch.Size([1, 10, 15, 15]) \n"
     ]
    }
   ],
   "source": [
    "# try it out on our test image\n",
    "max_pooled=nn.MaxPool2d(\n",
    "    kernel_size=4\n",
    ")\n",
    "print(f\"original shape of the data is:{test_image.shape} \")\n",
    "#lets pass the test image through the conv layer and then through the max pooled\n",
    "x=conv2d(test_image)\n",
    "print(f\"this is the shape when gone through the conv layer {x.shape} \")\n",
    "x=max_pooled(x)\n",
    "print(f\"this is the shape when passing from conv layer to maxpooled layer {x.shape} \")\n"
   ]
  },
  {
   "cell_type": "code",
   "execution_count": 22,
   "id": "8f19bb3c-622d-418a-b1d1-07fc28aa4e92",
   "metadata": {},
   "outputs": [
    {
     "name": "stdout",
     "output_type": "stream",
     "text": [
      "original shape torch.Size([1, 1, 2, 2]) \n",
      "origina value:\n",
      " tensor([[[[0.3367, 0.1288],\n",
      "          [0.2345, 0.2303]]]]) \n",
      "the max pooled shape is torch.Size([1, 1, 1, 1]) \n",
      "after is has been pooled :\n",
      " tensor([[[[0.3367]]]]) \n"
     ]
    }
   ],
   "source": [
    "torch.manual_seed(42)\n",
    "\n",
    "t1=torch.randn(size=(1,1,2,2))\n",
    "print(f\"original shape {t1.shape} \")\n",
    "print(f\"origina value:\\n {t1} \")\n",
    "max_pool=nn.MaxPool2d(kernel_size=2)\n",
    "t1_pool=max_pool(t1)\n",
    "print(f\"the max pooled shape is {t1_pool.shape} \")\n",
    "print(f\"after is has been pooled :\\n {t1_pool} \")"
   ]
  },
  {
   "cell_type": "markdown",
   "id": "b1e5fe69-56bb-4371-93b0-56ce9f88b950",
   "metadata": {},
   "source": [
    "# lets train our tiny vgg model on dummy data"
   ]
  },
  {
   "cell_type": "markdown",
   "id": "556f30ef-7f6c-47be-a9db-760fdc2f47cc",
   "metadata": {},
   "source": [
    "### lets view our data and its shape"
   ]
  },
  {
   "cell_type": "code",
   "execution_count": 23,
   "id": "29e69aa7-3aa9-4c30-a4f3-9315620c56a2",
   "metadata": {},
   "outputs": [
    {
     "name": "stdout",
     "output_type": "stream",
     "text": [
      "label: 5\n"
     ]
    },
    {
     "data": {
      "image/png": "[encoded data removed]",
      "text/plain": [
       "<Figure size 640x480 with 1 Axes>"
      ]
     },
     "metadata": {},
     "output_type": "display_data"
    }
   ],
   "source": [
    "torch.manual_seed(42)\n",
    "image,label=next(iter(train_dataloader))\n",
    "image_0,label_0=image[0],label[0]\n",
    "\n",
    "plt.imshow(image_0.squeeze() ,cmap=\"gray\");\n",
    "print(\"label:\",label_0.item())\n",
    "plt.axis(False);"
   ]
  },
  {
   "cell_type": "code",
   "execution_count": 24,
   "id": "936ecce6-c208-4254-bec9-e52dd9442b67",
   "metadata": {},
   "outputs": [
    {
     "data": {
      "text/plain": [
       "torch.Size([32, 1, 28, 28])"
      ]
     },
     "execution_count": 24,
     "metadata": {},
     "output_type": "execute_result"
    }
   ],
   "source": [
    "image.shape"
   ]
  },
  {
   "cell_type": "code",
   "execution_count": 25,
   "id": "17afa432-d3ff-49cc-9031-b351f46361ee",
   "metadata": {},
   "outputs": [
    {
     "data": {
      "text/plain": [
       "CNN_Fmnist(\n",
       "  (block_1): Sequential(\n",
       "    (0): Conv2d(1, 10, kernel_size=(3, 3), stride=(1, 1), padding=(1, 1))\n",
       "    (1): ReLU()\n",
       "    (2): Conv2d(10, 10, kernel_size=(3, 3), stride=(1, 1), padding=(1, 1))\n",
       "    (3): ReLU()\n",
       "    (4): MaxPool2d(kernel_size=2, stride=2, padding=0, dilation=1, ceil_mode=False)\n",
       "  )\n",
       "  (block_2): Sequential(\n",
       "    (0): Conv2d(10, 10, kernel_size=(3, 3), stride=(1, 1), padding=(1, 1))\n",
       "    (1): ReLU()\n",
       "    (2): Conv2d(10, 10, kernel_size=(2, 2), stride=(1, 1), padding=(1, 1))\n",
       "    (3): ReLU()\n",
       "    (4): MaxPool2d(kernel_size=2, stride=2, padding=0, dilation=1, ceil_mode=False)\n",
       "  )\n",
       "  (classifier): Sequential(\n",
       "    (0): Flatten(start_dim=1, end_dim=-1)\n",
       "    (1): Linear(in_features=490, out_features=10, bias=True)\n",
       "  )\n",
       ")"
      ]
     },
     "execution_count": 25,
     "metadata": {},
     "output_type": "execute_result"
    }
   ],
   "source": [
    "cnn_classifier"
   ]
  },
  {
   "cell_type": "code",
   "execution_count": 26,
   "id": "68ac223a-bd1b-48f3-aef0-1e7666ef76fb",
   "metadata": {},
   "outputs": [
    {
     "data": {
      "text/plain": [
       "CNN_Fmnist(\n",
       "  (block_1): Sequential(\n",
       "    (0): Conv2d(1, 10, kernel_size=(3, 3), stride=(1, 1), padding=(1, 1))\n",
       "    (1): ReLU()\n",
       "    (2): Conv2d(10, 10, kernel_size=(3, 3), stride=(1, 1), padding=(1, 1))\n",
       "    (3): ReLU()\n",
       "    (4): MaxPool2d(kernel_size=2, stride=2, padding=0, dilation=1, ceil_mode=False)\n",
       "  )\n",
       "  (block_2): Sequential(\n",
       "    (0): Conv2d(10, 10, kernel_size=(3, 3), stride=(1, 1), padding=(1, 1))\n",
       "    (1): ReLU()\n",
       "    (2): Conv2d(10, 10, kernel_size=(2, 2), stride=(1, 1), padding=(1, 1))\n",
       "    (3): ReLU()\n",
       "    (4): MaxPool2d(kernel_size=2, stride=2, padding=0, dilation=1, ceil_mode=False)\n",
       "  )\n",
       "  (classifier): Sequential(\n",
       "    (0): Flatten(start_dim=1, end_dim=-1)\n",
       "    (1): Linear(in_features=490, out_features=10, bias=True)\n",
       "  )\n",
       ")"
      ]
     },
     "execution_count": 26,
     "metadata": {},
     "output_type": "execute_result"
    }
   ],
   "source": [
    "cnn_classifier"
   ]
  },
  {
   "cell_type": "markdown",
   "id": "35353db0-872b-4342-8358-677af95899e8",
   "metadata": {},
   "source": [
    "# feed forward pass"
   ]
  },
  {
   "cell_type": "code",
   "execution_count": 27,
   "id": "d5804aa0-92e6-42bd-96dc-d164e759eecc",
   "metadata": {},
   "outputs": [
    {
     "data": {
      "text/plain": [
       "torch.Size([1, 28, 28])"
      ]
     },
     "execution_count": 27,
     "metadata": {},
     "output_type": "execute_result"
    }
   ],
   "source": [
    "rand_image_tensor=torch.randn([1,28,28])\n",
    "rand_image_tensor.shape"
   ]
  },
  {
   "cell_type": "code",
   "execution_count": 28,
   "id": "09802e9d-439d-4cef-a46b-2ed280ae7abd",
   "metadata": {},
   "outputs": [
    {
     "data": {
      "text/plain": [
       "torch.Size([1, 28, 28])"
      ]
     },
     "execution_count": 28,
     "metadata": {},
     "output_type": "execute_result"
    }
   ],
   "source": [
    "image_0.shape"
   ]
  },
  {
   "cell_type": "code",
   "execution_count": 29,
   "id": "67ed4684-939e-4597-aec9-f46cd15a7f60",
   "metadata": {},
   "outputs": [
    {
     "name": "stdout",
     "output_type": "stream",
     "text": [
      "tensor([[ 0.0578,  0.0395, -0.1376,  0.0809, -0.1321,  0.1294,  0.0505, -0.0561,\n",
      "          0.0870, -0.0228]], grad_fn=<AddmmBackward0>)\n"
     ]
    }
   ],
   "source": [
    "print(cnn_classifier(rand_image_tensor.unsqueeze(0)))"
   ]
  },
  {
   "cell_type": "code",
   "execution_count": 30,
   "id": "ccc516a9-9663-49ad-a20c-37c1132a2a2b",
   "metadata": {},
   "outputs": [],
   "source": [
    "from helper_function import accuracy_fn"
   ]
  },
  {
   "cell_type": "code",
   "execution_count": 31,
   "id": "96bf5d84-abfe-48b0-97c5-8f0f63a975cf",
   "metadata": {},
   "outputs": [],
   "source": [
    "def train_step(\n",
    "    model:nn.Module,\n",
    "    data_loader:torch.utils.data.DataLoader,\n",
    "    loss_fn:nn.Module,\n",
    "    accuracy_fn,\n",
    "    optimizer:torch.optim,\n",
    "    device:torch.device=device\n",
    "):\n",
    "    \"\"\"\n",
    "    calculate the trainig models loss and caccuracy\n",
    "    \"\"\"\n",
    "    model.train()\n",
    "    \n",
    "    train_loss,train_acc=0,0\n",
    "    \n",
    "    for batch,(x,y) in enumerate(data_loader):\n",
    "        #put the data on the same device\n",
    "        x.to(device)\n",
    "        y.to(device)\n",
    "        \n",
    "        y_pred_train=model(x)\n",
    "\n",
    "        \n",
    "        #calculate the loss\n",
    "        #  loss=loss_fn(y_pred_train,y)\n",
    "        # acc=accuracy_fn(y,y_pred_train.argmax(dim=1))\n",
    "\n",
    "        #store accuracy\n",
    "        train_acc+=accuracy_fn(y,y_pred_train.argmax(dim=1))\n",
    "        \n",
    "       \n",
    "        #calculate loss\n",
    "        loss=loss_fn(y_pred_train,y)\n",
    "\n",
    "         #update cumulative loss\n",
    "        train_loss+=loss\n",
    "        \n",
    "        #optimizer\n",
    "        optimizer.zero_grad()\n",
    "\n",
    "        #back prop\n",
    "        loss.backward()\n",
    "        #update parameter\n",
    "        \n",
    "        optimizer.step()\n",
    "        # if(batch%400==0):\n",
    "        #     print(f\"number of elements seen {batch*len(x)}/{len(train_dataloader.dataset)} samples\")\n",
    "    \n",
    "    train_loss/=len(data_loader)  #we are dividing it by the number of elements per batch\n",
    "    train_acc/=len(data_loader)\n",
    "    print(f\"train loss {train_loss:.3f} | train accuracy {train_acc:.3f} \")"
   ]
  },
  {
   "cell_type": "code",
   "execution_count": 32,
   "id": "67872a20-a639-445c-88cc-349b2b9518f3",
   "metadata": {},
   "outputs": [],
   "source": [
    "def eval_model(\n",
    "    model:nn.Module,\n",
    "    data_loader:torch.utils.data.DataLoader,\n",
    "    loss_fn:nn.Module,\n",
    "    accuracy_fn:accuracy_fn,\n",
    "    device:torch.device=device\n",
    "):\n",
    "    \"\"\" this performs model evaliation over a test dataset,\n",
    "    and returns dictionary\n",
    "    \"\"\"\n",
    "    test_loss=0\n",
    "    test_acc=0\n",
    "     #inference mode\n",
    "    model.eval()\n",
    "    with torch.inference_mode():  \n",
    "        \n",
    "        for x_val,y_val in data_loader:\n",
    "\n",
    "            x_val.to(device)\n",
    "            y_val.to(device) \n",
    "                \n",
    "            y_val_pred=model(x_val)\n",
    "                \n",
    "            test_loss+=loss_fn(y_val_pred,y_val) #loss of the evaluation model   \n",
    "            test_acc+=accuracy_fn(y_val,y_val_pred.argmax(dim=1))  #argumetns are y_true and y_pred\n",
    "            \n",
    "        test_loss/=len(test_dataloader)\n",
    "        test_acc/=len(test_dataloader)\n",
    "    \n",
    "    return {\n",
    "        \"model_name\":model.__class__.__name__,\n",
    "        \"model_loss\":test_loss.item(),\n",
    "        \"model_accuracy\":test_acc\n",
    "    }\n",
    "        "
   ]
  },
  {
   "cell_type": "code",
   "execution_count": 33,
   "id": "0877d4ea-61e8-4cb5-9b9b-ef3587e33c80",
   "metadata": {},
   "outputs": [],
   "source": [
    "def eval_step(\n",
    "    model:nn.Module,\n",
    "    data_loader:torch.utils.data.DataLoader,\n",
    "    loss_fn:nn.Module,\n",
    "    accuracy_fn:accuracy_fn,\n",
    "    device:torch.device=device\n",
    "):\n",
    "    \"\"\" this performs model evaliation over a test dataset\n",
    "    \"\"\"\n",
    "    test_loss=0\n",
    "    test_acc=0\n",
    "     #inference mode\n",
    "    model.eval()\n",
    "    with torch.inference_mode():  \n",
    "        \n",
    "        for x_val,y_val in data_loader:\n",
    "\n",
    "            x_val.to(device)\n",
    "            y_val.to(device) \n",
    "                \n",
    "            y_val_pred=model(x_val)\n",
    "                \n",
    "            test_loss+=loss_fn(y_val_pred,y_val) #loss of the evaluation model   \n",
    "            test_acc+=accuracy_fn(y_val,y_val_pred.argmax(dim=1))  #argumetns are y_true and y_pred\n",
    "            \n",
    "        test_loss/=len(data_loader)\n",
    "        test_acc/=len(data_loader)\n",
    "    \n",
    "        print(f\"test losst : {test_loss:.3f}% | test accuracy | {test_acc:.2f}%\")\n",
    "        "
   ]
  },
  {
   "cell_type": "markdown",
   "id": "d51c75df-fd55-4b75-8ae6-a4a62c80e8e9",
   "metadata": {},
   "source": [
    "# lets train our tiny VGG Model on our real data"
   ]
  },
  {
   "cell_type": "code",
   "execution_count": 35,
   "id": "7fff5c1a-7787-4ab8-8e74-200f230e28b3",
   "metadata": {},
   "outputs": [],
   "source": [
    "loss_fn=nn.CrossEntropyLoss()\n",
    "optimizer=torch.optim.SGD(params=cnn_classifier.parameters(),\n",
    "                          lr=0.01)"
   ]
  },
  {
   "cell_type": "code",
   "execution_count": 36,
   "id": "2332873e-8f0c-4b98-8e74-f8acbdb86542",
   "metadata": {
    "scrolled": true
   },
   "outputs": [
    {
     "name": "stderr",
     "output_type": "stream",
     "text": [
      "  0%|                                                                                            | 0/3 [00:00<?, ?it/s]"
     ]
    },
    {
     "name": "stdout",
     "output_type": "stream",
     "text": [
      "Epoch:0------------>\n",
      "train loss 1.552 | train accuracy 42.637 \n"
     ]
    },
    {
     "name": "stderr",
     "output_type": "stream",
     "text": [
      " 33%|████████████████████████████                                                        | 1/3 [00:47<01:34, 47.22s/it]"
     ]
    },
    {
     "name": "stdout",
     "output_type": "stream",
     "text": [
      "test losst : 0.658% | test accuracy | 76.45%\n",
      "Epoch:1------------>\n",
      "train loss 0.566 | train accuracy 79.718 \n"
     ]
    },
    {
     "name": "stderr",
     "output_type": "stream",
     "text": [
      " 67%|████████████████████████████████████████████████████████                            | 2/3 [01:31<00:45, 45.24s/it]"
     ]
    },
    {
     "name": "stdout",
     "output_type": "stream",
     "text": [
      "test losst : 0.522% | test accuracy | 80.48%\n",
      "Epoch:2------------>\n",
      "train loss 0.468 | train accuracy 83.212 \n"
     ]
    },
    {
     "name": "stderr",
     "output_type": "stream",
     "text": [
      "100%|████████████████████████████████████████████████████████████████████████████████████| 3/3 [02:15<00:00, 45.29s/it]"
     ]
    },
    {
     "name": "stdout",
     "output_type": "stream",
     "text": [
      "test losst : 0.468% | test accuracy | 83.53%\n",
      "the amount of time taken to train our model is:135.8809406 \n"
     ]
    },
    {
     "name": "stderr",
     "output_type": "stream",
     "text": [
      "\n"
     ]
    }
   ],
   "source": [
    "torch.manual_seed(42)\n",
    "torch.cuda.manual_seed(42)\n",
    "\n",
    "from timeit import default_timer as timer\n",
    "from tqdm import tqdm\n",
    "\n",
    "epochs=3\n",
    "\n",
    "start_time=timer()\n",
    "\n",
    "for epoch in tqdm(range(epochs)):\n",
    "    print(f\"Epoch:{epoch}------------>\")\n",
    "    train_step(\n",
    "        model=cnn_classifier,\n",
    "        data_loader=train_dataloader,\n",
    "        loss_fn=loss_fn,\n",
    "        accuracy_fn=accuracy_fn,\n",
    "        optimizer=optimizer,\n",
    "        device=device\n",
    "    )\n",
    "    #lets evaluate the model\n",
    "    eval_step(\n",
    "        model=cnn_classifier,\n",
    "        data_loader=test_dataloader,\n",
    "        loss_fn=loss_fn,\n",
    "        accuracy_fn=accuracy_fn,\n",
    "        device=device\n",
    "    )\n",
    "\n",
    "end_time=timer()\n",
    "\n",
    "time_taken= end_time - start_time\n",
    "\n",
    "print(f\"the amount of time taken to train our model is:{time_taken} \")"
   ]
  },
  {
   "cell_type": "code",
   "execution_count": 243,
   "id": "feedac08-3e0f-47e4-8ed2-ef03a614b06d",
   "metadata": {},
   "outputs": [],
   "source": [
    "cnn_model_results=eval_model(\n",
    "    model=cnn_classifier,\n",
    "    data_loader=test_dataloader,\n",
    "    loss_fn=loss_fn,\n",
    "    accuracy_fn=accuracy_fn\n",
    ")"
   ]
  },
  {
   "cell_type": "code",
   "execution_count": 41,
   "id": "470fdde6-bb35-4d76-92a0-6dc270794425",
   "metadata": {},
   "outputs": [
    {
     "data": {
      "text/plain": [
       "tensor([[0.1174, 0.4658, 0.2760, 0.1408],\n",
       "        [0.0500, 0.1507, 0.7156, 0.0837],\n",
       "        [0.2457, 0.4686, 0.1736, 0.1121]])"
      ]
     },
     "execution_count": 41,
     "metadata": {},
     "output_type": "execute_result"
    }
   ],
   "source": [
    "temp=torch.randn(size=(3,4))\n",
    "torch.softmax(temp,dim=1)"
   ]
  },
  {
   "cell_type": "code",
   "execution_count": 80,
   "id": "9141b33f-9cb2-420e-bd5a-fb0e5caa54b1",
   "metadata": {},
   "outputs": [],
   "source": [
    "def make_predictions(model:nn.Module,\n",
    "                     input_data:list,\n",
    "                     device:torch.device=device\n",
    "                    ):\n",
    "    preds_prob=[]\n",
    "    model.to(device)\n",
    "    model.eval()    \n",
    "    with torch.inference_mode():\n",
    "        for data in input_data:\n",
    "            data=torch.unsqueeze(data,dim=0).to(device)   #to add a batch size we squeeze it.\n",
    "            y_pred_logits=model(data)\n",
    "            \n",
    "            y_pred=torch.softmax(y_pred_logits.squeeze(),dim=0)\n",
    "            preds_prob.append(y_pred.cpu())  #when visualizing we want to make our data in cpu rather than \"GPU\"\n",
    "    return torch.stack(preds_prob)"
   ]
  },
  {
   "cell_type": "code",
   "execution_count": 81,
   "id": "92a2535f-b789-407d-8398-1c99b9c09c5d",
   "metadata": {},
   "outputs": [
    {
     "data": {
      "text/plain": [
       "torch.utils.data.dataloader.DataLoader"
      ]
     },
     "execution_count": 81,
     "metadata": {},
     "output_type": "execute_result"
    }
   ],
   "source": [
    "type(train_dataloader)"
   ]
  },
  {
   "cell_type": "code",
   "execution_count": 82,
   "id": "c274ef4e-2d48-44a3-ba95-59658eaf6bd3",
   "metadata": {},
   "outputs": [
    {
     "data": {
      "text/plain": [
       "(torch.Size([1, 28, 28]), 9)"
      ]
     },
     "execution_count": 82,
     "metadata": {},
     "output_type": "execute_result"
    }
   ],
   "source": [
    "feature,label=test_dataset[0][:10]\n",
    "feature.shape,label"
   ]
  },
  {
   "cell_type": "code",
   "execution_count": 147,
   "id": "6b85490a-d808-4efa-b5e7-247863a0f9c4",
   "metadata": {},
   "outputs": [
    {
     "data": {
      "text/plain": [
       "Text(0.5, 1.0, 'Pullover')"
      ]
     },
     "execution_count": 147,
     "metadata": {},
     "output_type": "execute_result"
    },
    {
     "data": {
      "image/png": "[encoded data removed]",
      "text/plain": [
       "<Figure size 640x480 with 1 Axes>"
      ]
     },
     "metadata": {},
     "output_type": "display_data"
    }
   ],
   "source": [
    "#torch.manual_seed(42)\n",
    "#torch.cuda.manual_seed(42)\n",
    "\n",
    "import random\n",
    "\n",
    "#we are gonna select data randomly and check our modl\n",
    "test_samples=[]\n",
    "test_labels=[]\n",
    "\n",
    "for samples,label in random.sample(list(test_dataset),k=9):\n",
    "    test_samples.append(samples)\n",
    "    test_labels.append(label)\n",
    "#view the dataset\n",
    "plt.imshow(test_samples[0].squeeze(),cmap=\"gray\")\n",
    "plt.title(class_names[test_labels[0]])"
   ]
  },
  {
   "cell_type": "code",
   "execution_count": 148,
   "id": "4d73e923-a36c-4bc9-908b-613b74f0ed74",
   "metadata": {},
   "outputs": [
    {
     "data": {
      "text/plain": [
       "tensor([[1.2371e-01, 4.6071e-03, 6.0263e-01, 7.2212e-03, 1.4644e-02, 3.1038e-05,\n",
       "         2.3135e-01, 7.1995e-06, 1.5796e-02, 2.2009e-06],\n",
       "        [2.3510e-03, 4.4347e-03, 2.8702e-01, 4.1883e-04, 6.0546e-01, 1.3977e-07,\n",
       "         9.0352e-02, 2.8725e-07, 9.9578e-03, 8.3803e-07]])"
      ]
     },
     "execution_count": 148,
     "metadata": {},
     "output_type": "execute_result"
    }
   ],
   "source": [
    "#make predictions\n",
    "pred_probs=make_predictions(model=cnn_classifier,\n",
    "                           input_data=test_samples)\n",
    "pred_probs[:2]"
   ]
  },
  {
   "cell_type": "code",
   "execution_count": 149,
   "id": "88e1457f-b0c7-45fa-88f5-08d13f4650cb",
   "metadata": {},
   "outputs": [
    {
     "data": {
      "text/plain": [
       "tensor([2, 4, 0, 4, 4, 6, 2, 8, 0])"
      ]
     },
     "execution_count": 149,
     "metadata": {},
     "output_type": "execute_result"
    }
   ],
   "source": [
    "pred_class=pred_probs.argmax(dim=1)\n",
    "pred_class"
   ]
  },
  {
   "cell_type": "code",
   "execution_count": 150,
   "id": "68d251e5-dabc-4545-8768-ea0d8decfa30",
   "metadata": {},
   "outputs": [
    {
     "data": {
      "text/plain": [
       "[2, 4, 0, 2, 4, 6, 2, 8, 6]"
      ]
     },
     "execution_count": 150,
     "metadata": {},
     "output_type": "execute_result"
    }
   ],
   "source": [
    "test_labels"
   ]
  },
  {
   "cell_type": "markdown",
   "id": "1ac53525-f6f0-42c2-b387-e1adb16c2d13",
   "metadata": {},
   "source": [
    "## lets visualize our comparision"
   ]
  },
  {
   "cell_type": "code",
   "execution_count": 151,
   "id": "233cfca9-01de-4268-8f36-05d6223ded6f",
   "metadata": {},
   "outputs": [
    {
     "data": {
      "image/png": "[encoded data removed]",
      "text/plain": [
       "<Figure size 900x900 with 9 Axes>"
      ]
     },
     "metadata": {},
     "output_type": "display_data"
    }
   ],
   "source": [
    "plt.figure(figsize=(9,9))\n",
    "\n",
    "\n",
    "for i,sample in enumerate(test_samples):\n",
    "    \n",
    "    ncols=3\n",
    "    nrows=3\n",
    "    \n",
    "   \n",
    "    plt.subplot(ncols,nrows,i+1)\n",
    "    pred_label=class_names[pred_class[i]]\n",
    "    \n",
    "    truth_label=class_names[test_labels[i]]\n",
    "    plt.imshow(sample.squeeze(),cmap=\"gray\");\n",
    "    \n",
    "    text_title=f\"pred {pred_label} | truth {truth_label}\"\n",
    "    if truth_label==pred_label:\n",
    "        plt.title(text_title,fontsize=10,c=\"g\")\n",
    "    else:\n",
    "        plt.title(text_title,fontsize=10,c=\"r\")\n",
    "    plt.axis(False);"
   ]
  },
  {
   "cell_type": "markdown",
   "id": "142c62f7-ce6c-44d1-83bb-8eb55f688e1b",
   "metadata": {},
   "source": [
    "# confusion matrix"
   ]
  },
  {
   "cell_type": "code",
   "execution_count": 159,
   "id": "fc66c5d1-6d70-493a-b934-470c9eb52d3b",
   "metadata": {},
   "outputs": [
    {
     "data": {
      "text/plain": [
       "<torch.utils.data.dataloader.DataLoader at 0x1a02bdcb7f0>"
      ]
     },
     "execution_count": 159,
     "metadata": {},
     "output_type": "execute_result"
    }
   ],
   "source": [
    "test_dataloader"
   ]
  },
  {
   "cell_type": "code",
   "execution_count": 168,
   "id": "d1d57168-4e34-4783-b7f4-fb0cff6a6ac8",
   "metadata": {},
   "outputs": [
    {
     "name": "stderr",
     "output_type": "stream",
     "text": [
      "making predictions....: 100%|████████████████████████████████████████████████████████| 313/313 [00:05<00:00, 59.68it/s]\n"
     ]
    }
   ],
   "source": [
    "# lets evaluate our model\n",
    "from tqdm.auto import tqdm\n",
    "\n",
    "cnn_classifier.eval()\n",
    "y_preds=[]\n",
    "with torch.inference_mode():\n",
    "    for x,y in tqdm(test_dataloader,desc=\"making predictions....\"):\n",
    "        x=x.to(device)\n",
    "        y=y.to(device)\n",
    "        \n",
    "        y_pred_logits=cnn_classifier(x)\n",
    "        y_pred=torch.softmax(y_pred_logits,dim=0).argmax(dim=1)\n",
    "        y_preds.append(y_pred.cpu())\n",
    "\n",
    "y_pred_tensor=torch.cat(y_preds)"
   ]
  },
  {
   "cell_type": "code",
   "execution_count": 169,
   "id": "e9b3ed09-9cb4-4b99-8001-03d151752bd9",
   "metadata": {},
   "outputs": [
    {
     "name": "stdout",
     "output_type": "stream",
     "text": [
      "tensor([6, 2, 5,  ..., 4, 6, 3])\n"
     ]
    }
   ],
   "source": [
    "print(y_pred_tensor)"
   ]
  },
  {
   "cell_type": "code",
   "execution_count": 170,
   "id": "4beb0ef1-beb2-4f7e-a48e-4995cc7af35c",
   "metadata": {},
   "outputs": [
    {
     "data": {
      "text/plain": [
       "10000"
      ]
     },
     "execution_count": 170,
     "metadata": {},
     "output_type": "execute_result"
    }
   ],
   "source": [
    "len(y_pred_tensor)"
   ]
  },
  {
   "cell_type": "code",
   "execution_count": 173,
   "id": "ac44633f-7d4c-40ef-9140-d3d01f156fce",
   "metadata": {},
   "outputs": [
    {
     "name": "stdout",
     "output_type": "stream",
     "text": [
      "Collecting torchmetrics\n",
      "  Downloading torchmetrics-1.3.0.post0-py3-none-any.whl.metadata (20 kB)\n",
      "Requirement already satisfied: mlxtend in c:\\users\\nebiy\\miniconda3\\envs\\snakey\\lib\\site-packages (0.23.1)\n",
      "Requirement already satisfied: numpy>1.20.0 in c:\\users\\nebiy\\miniconda3\\envs\\snakey\\lib\\site-packages (from torchmetrics) (1.24.3)\n",
      "Requirement already satisfied: packaging>17.1 in c:\\users\\nebiy\\miniconda3\\envs\\snakey\\lib\\site-packages (from torchmetrics) (23.2)\n",
      "Requirement already satisfied: torch>=1.10.0 in c:\\users\\nebiy\\miniconda3\\envs\\snakey\\lib\\site-packages (from torchmetrics) (2.1.2)\n",
      "Collecting lightning-utilities>=0.8.0 (from torchmetrics)\n",
      "  Downloading lightning_utilities-0.10.1-py3-none-any.whl.metadata (4.8 kB)\n",
      "Requirement already satisfied: typing-extensions in c:\\users\\nebiy\\miniconda3\\envs\\snakey\\lib\\site-packages (from torchmetrics) (4.5.0)\n",
      "Requirement already satisfied: scipy>=1.2.1 in c:\\users\\nebiy\\miniconda3\\envs\\snakey\\lib\\site-packages (from mlxtend) (1.10.1)\n",
      "Requirement already satisfied: pandas>=0.24.2 in c:\\users\\nebiy\\miniconda3\\envs\\snakey\\lib\\site-packages (from mlxtend) (2.0.3)\n",
      "Requirement already satisfied: scikit-learn>=1.0.2 in c:\\users\\nebiy\\miniconda3\\envs\\snakey\\lib\\site-packages (from mlxtend) (1.3.2)\n",
      "Requirement already satisfied: matplotlib>=3.0.0 in c:\\users\\nebiy\\miniconda3\\envs\\snakey\\lib\\site-packages (from mlxtend) (3.7.3)\n",
      "Requirement already satisfied: joblib>=0.13.2 in c:\\users\\nebiy\\miniconda3\\envs\\snakey\\lib\\site-packages (from mlxtend) (1.3.2)\n",
      "Requirement already satisfied: setuptools in c:\\users\\nebiy\\miniconda3\\envs\\snakey\\lib\\site-packages (from lightning-utilities>=0.8.0->torchmetrics) (68.0.0)\n",
      "Requirement already satisfied: contourpy>=1.0.1 in c:\\users\\nebiy\\miniconda3\\envs\\snakey\\lib\\site-packages (from matplotlib>=3.0.0->mlxtend) (1.1.1)\n",
      "Requirement already satisfied: cycler>=0.10 in c:\\users\\nebiy\\miniconda3\\envs\\snakey\\lib\\site-packages (from matplotlib>=3.0.0->mlxtend) (0.12.1)\n",
      "Requirement already satisfied: fonttools>=4.22.0 in c:\\users\\nebiy\\miniconda3\\envs\\snakey\\lib\\site-packages (from matplotlib>=3.0.0->mlxtend) (4.46.0)\n",
      "Requirement already satisfied: kiwisolver>=1.0.1 in c:\\users\\nebiy\\miniconda3\\envs\\snakey\\lib\\site-packages (from matplotlib>=3.0.0->mlxtend) (1.4.5)\n",
      "Requirement already satisfied: pillow>=6.2.0 in c:\\users\\nebiy\\miniconda3\\envs\\snakey\\lib\\site-packages (from matplotlib>=3.0.0->mlxtend) (10.1.0)\n",
      "Requirement already satisfied: pyparsing>=2.3.1 in c:\\users\\nebiy\\miniconda3\\envs\\snakey\\lib\\site-packages (from matplotlib>=3.0.0->mlxtend) (3.1.1)\n",
      "Requirement already satisfied: python-dateutil>=2.7 in c:\\users\\nebiy\\miniconda3\\envs\\snakey\\lib\\site-packages (from matplotlib>=3.0.0->mlxtend) (2.8.2)\n",
      "Requirement already satisfied: importlib-resources>=3.2.0 in c:\\users\\nebiy\\miniconda3\\envs\\snakey\\lib\\site-packages (from matplotlib>=3.0.0->mlxtend) (6.1.1)\n",
      "Requirement already satisfied: pytz>=2020.1 in c:\\users\\nebiy\\miniconda3\\envs\\snakey\\lib\\site-packages (from pandas>=0.24.2->mlxtend) (2023.3.post1)\n",
      "Requirement already satisfied: tzdata>=2022.1 in c:\\users\\nebiy\\miniconda3\\envs\\snakey\\lib\\site-packages (from pandas>=0.24.2->mlxtend) (2023.3)\n",
      "Requirement already satisfied: threadpoolctl>=2.0.0 in c:\\users\\nebiy\\miniconda3\\envs\\snakey\\lib\\site-packages (from scikit-learn>=1.0.2->mlxtend) (3.2.0)\n",
      "Requirement already satisfied: filelock in c:\\users\\nebiy\\miniconda3\\envs\\snakey\\lib\\site-packages (from torch>=1.10.0->torchmetrics) (3.13.1)\n",
      "Requirement already satisfied: sympy in c:\\users\\nebiy\\miniconda3\\envs\\snakey\\lib\\site-packages (from torch>=1.10.0->torchmetrics) (1.12)\n",
      "Requirement already satisfied: networkx in c:\\users\\nebiy\\miniconda3\\envs\\snakey\\lib\\site-packages (from torch>=1.10.0->torchmetrics) (3.1)\n",
      "Requirement already satisfied: jinja2 in c:\\users\\nebiy\\miniconda3\\envs\\snakey\\lib\\site-packages (from torch>=1.10.0->torchmetrics) (3.1.2)\n",
      "Collecting fsspec (from torch>=1.10.0->torchmetrics)\n",
      "  Downloading fsspec-2024.2.0-py3-none-any.whl.metadata (6.8 kB)\n",
      "Requirement already satisfied: zipp>=3.1.0 in c:\\users\\nebiy\\miniconda3\\envs\\snakey\\lib\\site-packages (from importlib-resources>=3.2.0->matplotlib>=3.0.0->mlxtend) (3.17.0)\n",
      "Requirement already satisfied: six>=1.5 in c:\\users\\nebiy\\miniconda3\\envs\\snakey\\lib\\site-packages (from python-dateutil>=2.7->matplotlib>=3.0.0->mlxtend) (1.16.0)\n",
      "Requirement already satisfied: MarkupSafe>=2.0 in c:\\users\\nebiy\\miniconda3\\envs\\snakey\\lib\\site-packages (from jinja2->torch>=1.10.0->torchmetrics) (2.1.3)\n",
      "Requirement already satisfied: mpmath>=0.19 in c:\\users\\nebiy\\miniconda3\\envs\\snakey\\lib\\site-packages (from sympy->torch>=1.10.0->torchmetrics) (1.3.0)\n",
      "Downloading torchmetrics-1.3.0.post0-py3-none-any.whl (840 kB)\n",
      "   ---------------------------------------- 0.0/840.2 kB ? eta -:--:--\n",
      "   ---------------------------------------- 10.2/840.2 kB ? eta -:--:--\n",
      "   - ------------------------------------- 30.7/840.2 kB 660.6 kB/s eta 0:00:02\n",
      "   --- ----------------------------------- 81.9/840.2 kB 573.4 kB/s eta 0:00:02\n",
      "   ----- -------------------------------- 112.6/840.2 kB 726.2 kB/s eta 0:00:02\n",
      "   -------- ----------------------------- 184.3/840.2 kB 794.9 kB/s eta 0:00:01\n",
      "   ----------- -------------------------- 245.8/840.2 kB 942.1 kB/s eta 0:00:01\n",
      "   ---------------- ----------------------- 337.9/840.2 kB 1.1 MB/s eta 0:00:01\n",
      "   ----------------------- ---------------- 501.8/840.2 kB 1.4 MB/s eta 0:00:01\n",
      "   --------------------------- ------------ 583.7/840.2 kB 1.4 MB/s eta 0:00:01\n",
      "   ---------------------------------------- 840.2/840.2 kB 1.8 MB/s eta 0:00:00\n",
      "Downloading lightning_utilities-0.10.1-py3-none-any.whl (24 kB)\n",
      "Downloading fsspec-2024.2.0-py3-none-any.whl (170 kB)\n",
      "   ---------------------------------------- 0.0/170.9 kB ? eta -:--:--\n",
      "   ---------------------------------------- 170.9/170.9 kB ? eta 0:00:00\n",
      "Installing collected packages: lightning-utilities, fsspec, torchmetrics\n",
      "Successfully installed fsspec-2024.2.0 lightning-utilities-0.10.1 torchmetrics-1.3.0.post0\n"
     ]
    }
   ],
   "source": [
    "try:\n",
    "    import torchmetrics,mlxtend\n",
    "    print(f\"mlxtend version: {mlxtend.__version__}\")\n",
    "    assert int(mlxtend.__version__.split(\".\")[1] >= 19, \"mlxtend version should be 0.19.0 or higher\")\n",
    "except:\n",
    "    !pip install torchmetrics -U mlxtend "
   ]
  },
  {
   "cell_type": "code",
   "execution_count": 176,
   "id": "8ec386a8-e0da-4129-88bc-11f607da28b9",
   "metadata": {},
   "outputs": [],
   "source": [
    "import torchmetrics,mlxtend"
   ]
  },
  {
   "cell_type": "code",
   "execution_count": 177,
   "id": "c7903144-1766-4bbb-a671-3a7895cd6680",
   "metadata": {},
   "outputs": [
    {
     "data": {
      "text/plain": [
       "'0.23.1'"
      ]
     },
     "execution_count": 177,
     "metadata": {},
     "output_type": "execute_result"
    }
   ],
   "source": [
    "mlxtend.__version__"
   ]
  },
  {
   "cell_type": "code",
   "execution_count": 207,
   "id": "5012afe5-a980-4f5a-90bc-19d9302f3feb",
   "metadata": {},
   "outputs": [
    {
     "data": {
      "text/plain": [
       "torch.Tensor"
      ]
     },
     "execution_count": 207,
     "metadata": {},
     "output_type": "execute_result"
    }
   ],
   "source": [
    "type(y_pred_tensor)"
   ]
  },
  {
   "cell_type": "code",
   "execution_count": 208,
   "id": "8a1f25d9-0455-442a-836e-f1c52b8201e5",
   "metadata": {},
   "outputs": [
    {
     "data": {
      "text/plain": [
       "Dataset FashionMNIST\n",
       "    Number of datapoints: 10000\n",
       "    Root location: data\n",
       "    Split: Test\n",
       "    StandardTransform\n",
       "Transform: ToTensor()"
      ]
     },
     "execution_count": 208,
     "metadata": {},
     "output_type": "execute_result"
    }
   ],
   "source": [
    "test_dataset"
   ]
  },
  {
   "cell_type": "code",
   "execution_count": 213,
   "id": "015119f0-d2a0-4f74-ab9e-8ab7d51742a0",
   "metadata": {},
   "outputs": [],
   "source": [
    "#confusion metrix\n",
    "from torchmetrics import ConfusionMatrix\n",
    "from mlxtend.plotting import plot_confusion_matrix\n",
    "\n",
    "cm=ConfusionMatrix(num_classes=len(class_names),task=\"multiclass\")\n",
    "cm_tensor=cm(preds=y_pred_tensor,target=test_dataset.targets)"
   ]
  },
  {
   "cell_type": "code",
   "execution_count": 212,
   "id": "78e9c2b1-d342-4e63-8c0e-46901ecd17d8",
   "metadata": {},
   "outputs": [
    {
     "data": {
      "text/plain": [
       "tensor([[ 57,  66, 103, 154, 109, 106,  94, 109, 119,  83],\n",
       "        [ 39,  71, 102, 150, 118, 104, 105, 108, 110,  93],\n",
       "        [ 59,  58, 111, 156, 105, 103,  94, 119, 106,  89],\n",
       "        [ 57,  71, 100, 140, 104, 118, 132,  98, 108,  72],\n",
       "        [ 43,  77, 115, 166, 114,  96,  92,  97, 128,  72],\n",
       "        [ 64,  77, 106, 144,  95, 108, 127,  99, 107,  73],\n",
       "        [ 58,  74,  94, 159, 101,  97, 108, 126, 104,  79],\n",
       "        [ 76,  71, 120, 134, 100, 119, 101,  92, 101,  86],\n",
       "        [ 52,  73, 111, 153, 120,  92, 101, 106, 109,  83],\n",
       "        [ 58,  75, 106, 157, 105, 103, 102,  96, 110,  88]])"
      ]
     },
     "execution_count": 212,
     "metadata": {},
     "output_type": "execute_result"
    }
   ],
   "source": [
    "cm_tensor"
   ]
  },
  {
   "cell_type": "code",
   "execution_count": 219,
   "id": "b75785fa-c127-4911-b667-40ad1f4016ca",
   "metadata": {},
   "outputs": [
    {
     "data": {
      "image/png": "[encoded data removed]",
      "text/plain": [
       "<Figure size 1000x700 with 1 Axes>"
      ]
     },
     "metadata": {},
     "output_type": "display_data"
    }
   ],
   "source": [
    "#lets plot the confusion matric \n",
    "fig,ax=plot_confusion_matrix(\n",
    "    conf_mat=cm_tensor.numpy() ,\n",
    "  #  colorbar=True,\n",
    "    class_names=class_names,\n",
    " #   show_absolute=False,\n",
    "  #  show_normed=True,\n",
    "    figsize=(10,7)\n",
    ")\n",
    "plt.show()"
   ]
  },
  {
   "cell_type": "markdown",
   "id": "4938566a-914f-44d9-ad1c-d761774bc4a6",
   "metadata": {},
   "source": [
    "# lets save and load our model"
   ]
  },
  {
   "cell_type": "code",
   "execution_count": 225,
   "id": "63c16c52-9292-4db7-b747-a54f924d14f7",
   "metadata": {},
   "outputs": [
    {
     "data": {
      "text/plain": [
       "WindowsPath('models/cnn_classifier_model.pth')"
      ]
     },
     "execution_count": 225,
     "metadata": {},
     "output_type": "execute_result"
    }
   ],
   "source": [
    "from pathlib import Path\n",
    "\n",
    "model_path=Path(\"models\")\n",
    "model_path.mkdir(parents=True,\n",
    "                exist_ok=True)\n",
    "\n",
    "#create a model path\n",
    "model_name=\"cnn_classifier_model.pth\"\n",
    "model_save_name=model_path/model_name\n",
    "\n",
    "model_save_name"
   ]
  },
  {
   "cell_type": "code",
   "execution_count": 227,
   "id": "ce612064-53dd-4ab2-b4e5-8edd6eeda1d9",
   "metadata": {},
   "outputs": [],
   "source": [
    "#save the model\n",
    "torch.save(obj=cnn_classifier.state_dict(),f=model_save_name)"
   ]
  },
  {
   "cell_type": "markdown",
   "id": "e3f96ec2-253d-4013-9533-7e4e29eea284",
   "metadata": {},
   "source": [
    "## load the model"
   ]
  },
  {
   "cell_type": "code",
   "execution_count": 234,
   "id": "754579ad-7d97-4cd5-b13e-8a6a40d26c33",
   "metadata": {},
   "outputs": [
    {
     "data": {
      "text/plain": [
       "<All keys matched successfully>"
      ]
     },
     "execution_count": 234,
     "metadata": {},
     "output_type": "execute_result"
    }
   ],
   "source": [
    "loaded_cnn=CNN_Fmnist(\n",
    "    input_shape=1,\n",
    "    hidden_layer=10,\n",
    "    output_shape=len(class_names)\n",
    ")\n",
    "\n",
    "#load the saved parameters \n",
    "loaded_cnn.load_state_dict(torch.load(f=model_save_name))"
   ]
  },
  {
   "cell_type": "code",
   "execution_count": 237,
   "id": "5d1ee666-a7ff-4d4d-abe9-a65eb6aa2eb2",
   "metadata": {},
   "outputs": [
    {
     "data": {
      "text/plain": [
       "CNN_Fmnist(\n",
       "  (block_1): Sequential(\n",
       "    (0): Conv2d(1, 10, kernel_size=(3, 3), stride=(1, 1), padding=(1, 1))\n",
       "    (1): ReLU()\n",
       "    (2): Conv2d(10, 10, kernel_size=(3, 3), stride=(1, 1), padding=(1, 1))\n",
       "    (3): ReLU()\n",
       "    (4): MaxPool2d(kernel_size=2, stride=2, padding=0, dilation=1, ceil_mode=False)\n",
       "  )\n",
       "  (block_2): Sequential(\n",
       "    (0): Conv2d(10, 10, kernel_size=(3, 3), stride=(1, 1), padding=(1, 1))\n",
       "    (1): ReLU()\n",
       "    (2): Conv2d(10, 10, kernel_size=(2, 2), stride=(1, 1), padding=(1, 1))\n",
       "    (3): ReLU()\n",
       "    (4): MaxPool2d(kernel_size=2, stride=2, padding=0, dilation=1, ceil_mode=False)\n",
       "  )\n",
       "  (classifier): Sequential(\n",
       "    (0): Flatten(start_dim=1, end_dim=-1)\n",
       "    (1): Linear(in_features=490, out_features=10, bias=True)\n",
       "  )\n",
       ")"
      ]
     },
     "execution_count": 237,
     "metadata": {},
     "output_type": "execute_result"
    }
   ],
   "source": [
    "loaded_cnn.to(device)"
   ]
  },
  {
   "cell_type": "code",
   "execution_count": 241,
   "id": "c2361a28-8c6a-4787-90c5-88fff55b932d",
   "metadata": {},
   "outputs": [],
   "source": [
    "#evaluaing our loaded model\n",
    "torch.manual_seed(42)\n",
    "loaded_model_results=eval_model(\n",
    "    model=loaded_cnn,\n",
    "    data_loader=test_dataloader,\n",
    "    loss_fn=loss_fn,\n",
    "    accuracy_fn=accuracy_fn\n",
    ")"
   ]
  },
  {
   "cell_type": "code",
   "execution_count": 242,
   "id": "685a75ea-15ae-49f9-98e2-d340ed8c58e3",
   "metadata": {},
   "outputs": [
    {
     "data": {
      "text/plain": [
       "{'model_name': 'CNN_Fmnist',\n",
       " 'model_loss': 0.46670931577682495,\n",
       " 'model_accuracy': 83.56629392971246}"
      ]
     },
     "execution_count": 242,
     "metadata": {},
     "output_type": "execute_result"
    }
   ],
   "source": [
    "loaded_model_results"
   ]
  },
  {
   "cell_type": "code",
   "execution_count": 254,
   "id": "17b50497-0176-4f18-85bf-1c61eb6973c2",
   "metadata": {},
   "outputs": [
    {
     "data": {
      "text/plain": [
       "tensor(True)"
      ]
     },
     "execution_count": 254,
     "metadata": {},
     "output_type": "execute_result"
    }
   ],
   "source": [
    "#check for the clossness of the predicted and actual value\n",
    "torch.isclose(torch.tensor(loaded_model_results[\"model_loss\"]),\n",
    "              torch.tensor(cnn_model_results[\"model_loss\"]),\n",
    "             atol=1e-3)"
   ]
  },
  {
   "cell_type": "code",
   "execution_count": null,
   "id": "dd14e639-eba6-4136-a800-28d98c6e7a17",
   "metadata": {},
   "outputs": [],
   "source": []
  }
 ],
 "metadata": {
  "kernelspec": {
   "display_name": "Python 3 (ipykernel)",
   "language": "python",
   "name": "python3"
  },
  "language_info": {
   "codemirror_mode": {
    "name": "ipython",
    "version": 3
   },
   "file_extension": ".py",
   "mimetype": "text/x-python",
   "name": "python",
   "nbconvert_exporter": "python",
   "pygments_lexer": "ipython3",
   "version": "3.8.18"
  }
 },
 "nbformat": 4,
 "nbformat_minor": 5
}

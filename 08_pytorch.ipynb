{
 "cells": [
  {
   "cell_type": "markdown",
   "id": "570e0770-2f1f-4d02-822d-9870c915be15",
   "metadata": {},
   "source": [
    "# numpy and tensors:\n",
    "* turnig ndarray(numpy) into tensor\n",
    "* and turing tensor into numpy"
   ]
  },
  {
   "cell_type": "code",
   "execution_count": 3,
   "id": "729e25c7-953c-43ae-b2f7-3098c02f7997",
   "metadata": {},
   "outputs": [],
   "source": [
    "import numpy as np\n",
    "import torch"
   ]
  },
  {
   "cell_type": "code",
   "execution_count": 9,
   "id": "b25fd6ba-3a9b-482e-8451-a74fbdb1e514",
   "metadata": {},
   "outputs": [
    {
     "name": "stdout",
     "output_type": "stream",
     "text": [
      "[1 2 3 4 5 6 7 8 9]\n",
      "tensor([1., 2., 3., 4., 5., 6., 7., 8., 9.])\n"
     ]
    }
   ],
   "source": [
    "#changing from numpy into tensor\n",
    "np_array=np.arange(1,10)\n",
    "tensor=torch.from_numpy(np_array).type(torch.float32)\n",
    "print(np_array)\n",
    "print(tensor)"
   ]
  },
  {
   "cell_type": "code",
   "execution_count": 12,
   "id": "869d7328-a4d8-40a9-9184-869ab5e7f7fe",
   "metadata": {},
   "outputs": [
    {
     "data": {
      "text/plain": [
       "torch.float32"
      ]
     },
     "execution_count": 12,
     "metadata": {},
     "output_type": "execute_result"
    }
   ],
   "source": [
    "tensor.dtype"
   ]
  },
  {
   "cell_type": "code",
   "execution_count": 15,
   "id": "cda2594a-c863-4708-a25a-fb5619d3b4db",
   "metadata": {},
   "outputs": [
    {
     "data": {
      "text/plain": [
       "dtype('int32')"
      ]
     },
     "execution_count": 15,
     "metadata": {},
     "output_type": "execute_result"
    }
   ],
   "source": [
    "np_array.dtype"
   ]
  },
  {
   "cell_type": "code",
   "execution_count": 10,
   "id": "a896c27e-2e63-429a-94ab-a005217971d2",
   "metadata": {},
   "outputs": [
    {
     "data": {
      "text/plain": [
       "torch.int64"
      ]
     },
     "execution_count": 10,
     "metadata": {},
     "output_type": "execute_result"
    }
   ],
   "source": [
    "torch.arange(1,9).dtype"
   ]
  },
  {
   "cell_type": "code",
   "execution_count": 14,
   "id": "7ad00754-fb79-4cc7-b941-06af997ae112",
   "metadata": {},
   "outputs": [
    {
     "data": {
      "text/plain": [
       "(tensor([1., 1., 1., 1., 1., 1., 1., 1.]),\n",
       " array([1., 1., 1., 1., 1., 1., 1., 1.], dtype=float32))"
      ]
     },
     "execution_count": 14,
     "metadata": {},
     "output_type": "execute_result"
    }
   ],
   "source": [
    "#changing from tensor into numpy\n",
    "tensor=torch.ones(8)\n",
    "numpy_tensor=tensor.numpy()\n",
    "tensor,numpy_tensor"
   ]
  }
 ],
 "metadata": {
  "kernelspec": {
   "display_name": "Python 3 (ipykernel)",
   "language": "python",
   "name": "python3"
  },
  "language_info": {
   "codemirror_mode": {
    "name": "ipython",
    "version": 3
   },
   "file_extension": ".py",
   "mimetype": "text/x-python",
   "name": "python",
   "nbconvert_exporter": "python",
   "pygments_lexer": "ipython3",
   "version": "3.8.18"
  }
 },
 "nbformat": 4,
 "nbformat_minor": 5
}

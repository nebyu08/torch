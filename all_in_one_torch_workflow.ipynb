{
  "nbformat": 4,
  "nbformat_minor": 0,
  "metadata": {
    "colab": {
      "provenance": [],
      "authorship_tag": "ABX9TyN1xmEvzmZsKdC1fLgzSLK7",
      "include_colab_link": true
    },
    "kernelspec": {
      "name": "python3",
      "display_name": "Python 3"
    },
    "language_info": {
      "name": "python"
    }
  },
  "cells": [
    {
      "cell_type": "markdown",
      "metadata": {
        "id": "view-in-github",
        "colab_type": "text"
      },
      "source": [
        "<a href=\"https://colab.research.google.com/github/nebyu08/torch/blob/master/all_in_one_torch_workflow.ipynb\" target=\"_parent\"><img src=\"https://colab.research.google.com/assets/colab-badge.svg\" alt=\"Open In Colab\"/></a>"
      ]
    },
    {
      "cell_type": "markdown",
      "source": [
        "# importing necssary packages"
      ],
      "metadata": {
        "id": "arPMnGk84BPv"
      }
    },
    {
      "cell_type": "code",
      "execution_count": 1,
      "metadata": {
        "id": "4NI-jOlM3wIr"
      },
      "outputs": [],
      "source": [
        "import torch\n",
        "import torch.nn as nn\n",
        "import numpy as np\n",
        "from torch import optim\n",
        "import matplotlib.pyplot as plt"
      ]
    },
    {
      "cell_type": "code",
      "source": [
        "#set up the device we are using\n",
        "device=\"cuda\" if torch.cuda.is_available() else \"cpu\"\n",
        "\n",
        "print(f\"we are using device:{device}\")"
      ],
      "metadata": {
        "colab": {
          "base_uri": "https://localhost:8080/"
        },
        "id": "yOcIMU5F4Rsb",
        "outputId": "5bed9e79-b85e-4a89-8aae-d00b498345c2"
      },
      "execution_count": 2,
      "outputs": [
        {
          "output_type": "stream",
          "name": "stdout",
          "text": [
            "we are using device:cpu\n"
          ]
        }
      ]
    },
    {
      "cell_type": "markdown",
      "source": [
        "# data"
      ],
      "metadata": {
        "id": "Vb2MCjeW6n14"
      }
    },
    {
      "cell_type": "code",
      "source": [
        "#data processing\n",
        "weights=0.7\n",
        "bias=0.3\n",
        "\n",
        "x=torch.arange(0,1,0.01).unsqueeze(dim=1)\n",
        "y=x*weights+bias\n",
        "x[:10],y[:10]"
      ],
      "metadata": {
        "colab": {
          "base_uri": "https://localhost:8080/"
        },
        "id": "kq6U2fSd6mfa",
        "outputId": "e65f6faa-b40f-4a6f-8a1f-ca9d1f3113f9"
      },
      "execution_count": 3,
      "outputs": [
        {
          "output_type": "execute_result",
          "data": {
            "text/plain": [
              "(tensor([[0.0000],\n",
              "         [0.0100],\n",
              "         [0.0200],\n",
              "         [0.0300],\n",
              "         [0.0400],\n",
              "         [0.0500],\n",
              "         [0.0600],\n",
              "         [0.0700],\n",
              "         [0.0800],\n",
              "         [0.0900]]),\n",
              " tensor([[0.3000],\n",
              "         [0.3070],\n",
              "         [0.3140],\n",
              "         [0.3210],\n",
              "         [0.3280],\n",
              "         [0.3350],\n",
              "         [0.3420],\n",
              "         [0.3490],\n",
              "         [0.3560],\n",
              "         [0.3630]]))"
            ]
          },
          "metadata": {},
          "execution_count": 3
        }
      ]
    },
    {
      "cell_type": "code",
      "source": [
        " #split the data\n",
        " train_split=int(0.8*len(x))\n",
        " x_train,y_train=x[:train_split],y[:train_split]\n",
        " x_test,y_test=x[train_split:],y[train_split:]"
      ],
      "metadata": {
        "id": "98GuJ48y68in"
      },
      "execution_count": 4,
      "outputs": []
    },
    {
      "cell_type": "code",
      "source": [
        "len(x_train),len(x_test),len(y_train),len(y_test)"
      ],
      "metadata": {
        "colab": {
          "base_uri": "https://localhost:8080/"
        },
        "id": "9lH5PNVc7a6i",
        "outputId": "77a6a381-22a7-4933-e2cc-e878b212471c"
      },
      "execution_count": 5,
      "outputs": [
        {
          "output_type": "execute_result",
          "data": {
            "text/plain": [
              "(80, 20, 80, 20)"
            ]
          },
          "metadata": {},
          "execution_count": 5
        }
      ]
    },
    {
      "cell_type": "code",
      "source": [
        "#lets plot the data\n",
        "plt.scatter(x_train,y_train,label=\"train data\",c=\"r\",s=4)\n",
        "plt.scatter(x_test,y_test,label=\"test data\",c=\"b\",s=4)\n",
        "plt.legend();"
      ],
      "metadata": {
        "colab": {
          "base_uri": "https://localhost:8080/",
          "height": 430
        },
        "id": "jeojMsGd7fZZ",
        "outputId": "631c0a1c-9235-43aa-8a44-bb1c6dda730a"
      },
      "execution_count": 6,
      "outputs": [
        {
          "output_type": "display_data",
          "data": {
            "text/plain": [
              "<Figure size 640x480 with 1 Axes>"
            ],
            "image/png": "[encoded data removed]"
          },
          "metadata": {}
        }
      ]
    },
    {
      "cell_type": "code",
      "source": [
        "#lets build a linear layer\n",
        "class LinearRegressionModel(nn.Module):\n",
        "  def __init__(self):\n",
        "    super().__init__()\n",
        "    self.linear_layer=nn.Linear(in_features=1,\n",
        "                                out_features=1\n",
        "                                )\n",
        "\n",
        "  def forward(self,x:torch.Tensor)->torch.Tensor:\n",
        "    return self.linear_layer(x)\n",
        "\n"
      ],
      "metadata": {
        "id": "SW8UODNB-t8g"
      },
      "execution_count": 7,
      "outputs": []
    },
    {
      "cell_type": "code",
      "source": [
        "torch.manual_seed(42)\n",
        "\n",
        "linear_model=LinearRegressionModel()"
      ],
      "metadata": {
        "id": "N7mrkC7DE5L5"
      },
      "execution_count": 8,
      "outputs": []
    },
    {
      "cell_type": "code",
      "source": [
        "linear_model.state_dict()"
      ],
      "metadata": {
        "colab": {
          "base_uri": "https://localhost:8080/"
        },
        "id": "qKc_SrutEa2J",
        "outputId": "6d7c87c7-0965-4d15-c039-709f77d5c5fd"
      },
      "execution_count": 9,
      "outputs": [
        {
          "output_type": "execute_result",
          "data": {
            "text/plain": [
              "OrderedDict([('linear_layer.weight', tensor([[0.7645]])),\n",
              "             ('linear_layer.bias', tensor([0.8300]))])"
            ]
          },
          "metadata": {},
          "execution_count": 9
        }
      ]
    },
    {
      "cell_type": "code",
      "source": [
        "# lets change the place where the model runns into the device\n",
        "linear_model.to(device)"
      ],
      "metadata": {
        "colab": {
          "base_uri": "https://localhost:8080/"
        },
        "id": "cpslJJg9Hpzb",
        "outputId": "853f96b7-1c0f-455e-a202-a3568b5683df"
      },
      "execution_count": 10,
      "outputs": [
        {
          "output_type": "execute_result",
          "data": {
            "text/plain": [
              "LinearRegressionModel(\n",
              "  (linear_layer): Linear(in_features=1, out_features=1, bias=True)\n",
              ")"
            ]
          },
          "metadata": {},
          "execution_count": 10
        }
      ]
    },
    {
      "cell_type": "code",
      "source": [
        "device"
      ],
      "metadata": {
        "colab": {
          "base_uri": "https://localhost:8080/",
          "height": 35
        },
        "id": "CKsJI46nH1TF",
        "outputId": "88f61834-77d4-4ad5-d994-4e7cad268e4b"
      },
      "execution_count": 11,
      "outputs": [
        {
          "output_type": "execute_result",
          "data": {
            "text/plain": [
              "'cpu'"
            ],
            "application/vnd.google.colaboratory.intrinsic+json": {
              "type": "string"
            }
          },
          "metadata": {},
          "execution_count": 11
        }
      ]
    },
    {
      "cell_type": "code",
      "source": [
        "# before traingin we need to put our data onto same device as the model\n",
        "x_train=x_train.to(device)\n",
        "y_train=y_train.to(device)\n",
        "x_test=x_test.to(device)\n",
        "y_test=y_test.to(device)"
      ],
      "metadata": {
        "id": "U0RIScVvNBT-"
      },
      "execution_count": 12,
      "outputs": []
    },
    {
      "cell_type": "code",
      "source": [
        "#lets setup the loss and optimizer\n",
        "loss_fn=nn.L1Loss()\n",
        "optimizer=torch.optim.Adam(linear_model.parameters(),lr=0.01)\n",
        "\n",
        "epochs=200\n",
        "\n",
        "#les train the model\n",
        "\n",
        "linear_model.train()\n",
        "\n",
        "for epoch in range(epochs):\n",
        "  y_pred=linear_model(x_train)\n",
        "\n",
        "  loss=loss_fn(y_pred,y_train)\n",
        "\n",
        "  #lets restart the optimizer each epoch\n",
        "  optimizer.zero_grad()\n",
        "\n",
        "  #lets perform backpropagation\n",
        "  loss.backward()\n",
        "\n",
        "  optimizer.step()\n",
        "\n",
        "  #for testing mode\n",
        "  linear_model.eval()\n",
        "  with torch.inference_mode():\n",
        "    y_preds_test=linear_model(x_test)\n",
        "    test_loss = loss_fn(y_preds_test, y_test)\n",
        "    if epoch % 10 == 0:\n",
        "\n",
        "      print(f\"after {epoch:} | the loss value is {loss:.4f} | test loss is {test_loss:.4f}\")"
      ],
      "metadata": {
        "colab": {
          "base_uri": "https://localhost:8080/"
        },
        "id": "3HSpPkXZAVQe",
        "outputId": "56488c84-8c4d-4fbf-e8fd-4c5ad5f885cb"
      },
      "execution_count": 13,
      "outputs": [
        {
          "output_type": "stream",
          "name": "stdout",
          "text": [
            "after 0 | the loss value is 0.5555 | test loss is 0.5688\n",
            "after 10 | the loss value is 0.4160 | test loss is 0.3793\n",
            "after 20 | the loss value is 0.2765 | test loss is 0.1898\n",
            "after 30 | the loss value is 0.1370 | test loss is 0.0123\n",
            "after 40 | the loss value is 0.0647 | test loss is 0.1609\n",
            "after 50 | the loss value is 0.0697 | test loss is 0.1954\n",
            "after 60 | the loss value is 0.0557 | test loss is 0.1425\n",
            "after 70 | the loss value is 0.0447 | test loss is 0.0825\n",
            "after 80 | the loss value is 0.0360 | test loss is 0.0653\n",
            "after 90 | the loss value is 0.0259 | test loss is 0.0597\n",
            "after 100 | the loss value is 0.0155 | test loss is 0.0304\n",
            "after 110 | the loss value is 0.0048 | test loss is 0.0095\n",
            "after 120 | the loss value is 0.0032 | test loss is 0.0070\n",
            "after 130 | the loss value is 0.0008 | test loss is 0.0035\n",
            "after 140 | the loss value is 0.0006 | test loss is 0.0003\n",
            "after 150 | the loss value is 0.0012 | test loss is 0.0040\n",
            "after 160 | the loss value is 0.0012 | test loss is 0.0002\n",
            "after 170 | the loss value is 0.0009 | test loss is 0.0019\n",
            "after 180 | the loss value is 0.0024 | test loss is 0.0007\n",
            "after 190 | the loss value is 0.0014 | test loss is 0.0006\n"
          ]
        }
      ]
    },
    {
      "cell_type": "code",
      "source": [
        "linear_model.state_dict()"
      ],
      "metadata": {
        "colab": {
          "base_uri": "https://localhost:8080/"
        },
        "id": "1AJS5f86_Lww",
        "outputId": "85779d7c-9439-4de2-b93c-7855fc4cfc7e"
      },
      "execution_count": 14,
      "outputs": [
        {
          "output_type": "execute_result",
          "data": {
            "text/plain": [
              "OrderedDict([('linear_layer.weight', tensor([[0.7048]])),\n",
              "             ('linear_layer.bias', tensor([0.2997]))])"
            ]
          },
          "metadata": {},
          "execution_count": 14
        }
      ]
    },
    {
      "cell_type": "code",
      "source": [
        "weights,bias"
      ],
      "metadata": {
        "colab": {
          "base_uri": "https://localhost:8080/"
        },
        "id": "zVogBfx5NsX6",
        "outputId": "13011a1e-c54b-4df7-ca9b-8d2c42c9c956"
      },
      "execution_count": 15,
      "outputs": [
        {
          "output_type": "execute_result",
          "data": {
            "text/plain": [
              "(0.7, 0.3)"
            ]
          },
          "metadata": {},
          "execution_count": 15
        }
      ]
    },
    {
      "cell_type": "code",
      "source": [
        "# lets visualize the testing data and predicted data\n",
        "def plot_predictions(x_train=x_train.cpu(),y_train=y_train.cpu(),\n",
        "                     x_test=x_test.cpu(),y_test=y_test.cpu(),\n",
        "                     predictions=None):\n",
        "  '''this plots the training,testing and prediction of the model'''\n",
        "  plt.figure(figsize=(10,7))\n",
        "\n",
        "  #visualizing the training data\n",
        "  plt.scatter(x_train,y_train,c=\"b\",s=4,label=\"training data\");\n",
        "  #visualizing the testing set of the data\n",
        "  plt.scatter(x_test,y_test,c=\"g\",s=6,label=\"testing label\");\n",
        "  if (predictions is not None):\n",
        "\n",
        "    '''displays the difference between actual and predicted'''\n",
        "\n",
        "    plt.scatter(y_test,predictions,c=\"r\",label=\"predictions\",s=4);\n",
        "  plt.legend(prop={\"size\":14})\n",
        "  plt.show()"
      ],
      "metadata": {
        "id": "bd0I5mgyNxEe"
      },
      "execution_count": 16,
      "outputs": []
    },
    {
      "cell_type": "markdown",
      "source": [
        "* this was trained for like 600 epochs\n",
        "* and a quick note the cpu is there becuase matplotlib works on cpu and not gpu/cuda and so had to change to cpu for the matplotlib to execute it"
      ],
      "metadata": {
        "id": "tzFykwKUOZnJ"
      }
    },
    {
      "cell_type": "code",
      "source": [
        "plot_predictions(predictions=y_preds_test.cpu())"
      ],
      "metadata": {
        "colab": {
          "base_uri": "https://localhost:8080/",
          "height": 599
        },
        "id": "VrYzwLV3ONFs",
        "outputId": "bf59b8b1-5903-4e1c-8e9e-0eee8e255ffe"
      },
      "execution_count": 17,
      "outputs": [
        {
          "output_type": "display_data",
          "data": {
            "text/plain": [
              "<Figure size 1000x700 with 1 Axes>"
            ],
            "image/png": "[encoded data removed]"
          },
          "metadata": {}
        }
      ]
    },
    {
      "cell_type": "code",
      "source": [
        "#lets save the model\n",
        "from pathlib import Path\n",
        "\n",
        "model_path=Path(\"model\")\n",
        "model_path.mkdir(parents=True,exist_ok=True)\n",
        "\n",
        "model_name=\"o1_torch_model.pth\"\n",
        "\n",
        "model_save_path=model_path/model_name\n",
        "\n",
        "model_save_path"
      ],
      "metadata": {
        "colab": {
          "base_uri": "https://localhost:8080/"
        },
        "id": "vJQOzR7qOW7b",
        "outputId": "e2bd2b3c-02df-4dca-c8cb-e33f5ff1b7f9"
      },
      "execution_count": 18,
      "outputs": [
        {
          "output_type": "execute_result",
          "data": {
            "text/plain": [
              "PosixPath('model/o1_torch_model.pth')"
            ]
          },
          "metadata": {},
          "execution_count": 18
        }
      ]
    },
    {
      "cell_type": "code",
      "source": [
        "torch.save(obj=linear_model.state_dict(),f=model_save_path)"
      ],
      "metadata": {
        "id": "81H2tRmmVwXh"
      },
      "execution_count": 22,
      "outputs": []
    },
    {
      "cell_type": "code",
      "source": [
        "# load the saved model\n",
        "\n",
        "#loading model\n",
        "load_model=LinearRegressionModel()\n",
        "\n",
        "#know lets assign the weigts to the model\n",
        "load_model.load_state_dict(torch.load(model_save_path))"
      ],
      "metadata": {
        "colab": {
          "base_uri": "https://localhost:8080/"
        },
        "id": "z28LyHCcT6dp",
        "outputId": "1a09dcde-afd7-4642-d6d8-b42e108eb4e7"
      },
      "execution_count": 23,
      "outputs": [
        {
          "output_type": "execute_result",
          "data": {
            "text/plain": [
              "<All keys matched successfully>"
            ]
          },
          "metadata": {},
          "execution_count": 23
        }
      ]
    },
    {
      "cell_type": "code",
      "source": [
        "load_model.to(device)"
      ],
      "metadata": {
        "colab": {
          "base_uri": "https://localhost:8080/"
        },
        "id": "zZYfb-QOWk_y",
        "outputId": "cc18e7af-cf4c-45a5-faa1-545ddd5b5be1"
      },
      "execution_count": 26,
      "outputs": [
        {
          "output_type": "execute_result",
          "data": {
            "text/plain": [
              "LinearRegressionModel(\n",
              "  (linear_layer): Linear(in_features=1, out_features=1, bias=True)\n",
              ")"
            ]
          },
          "metadata": {},
          "execution_count": 26
        }
      ]
    },
    {
      "cell_type": "code",
      "source": [
        "#lets compare between the saved model and loaded model\n",
        "load_model.eval()\n",
        "with torch.inference_mode():\n",
        "  y_pred_load=load_model(x_test)"
      ],
      "metadata": {
        "id": "WthouiRIVBX9"
      },
      "execution_count": 28,
      "outputs": []
    },
    {
      "cell_type": "code",
      "source": [
        "y_pred==y_pred_load"
      ],
      "metadata": {
        "colab": {
          "base_uri": "https://localhost:8080/"
        },
        "id": "Q12skWfEWZ-i",
        "outputId": "e6f4b8de-daa7-4045-a2bf-09164d7e9fef"
      },
      "execution_count": 29,
      "outputs": [
        {
          "output_type": "execute_result",
          "data": {
            "text/plain": [
              "tensor([[True],\n",
              "        [True],\n",
              "        [True],\n",
              "        [True],\n",
              "        [True],\n",
              "        [True],\n",
              "        [True],\n",
              "        [True],\n",
              "        [True],\n",
              "        [True],\n",
              "        [True],\n",
              "        [True],\n",
              "        [True],\n",
              "        [True],\n",
              "        [True],\n",
              "        [True],\n",
              "        [True],\n",
              "        [True],\n",
              "        [True],\n",
              "        [True]])"
            ]
          },
          "metadata": {},
          "execution_count": 29
        }
      ]
    },
    {
      "cell_type": "code",
      "source": [],
      "metadata": {
        "id": "2aMYLcEFWxPF"
      },
      "execution_count": null,
      "outputs": []
    }
  ]
}
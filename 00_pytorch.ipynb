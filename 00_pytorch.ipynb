{
 "cells": [
  {
   "cell_type": "code",
   "execution_count": 3,
   "id": "126a7ff9-817e-447b-8fb3-ed0e3036e018",
   "metadata": {},
   "outputs": [],
   "source": [
    "import torch\n",
    "import keras \n",
    "import tensorflow as tf"
   ]
  },
  {
   "cell_type": "code",
   "execution_count": 4,
   "id": "bf912814-4dae-43a4-bdb7-3e201080bad3",
   "metadata": {},
   "outputs": [
    {
     "data": {
      "text/plain": [
       "'2.1.2'"
      ]
     },
     "execution_count": 4,
     "metadata": {},
     "output_type": "execute_result"
    }
   ],
   "source": [
    "torch.__version__"
   ]
  },
  {
   "cell_type": "markdown",
   "id": "e3b4d8e3-37d2-40ec-8cab-b380223781dc",
   "metadata": {},
   "source": [
    "# creating scalar number in tensor"
   ]
  },
  {
   "cell_type": "code",
   "execution_count": 5,
   "id": "5dab8ffb-9159-4fcd-85ff-10a0b6cbfc68",
   "metadata": {},
   "outputs": [
    {
     "data": {
      "text/plain": [
       "tensor(90)"
      ]
     },
     "execution_count": 5,
     "metadata": {},
     "output_type": "execute_result"
    }
   ],
   "source": [
    "number=torch.tensor(90)\n",
    "number"
   ]
  },
  {
   "cell_type": "code",
   "execution_count": 7,
   "id": "3606d2dd-56c3-4498-8411-31fb257bad0b",
   "metadata": {},
   "outputs": [
    {
     "data": {
      "text/plain": [
       "0"
      ]
     },
     "execution_count": 7,
     "metadata": {},
     "output_type": "execute_result"
    }
   ],
   "source": [
    "number.ndim"
   ]
  },
  {
   "cell_type": "code",
   "execution_count": 9,
   "id": "316af9d0-d6d8-4968-835f-a60e0b4fcc05",
   "metadata": {},
   "outputs": [
    {
     "data": {
      "text/plain": [
       "90"
      ]
     },
     "execution_count": 9,
     "metadata": {},
     "output_type": "execute_result"
    }
   ],
   "source": [
    "# getting the number as python int\n",
    "number.item()"
   ]
  },
  {
   "cell_type": "markdown",
   "id": "62b4b24e-07a3-4aae-a9da-9522675aece2",
   "metadata": {},
   "source": [
    "# creating vector"
   ]
  },
  {
   "cell_type": "code",
   "execution_count": 10,
   "id": "368eb7c0-43da-4098-9788-623fec22aaaf",
   "metadata": {},
   "outputs": [
    {
     "data": {
      "text/plain": [
       "torch.Size([2])"
      ]
     },
     "execution_count": 10,
     "metadata": {},
     "output_type": "execute_result"
    }
   ],
   "source": [
    "# lets do an analysis on vector\n",
    "vector=torch.tensor([90,89])\n",
    "vector.shape"
   ]
  },
  {
   "cell_type": "code",
   "execution_count": 13,
   "id": "e98a34b7-e85a-46b9-a7de-c6f4adcb30cd",
   "metadata": {},
   "outputs": [
    {
     "data": {
      "text/plain": [
       "1"
      ]
     },
     "execution_count": 13,
     "metadata": {},
     "output_type": "execute_result"
    }
   ],
   "source": [
    "#shape of the array\n",
    "vector.ndim"
   ]
  },
  {
   "cell_type": "code",
   "execution_count": 18,
   "id": "ae913e1a-2d06-4ac7-bbde-7c06f34925f3",
   "metadata": {},
   "outputs": [
    {
     "data": {
      "text/plain": [
       "torch.Size([2])"
      ]
     },
     "execution_count": 18,
     "metadata": {},
     "output_type": "execute_result"
    }
   ],
   "source": [
    "vector.shape"
   ]
  },
  {
   "cell_type": "markdown",
   "id": "f10d43a0-e137-4743-a26d-89c47fb5f6b7",
   "metadata": {},
   "source": [
    "# creating matrix"
   ]
  },
  {
   "cell_type": "code",
   "execution_count": 17,
   "id": "d5959a4f-7836-42ce-930e-f055b32220bb",
   "metadata": {},
   "outputs": [
    {
     "data": {
      "text/plain": [
       "2"
      ]
     },
     "execution_count": 17,
     "metadata": {},
     "output_type": "execute_result"
    }
   ],
   "source": [
    "matrix=torch.tensor([[23,45],\n",
    "                   [45,90]])\n",
    "matrix.ndim"
   ]
  },
  {
   "cell_type": "code",
   "execution_count": 19,
   "id": "c50f2198-81a9-48c5-8119-73c79c6cabac",
   "metadata": {},
   "outputs": [
    {
     "data": {
      "text/plain": [
       "torch.Size([2, 2])"
      ]
     },
     "execution_count": 19,
     "metadata": {},
     "output_type": "execute_result"
    }
   ],
   "source": [
    "matrix.shape"
   ]
  },
  {
   "cell_type": "markdown",
   "id": "176edd3a-287e-4701-8d5e-a17b4c4a7e06",
   "metadata": {},
   "source": [
    "# creating tensors"
   ]
  },
  {
   "cell_type": "code",
   "execution_count": 21,
   "id": "0cc410d4-4e38-490f-9368-18a09aad5120",
   "metadata": {},
   "outputs": [
    {
     "data": {
      "text/plain": [
       "torch.Size([1, 3, 3])"
      ]
     },
     "execution_count": 21,
     "metadata": {},
     "output_type": "execute_result"
    }
   ],
   "source": [
    "tensors=torch.tensor([[[1,2,3],\n",
    "                      [4,5,6],\n",
    "                      [7,8,9]]])\n",
    "tensors.shape"
   ]
  },
  {
   "cell_type": "code",
   "execution_count": 23,
   "id": "bebbcea7-abe6-4002-8ff6-34fd778e2743",
   "metadata": {},
   "outputs": [
    {
     "data": {
      "text/plain": [
       "3"
      ]
     },
     "execution_count": 23,
     "metadata": {},
     "output_type": "execute_result"
    }
   ],
   "source": [
    "tensors.ndim"
   ]
  },
  {
   "cell_type": "code",
   "execution_count": 33,
   "id": "23525fb1-acb7-4cf4-856e-3b6a5cd51fe2",
   "metadata": {},
   "outputs": [
    {
     "data": {
      "text/plain": [
       "tensor(9)"
      ]
     },
     "execution_count": 33,
     "metadata": {},
     "output_type": "execute_result"
    }
   ],
   "source": [
    "tensors[0][2][2]"
   ]
  },
  {
   "cell_type": "markdown",
   "id": "71e15ee8-7867-4393-9158-adf7abc3d43b",
   "metadata": {},
   "source": [
    "# THE END"
   ]
  }
 ],
 "metadata": {
  "kernelspec": {
   "display_name": "Python 3 (ipykernel)",
   "language": "python",
   "name": "python3"
  },
  "language_info": {
   "codemirror_mode": {
    "name": "ipython",
    "version": 3
   },
   "file_extension": ".py",
   "mimetype": "text/x-python",
   "name": "python",
   "nbconvert_exporter": "python",
   "pygments_lexer": "ipython3",
   "version": "3.8.18"
  }
 },
 "nbformat": 4,
 "nbformat_minor": 5
}

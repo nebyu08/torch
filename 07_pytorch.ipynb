{
 "cells": [
  {
   "cell_type": "code",
   "execution_count": 1,
   "id": "a3c0a03b-a68f-4dee-97c0-543107a3fb1b",
   "metadata": {},
   "outputs": [],
   "source": [
    "import torch"
   ]
  },
  {
   "cell_type": "markdown",
   "id": "52c85c5d-95aa-43d2-a540-cdaad71d2eff",
   "metadata": {},
   "source": [
    "# Nature of permuation\n",
    "* the permuted is the view if the original data"
   ]
  },
  {
   "cell_type": "code",
   "execution_count": 3,
   "id": "3ae60bf4-b690-4854-ba61-ad139d97fbab",
   "metadata": {},
   "outputs": [
    {
     "name": "stdout",
     "output_type": "stream",
     "text": [
      "torch.Size([2, 3, 4])\n",
      "tensor([[[ 0.6004, -0.8418, -1.3295, -1.4616],\n",
      "         [-1.7452, -0.9031, -0.5208,  1.0607],\n",
      "         [ 0.4740, -1.1623,  0.7694,  0.9799]],\n",
      "\n",
      "        [[ 0.7839, -0.2268,  1.8427, -0.3843],\n",
      "         [-0.1285,  0.8184,  0.3205, -0.8793],\n",
      "         [-0.4108,  0.4332,  0.2452,  0.8100]]])\n"
     ]
    }
   ],
   "source": [
    "a=torch.randn([2,3,4])\n",
    "print(a.shape)\n",
    "print(a)"
   ]
  },
  {
   "cell_type": "code",
   "execution_count": 4,
   "id": "93b44be6-dcbc-418d-a40f-41364a67f659",
   "metadata": {},
   "outputs": [
    {
     "name": "stdout",
     "output_type": "stream",
     "text": [
      "torch.Size([4, 2, 3])\n",
      "tensor([[[ 0.6004, -1.7452,  0.4740],\n",
      "         [ 0.7839, -0.1285, -0.4108]],\n",
      "\n",
      "        [[-0.8418, -0.9031, -1.1623],\n",
      "         [-0.2268,  0.8184,  0.4332]],\n",
      "\n",
      "        [[-1.3295, -0.5208,  0.7694],\n",
      "         [ 1.8427,  0.3205,  0.2452]],\n",
      "\n",
      "        [[-1.4616,  1.0607,  0.9799],\n",
      "         [-0.3843, -0.8793,  0.8100]]])\n"
     ]
    }
   ],
   "source": [
    "a_perm=a.permute([2,0,1])\n",
    "print(a_perm.shape)\n",
    "print(a_perm)"
   ]
  },
  {
   "cell_type": "code",
   "execution_count": 7,
   "id": "69265b5e-ccb2-4c99-9802-d2ec52a5badb",
   "metadata": {},
   "outputs": [
    {
     "name": "stdout",
     "output_type": "stream",
     "text": [
      "tensor([[[90.0000, -0.8418, -1.3295, -1.4616],\n",
      "         [-1.7452, -0.9031, -0.5208,  1.0607],\n",
      "         [ 0.4740, -1.1623,  0.7694,  0.9799]],\n",
      "\n",
      "        [[ 0.7839, -0.2268,  1.8427, -0.3843],\n",
      "         [-0.1285,  0.8184,  0.3205, -0.8793],\n",
      "         [-0.4108,  0.4332,  0.2452,  0.8100]]])\n"
     ]
    }
   ],
   "source": [
    "a[0,0,0]=90\n",
    "print(a)"
   ]
  },
  {
   "cell_type": "code",
   "execution_count": 8,
   "id": "c7a26d8a-e39c-4970-9d6a-8db065197e5b",
   "metadata": {},
   "outputs": [
    {
     "name": "stdout",
     "output_type": "stream",
     "text": [
      "tensor([[[90.0000, -1.7452,  0.4740],\n",
      "         [ 0.7839, -0.1285, -0.4108]],\n",
      "\n",
      "        [[-0.8418, -0.9031, -1.1623],\n",
      "         [-0.2268,  0.8184,  0.4332]],\n",
      "\n",
      "        [[-1.3295, -0.5208,  0.7694],\n",
      "         [ 1.8427,  0.3205,  0.2452]],\n",
      "\n",
      "        [[-1.4616,  1.0607,  0.9799],\n",
      "         [-0.3843, -0.8793,  0.8100]]])\n"
     ]
    }
   ],
   "source": [
    "print(a_perm)"
   ]
  },
  {
   "cell_type": "markdown",
   "id": "fd696d40-89f0-4f80-92fb-8e063254a328",
   "metadata": {},
   "source": [
    "# indexing value or accesing value on a matrix"
   ]
  },
  {
   "cell_type": "code",
   "execution_count": 11,
   "id": "dae1a028-6646-4c30-ae3a-bc6e1a2013ce",
   "metadata": {},
   "outputs": [
    {
     "name": "stdout",
     "output_type": "stream",
     "text": [
      "tensor([[[1, 2, 3],\n",
      "         [4, 5, 6],\n",
      "         [7, 8, 9]]])\n"
     ]
    }
   ],
   "source": [
    "x=torch.arange(1,10).reshape([1,3,3])\n",
    "print(x)"
   ]
  },
  {
   "cell_type": "code",
   "execution_count": 12,
   "id": "bd22d7c1-961f-459b-a9e4-1d7f06e8fc52",
   "metadata": {},
   "outputs": [
    {
     "data": {
      "text/plain": [
       "tensor([[1, 2, 3],\n",
       "        [4, 5, 6],\n",
       "        [7, 8, 9]])"
      ]
     },
     "execution_count": 12,
     "metadata": {},
     "output_type": "execute_result"
    }
   ],
   "source": [
    "#accesing the first dim\n",
    "x[0]"
   ]
  },
  {
   "cell_type": "code",
   "execution_count": 13,
   "id": "18d041dc-473a-42d3-9c17-6739bcc01249",
   "metadata": {},
   "outputs": [
    {
     "data": {
      "text/plain": [
       "tensor([1, 2, 3])"
      ]
     },
     "execution_count": 13,
     "metadata": {},
     "output_type": "execute_result"
    }
   ],
   "source": [
    "#accessign the second dimension\n",
    "x[0][0]"
   ]
  },
  {
   "cell_type": "code",
   "execution_count": 14,
   "id": "748c1cbe-3f69-4c66-8006-9fba6125c449",
   "metadata": {},
   "outputs": [
    {
     "data": {
      "text/plain": [
       "tensor(1)"
      ]
     },
     "execution_count": 14,
     "metadata": {},
     "output_type": "execute_result"
    }
   ],
   "source": [
    "#accessing the last dimension\n",
    "x[0][0][0]"
   ]
  },
  {
   "cell_type": "code",
   "execution_count": 15,
   "id": "a51b376f-1dab-4e5e-919b-3cec0a9a40ec",
   "metadata": {},
   "outputs": [
    {
     "data": {
      "text/plain": [
       "tensor(1)"
      ]
     },
     "execution_count": 15,
     "metadata": {},
     "output_type": "execute_result"
    }
   ],
   "source": [
    "x[0,0,0]"
   ]
  },
  {
   "cell_type": "code",
   "execution_count": 17,
   "id": "051e92e5-7d64-4d0d-bd9b-43b785746736",
   "metadata": {},
   "outputs": [
    {
     "data": {
      "text/plain": [
       "tensor(9)"
      ]
     },
     "execution_count": 17,
     "metadata": {},
     "output_type": "execute_result"
    }
   ],
   "source": [
    "x[0][2][2]"
   ]
  },
  {
   "cell_type": "code",
   "execution_count": 18,
   "id": "5f5acc83-885d-43b6-b055-90b322d6c1dd",
   "metadata": {},
   "outputs": [
    {
     "data": {
      "text/plain": [
       "tensor(9)"
      ]
     },
     "execution_count": 18,
     "metadata": {},
     "output_type": "execute_result"
    }
   ],
   "source": [
    "x[0,2,2]"
   ]
  },
  {
   "cell_type": "code",
   "execution_count": 19,
   "id": "ecb6f3fc-e325-4185-9319-9e87f1e21b90",
   "metadata": {},
   "outputs": [
    {
     "data": {
      "text/plain": [
       "tensor([2, 5, 8])"
      ]
     },
     "execution_count": 19,
     "metadata": {},
     "output_type": "execute_result"
    }
   ],
   "source": [
    "#accessing all the target dimesion\n",
    "x[0,:,1]"
   ]
  },
  {
   "cell_type": "code",
   "execution_count": 20,
   "id": "6e815cdc-9c3f-47c2-a063-4225e1408bc8",
   "metadata": {},
   "outputs": [
    {
     "data": {
      "text/plain": [
       "tensor([4, 5, 6])"
      ]
     },
     "execution_count": 20,
     "metadata": {},
     "output_type": "execute_result"
    }
   ],
   "source": [
    "x[0,1,:]"
   ]
  },
  {
   "cell_type": "code",
   "execution_count": 22,
   "id": "8f2e8e7e-1675-407f-91c2-05d0bfefc95c",
   "metadata": {},
   "outputs": [
    {
     "data": {
      "text/plain": [
       "tensor([[1, 2, 3]])"
      ]
     },
     "execution_count": 22,
     "metadata": {},
     "output_type": "execute_result"
    }
   ],
   "source": [
    "x[:,0]"
   ]
  },
  {
   "cell_type": "code",
   "execution_count": 24,
   "id": "dbd9b815-db09-4c69-a9a4-f5470d742c04",
   "metadata": {},
   "outputs": [
    {
     "data": {
      "text/plain": [
       "tensor(9)"
      ]
     },
     "execution_count": 24,
     "metadata": {},
     "output_type": "execute_result"
    }
   ],
   "source": [
    "x[0,2,2]"
   ]
  },
  {
   "cell_type": "code",
   "execution_count": 25,
   "id": "8ff3693e-5330-4261-9b3c-083cf9d6a65c",
   "metadata": {},
   "outputs": [
    {
     "data": {
      "text/plain": [
       "tensor([[3, 6, 9]])"
      ]
     },
     "execution_count": 25,
     "metadata": {},
     "output_type": "execute_result"
    }
   ],
   "source": [
    "x[:,:,2]"
   ]
  },
  {
   "cell_type": "code",
   "execution_count": null,
   "id": "5303bec9-00f1-4c0e-8b1e-bb420a54637e",
   "metadata": {},
   "outputs": [],
   "source": []
  }
 ],
 "metadata": {
  "kernelspec": {
   "display_name": "Python 3 (ipykernel)",
   "language": "python",
   "name": "python3"
  },
  "language_info": {
   "codemirror_mode": {
    "name": "ipython",
    "version": 3
   },
   "file_extension": ".py",
   "mimetype": "text/x-python",
   "name": "python",
   "nbconvert_exporter": "python",
   "pygments_lexer": "ipython3",
   "version": "3.8.18"
  }
 },
 "nbformat": 4,
 "nbformat_minor": 5
}
